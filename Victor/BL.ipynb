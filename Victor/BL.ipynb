{
 "cells": [
  {
   "cell_type": "markdown",
   "metadata": {},
   "source": [
    "# Black-Litterman allocation\n",
    "\n",
    "The Black-Litterman method is a very powerful way of converting your views on asset returns, along with your uncertainty in these views, into a portfolio.\n",
    "\n",
    "For a description of the theory, please read the [documentation page](https://pyportfolioopt.readthedocs.io/en/latest/BlackLitterman.html) and the links therein.\n",
    "\n",
    "In addition to price data, constructing a market prior requires market-caps. "
   ]
  },
  {
   "cell_type": "code",
   "execution_count": 1,
   "metadata": {},
   "outputs": [],
   "source": [
    "import yfinance as yf\n",
    "from pathlib import Path\n",
    "import matplotlib.pyplot as plt\n",
    "import pandas as pd\n",
    "import numpy as np"
   ]
  },
  {
   "cell_type": "code",
   "execution_count": 2,
   "metadata": {},
   "outputs": [],
   "source": [
    "stock_path = Path(\"../Resources/stock_prices.csv\")\n",
    "stock_prices = pd.read_csv(stock_path, infer_datetime_format = True, parse_dates = True, index_col = \"Date\")"
   ]
  },
  {
   "cell_type": "code",
   "execution_count": 3,
   "metadata": {},
   "outputs": [],
   "source": [
    "crypto_path = Path(\"../Resources/crypto_prices.csv\")\n",
    "crypto_prices = pd.read_csv(crypto_path, infer_datetime_format = True, parse_dates = True, index_col = \"Date\")"
   ]
  },
  {
   "cell_type": "code",
   "execution_count": 4,
   "metadata": {},
   "outputs": [],
   "source": [
    "market_prices = stock_prices['SPY']\n",
    "stock_prices.drop(columns = 'SPY', inplace = True)\n",
    "prices = stock_prices.join(crypto_prices)"
   ]
  },
  {
   "cell_type": "code",
   "execution_count": 5,
   "metadata": {},
   "outputs": [],
   "source": [
    "market_path = Path(\"../Resources/market_caps.csv\")\n",
    "market_caps = pd.read_csv(market_path)"
   ]
  },
  {
   "cell_type": "code",
   "execution_count": 6,
   "metadata": {},
   "outputs": [
    {
     "data": {
      "text/html": [
       "<div>\n",
       "<style scoped>\n",
       "    .dataframe tbody tr th:only-of-type {\n",
       "        vertical-align: middle;\n",
       "    }\n",
       "\n",
       "    .dataframe tbody tr th {\n",
       "        vertical-align: top;\n",
       "    }\n",
       "\n",
       "    .dataframe thead th {\n",
       "        text-align: right;\n",
       "    }\n",
       "</style>\n",
       "<table border=\"1\" class=\"dataframe\">\n",
       "  <thead>\n",
       "    <tr style=\"text-align: right;\">\n",
       "      <th></th>\n",
       "      <th>AMC</th>\n",
       "      <th>AMD</th>\n",
       "      <th>BABA</th>\n",
       "      <th>BB</th>\n",
       "      <th>BBBY</th>\n",
       "      <th>GME</th>\n",
       "      <th>MVIS</th>\n",
       "      <th>NVDA</th>\n",
       "      <th>TSLA</th>\n",
       "      <th>BTC</th>\n",
       "      <th>BCH</th>\n",
       "      <th>ETH</th>\n",
       "      <th>ETC</th>\n",
       "      <th>LTC</th>\n",
       "      <th>XRP</th>\n",
       "      <th>DOGE</th>\n",
       "    </tr>\n",
       "    <tr>\n",
       "      <th>Date</th>\n",
       "      <th></th>\n",
       "      <th></th>\n",
       "      <th></th>\n",
       "      <th></th>\n",
       "      <th></th>\n",
       "      <th></th>\n",
       "      <th></th>\n",
       "      <th></th>\n",
       "      <th></th>\n",
       "      <th></th>\n",
       "      <th></th>\n",
       "      <th></th>\n",
       "      <th></th>\n",
       "      <th></th>\n",
       "      <th></th>\n",
       "      <th></th>\n",
       "    </tr>\n",
       "  </thead>\n",
       "  <tbody>\n",
       "    <tr>\n",
       "      <th>2017-08-01</th>\n",
       "      <td>16.469416</td>\n",
       "      <td>13.71</td>\n",
       "      <td>154.729996</td>\n",
       "      <td>9.51</td>\n",
       "      <td>26.660824</td>\n",
       "      <td>17.939491</td>\n",
       "      <td>2.25</td>\n",
       "      <td>162.812164</td>\n",
       "      <td>63.914001</td>\n",
       "      <td>2718.26</td>\n",
       "      <td>380.01</td>\n",
       "      <td>226.77</td>\n",
       "      <td>14.57</td>\n",
       "      <td>43.04</td>\n",
       "      <td>0.18</td>\n",
       "      <td>0.001792</td>\n",
       "    </tr>\n",
       "    <tr>\n",
       "      <th>2017-08-02</th>\n",
       "      <td>12.035346</td>\n",
       "      <td>13.37</td>\n",
       "      <td>151.910004</td>\n",
       "      <td>9.50</td>\n",
       "      <td>26.421677</td>\n",
       "      <td>17.956287</td>\n",
       "      <td>2.31</td>\n",
       "      <td>162.713196</td>\n",
       "      <td>65.178001</td>\n",
       "      <td>2710.67</td>\n",
       "      <td>452.66</td>\n",
       "      <td>219.95</td>\n",
       "      <td>14.77</td>\n",
       "      <td>42.13</td>\n",
       "      <td>0.17</td>\n",
       "      <td>0.001788</td>\n",
       "    </tr>\n",
       "    <tr>\n",
       "      <th>2017-08-03</th>\n",
       "      <td>11.956165</td>\n",
       "      <td>13.24</td>\n",
       "      <td>153.320007</td>\n",
       "      <td>9.42</td>\n",
       "      <td>27.050552</td>\n",
       "      <td>18.191450</td>\n",
       "      <td>2.45</td>\n",
       "      <td>164.781860</td>\n",
       "      <td>69.417999</td>\n",
       "      <td>2804.73</td>\n",
       "      <td>364.05</td>\n",
       "      <td>225.34</td>\n",
       "      <td>15.37</td>\n",
       "      <td>42.86</td>\n",
       "      <td>0.17</td>\n",
       "      <td>0.001795</td>\n",
       "    </tr>\n",
       "    <tr>\n",
       "      <th>2017-08-04</th>\n",
       "      <td>12.866734</td>\n",
       "      <td>13.12</td>\n",
       "      <td>153.330002</td>\n",
       "      <td>9.44</td>\n",
       "      <td>26.660824</td>\n",
       "      <td>18.418217</td>\n",
       "      <td>2.47</td>\n",
       "      <td>165.504440</td>\n",
       "      <td>71.382004</td>\n",
       "      <td>2895.89</td>\n",
       "      <td>233.05</td>\n",
       "      <td>223.07</td>\n",
       "      <td>15.04</td>\n",
       "      <td>43.45</td>\n",
       "      <td>0.17</td>\n",
       "      <td>0.001820</td>\n",
       "    </tr>\n",
       "    <tr>\n",
       "      <th>2017-08-07</th>\n",
       "      <td>12.747964</td>\n",
       "      <td>13.43</td>\n",
       "      <td>158.839996</td>\n",
       "      <td>9.10</td>\n",
       "      <td>27.139126</td>\n",
       "      <td>18.619781</td>\n",
       "      <td>2.52</td>\n",
       "      <td>170.591980</td>\n",
       "      <td>71.033997</td>\n",
       "      <td>3378.94</td>\n",
       "      <td>319.69</td>\n",
       "      <td>269.18</td>\n",
       "      <td>15.31</td>\n",
       "      <td>45.80</td>\n",
       "      <td>0.18</td>\n",
       "      <td>0.001949</td>\n",
       "    </tr>\n",
       "  </tbody>\n",
       "</table>\n",
       "</div>"
      ],
      "text/plain": [
       "                  AMC    AMD        BABA    BB       BBBY        GME  MVIS  \\\n",
       "Date                                                                         \n",
       "2017-08-01  16.469416  13.71  154.729996  9.51  26.660824  17.939491  2.25   \n",
       "2017-08-02  12.035346  13.37  151.910004  9.50  26.421677  17.956287  2.31   \n",
       "2017-08-03  11.956165  13.24  153.320007  9.42  27.050552  18.191450  2.45   \n",
       "2017-08-04  12.866734  13.12  153.330002  9.44  26.660824  18.418217  2.47   \n",
       "2017-08-07  12.747964  13.43  158.839996  9.10  27.139126  18.619781  2.52   \n",
       "\n",
       "                  NVDA       TSLA      BTC     BCH     ETH    ETC    LTC  \\\n",
       "Date                                                                       \n",
       "2017-08-01  162.812164  63.914001  2718.26  380.01  226.77  14.57  43.04   \n",
       "2017-08-02  162.713196  65.178001  2710.67  452.66  219.95  14.77  42.13   \n",
       "2017-08-03  164.781860  69.417999  2804.73  364.05  225.34  15.37  42.86   \n",
       "2017-08-04  165.504440  71.382004  2895.89  233.05  223.07  15.04  43.45   \n",
       "2017-08-07  170.591980  71.033997  3378.94  319.69  269.18  15.31  45.80   \n",
       "\n",
       "             XRP      DOGE  \n",
       "Date                        \n",
       "2017-08-01  0.18  0.001792  \n",
       "2017-08-02  0.17  0.001788  \n",
       "2017-08-03  0.17  0.001795  \n",
       "2017-08-04  0.17  0.001820  \n",
       "2017-08-07  0.18  0.001949  "
      ]
     },
     "execution_count": 6,
     "metadata": {},
     "output_type": "execute_result"
    }
   ],
   "source": [
    "prices.head()"
   ]
  },
  {
   "cell_type": "code",
   "execution_count": 7,
   "metadata": {},
   "outputs": [],
   "source": [
    "mcaps = dict(market_caps.values)"
   ]
  },
  {
   "cell_type": "code",
   "execution_count": 8,
   "metadata": {},
   "outputs": [],
   "source": [
    "del mcaps['SPY']"
   ]
  },
  {
   "cell_type": "code",
   "execution_count": 9,
   "metadata": {},
   "outputs": [
    {
     "data": {
      "text/plain": [
       "{'GME': 14821737472.0,\n",
       " 'AMC': 7389094912.0,\n",
       " 'TSLA': 582516000000.0,\n",
       " 'BB': 4814926848.0,\n",
       " 'NVDA': 374079000000.0,\n",
       " 'BBBY': 2531467520.0,\n",
       " 'MVIS': 2468789760.0,\n",
       " 'BABA': 574829000000.0,\n",
       " 'AMD': 94601461760.0,\n",
       " 'BTC': 763196000000.0,\n",
       " 'BCH': 15398498102.0,\n",
       " 'ETH': 322857000000.0,\n",
       " 'ETC': 8613669767.0,\n",
       " 'LTC': 14169944716.0,\n",
       " 'XRP': 54695173849.0,\n",
       " 'DOGE': 51897302336.0}"
      ]
     },
     "execution_count": 9,
     "metadata": {},
     "output_type": "execute_result"
    }
   ],
   "source": [
    "mcaps"
   ]
  },
  {
   "cell_type": "markdown",
   "metadata": {},
   "source": [
    "## Constructing the prior"
   ]
  },
  {
   "cell_type": "code",
   "execution_count": 10,
   "metadata": {},
   "outputs": [
    {
     "data": {
      "text/plain": [
       "'1.4.1'"
      ]
     },
     "execution_count": 10,
     "metadata": {},
     "output_type": "execute_result"
    }
   ],
   "source": [
    "import pypfopt\n",
    "pypfopt.__version__"
   ]
  },
  {
   "cell_type": "code",
   "execution_count": 11,
   "metadata": {},
   "outputs": [
    {
     "data": {
      "text/plain": [
       "3.581424530527258"
      ]
     },
     "execution_count": 11,
     "metadata": {},
     "output_type": "execute_result"
    }
   ],
   "source": [
    "from pypfopt import black_litterman, risk_models\n",
    "from pypfopt import BlackLittermanModel, plotting\n",
    "\n",
    "S = risk_models.CovarianceShrinkage(prices).ledoit_wolf()\n",
    "delta = black_litterman.market_implied_risk_aversion(market_prices)\n",
    "delta"
   ]
  },
  {
   "cell_type": "code",
   "execution_count": 12,
   "metadata": {},
   "outputs": [
    {
     "data": {
      "image/png": "[encoded data removed]",
      "text/plain": [
       "<Figure size 432x288 with 2 Axes>"
      ]
     },
     "metadata": {
      "needs_background": "light"
     },
     "output_type": "display_data"
    }
   ],
   "source": [
    "plotting.plot_covariance(S, plot_correlation=True);"
   ]
  },
  {
   "cell_type": "code",
   "execution_count": 13,
   "metadata": {},
   "outputs": [
    {
     "data": {
      "text/plain": [
       "AMC     0.119993\n",
       "AMD     0.332124\n",
       "BABA    0.482378\n",
       "BB      0.207036\n",
       "BBBY    0.163940\n",
       "GME     0.183613\n",
       "MVIS    0.275904\n",
       "NVDA    0.503221\n",
       "TSLA    0.700524\n",
       "BTC     1.157901\n",
       "BCH     0.933709\n",
       "ETH     1.106595\n",
       "ETC     0.847919\n",
       "LTC     0.934931\n",
       "XRP     0.884940\n",
       "DOGE    1.088490\n",
       "dtype: float64"
      ]
     },
     "execution_count": 13,
     "metadata": {},
     "output_type": "execute_result"
    }
   ],
   "source": [
    "market_prior = black_litterman.market_implied_prior_returns(mcaps, delta, S)\n",
    "market_prior"
   ]
  },
  {
   "cell_type": "code",
   "execution_count": 14,
   "metadata": {},
   "outputs": [
    {
     "data": {
      "image/png": "[encoded data removed]",
      "text/plain": [
       "<Figure size 720x360 with 1 Axes>"
      ]
     },
     "metadata": {
      "needs_background": "light"
     },
     "output_type": "display_data"
    }
   ],
   "source": [
    "market_prior.plot.barh(figsize=(10,5));"
   ]
  },
  {
   "cell_type": "markdown",
   "metadata": {},
   "source": [
    "## Views\n",
    "\n",
    "In the BL method, views are specified via the matrix P (picking matrix) and the vector Q. Q contains the magnitude of each view, while P maps the views to the assets they belong to. \n",
    "\n",
    "If you are providing **absolute views** (i.e a return estimate for each asset), you don't have to worry about P and Q, you can just pass your views as a dictionary."
   ]
  },
  {
   "cell_type": "code",
   "execution_count": null,
   "metadata": {},
   "outputs": [],
   "source": [
    "# You don't have to provide views on all the assets\n",
    "viewdict = {\n",
    "    \"AMZN\": 0.10,\n",
    "    \"BAC\": 0.30,\n",
    "    \"COST\": 0.05,\n",
    "    \"DIS\": 0.05,\n",
    "    \"DPZ\": 0.20,\n",
    "    \"KO\": -0.05,  # I think Coca-Cola will go down 5%\n",
    "    \"MCD\": 0.15,\n",
    "    \"MSFT\": 0.10,\n",
    "    \"NAT\": 0.50,  # but low confidence, which will be reflected later\n",
    "    \"SBUX\": 0.10\n",
    "}\n",
    "\n",
    "bl = BlackLittermanModel(S, pi=market_prior, absolute_views=viewdict)"
   ]
  },
  {
   "cell_type": "code",
   "execution_count": null,
   "metadata": {},
   "outputs": [],
   "source": [
    "#     SBUX will drop 20% (absolute)\n",
    "#     MSFT will rise by 5% (absolute)\n",
    "#     GOOG outperforms FB by 10%\n",
    "#     BAC and JPM will outperform T and GE by 15%\n",
    "\n",
    "# Q = np.array([-0.20, 0.05, 0.10, 0.15]).reshape(-1, 1)\n",
    "\n",
    "# P = np.array(\n",
    "#     [\n",
    "#         [1, 0, 0, 0, 0, 0, 0, 0, 0, 0],\n",
    "#         [0, 0, 0, 0, 0, 0, 0, 0, 1, 0],\n",
    "#         [0, 1, -1, 0, 0, 0, 0, 0, 0, 0],\n",
    "#         [0, 0, 0, 0, 0.5, 0.5, -0.5, -0.5, 0, 0],\n",
    "#     ]\n",
    "# )\n"
   ]
  },
  {
   "cell_type": "code",
   "execution_count": 15,
   "metadata": {},
   "outputs": [],
   "source": [
    "# BTC will rise by 10%\n",
    "# GME will outperfrom NVDA by 20%\n",
    "# ETH will outperform ETC by 5%\n",
    "# BB will fall 20%\n",
    "\n",
    "Q = np.array([0.10, 0.20, 0.05, -0.20]).reshape(-1, 1)\n",
    "\n",
    "P = np.array(\n",
    "    [\n",
    "        [0, 0, 0, 0, 0, 0, 0, 0, 0, 1, 0, 0, 0, 0, 0, 0],\n",
    "        [0, 0, 0, 0, 0, 1, 0, -1, 0, 0, 0, 0, 0, 0, 0, 0],\n",
    "        [0, 0, 0, 0, 0, 0, 0, 0, 0, 0, 0, 1, -1, 0, 0, 0],\n",
    "        [0, 0, 0, 1, 0, 0, 0, 0, 0, 0, 0, 0, 0, 0, 0, 0],\n",
    "        \n",
    "    ]\n",
    ")"
   ]
  },
  {
   "cell_type": "markdown",
   "metadata": {},
   "source": [
    "Black-Litterman also allows for relative views, e.g you think asset A will outperform asset B by 10%. If you'd like to incorporate these, you will have to build P and Q yourself. An explanation for this is given in the [docs](https://pyportfolioopt.readthedocs.io/en/latest/BlackLitterman.html#views)."
   ]
  },
  {
   "cell_type": "markdown",
   "metadata": {},
   "source": [
    "## View confidences\n",
    "\n",
    "In this section, we provide two ways that you may wish to construct the uncertainty matrix. The first is known as Idzorek's method. It allows you to specify a vector/list of percentage confidences."
   ]
  },
  {
   "cell_type": "code",
   "execution_count": 16,
   "metadata": {},
   "outputs": [],
   "source": [
    "confidences = [\n",
    "    0.6,\n",
    "    0.4,\n",
    "    0.2,\n",
    "    0.5,\n",
    "    0.7, # confident in dominos\n",
    "    0.7, # confident KO will do poorly\n",
    "    0.7, \n",
    "    0.5,\n",
    "    0.1,\n",
    "    0.4\n",
    "]"
   ]
  },
  {
   "cell_type": "code",
   "execution_count": 41,
   "metadata": {},
   "outputs": [],
   "source": [
    "confidences = [\n",
    "    0.6,\n",
    "    0.4,\n",
    "    0.2,\n",
    "    0.5\n",
    "]"
   ]
  },
  {
   "cell_type": "code",
   "execution_count": 42,
   "metadata": {},
   "outputs": [],
   "source": [
    "bl = BlackLittermanModel(S, pi=market_prior, view_confidences = confidences, omega=\"idzorek\", Q = Q, P = P)"
   ]
  },
  {
   "cell_type": "code",
   "execution_count": 43,
   "metadata": {},
   "outputs": [
    {
     "data": {
      "text/plain": [
       "array([[0.02900924, 0.        , 0.        , 0.        ],\n",
       "       [0.        , 0.19773586, 0.        , 0.        ],\n",
       "       [0.        , 0.        , 0.28187368, 0.        ],\n",
       "       [0.        , 0.        , 0.        , 0.03535533]])"
      ]
     },
     "execution_count": 43,
     "metadata": {},
     "output_type": "execute_result"
    }
   ],
   "source": [
    "bl.omega"
   ]
  },
  {
   "cell_type": "code",
   "execution_count": 44,
   "metadata": {},
   "outputs": [
    {
     "data": {
      "image/png": "[encoded data removed]",
      "text/plain": [
       "<Figure size 504x504 with 1 Axes>"
      ]
     },
     "metadata": {
      "needs_background": "light"
     },
     "output_type": "display_data"
    }
   ],
   "source": [
    "fig, ax = plt.subplots(figsize=(7,7))\n",
    "im = ax.imshow(bl.omega)\n",
    "\n",
    "# We want to show all ticks...\n",
    "ax.set_xticks(np.arange(len(bl.tickers)))\n",
    "ax.set_yticks(np.arange(len(bl.tickers)))\n",
    "\n",
    "ax.set_xticklabels(bl.tickers)\n",
    "ax.set_yticklabels(bl.tickers)\n",
    "plt.show()"
   ]
  },
  {
   "cell_type": "code",
   "execution_count": 45,
   "metadata": {},
   "outputs": [
    {
     "data": {
      "text/plain": [
       "array([0.02900924, 0.19773586, 0.28187368, 0.03535533])"
      ]
     },
     "execution_count": 45,
     "metadata": {},
     "output_type": "execute_result"
    }
   ],
   "source": [
    "np.diag(bl.omega)"
   ]
  },
  {
   "cell_type": "markdown",
   "metadata": {},
   "source": [
    "Note how NAT, which we gave the lowest confidence, also has the highest uncertainty.\n",
    "\n",
    "Instead of inputting confidences, we can calculate the uncertainty matrix directly by specifying 1 standard deviation confidence intervals, i.e bounds which we think will contain the true return 68% of the time. This may be easier than coming up with somewhat arbitrary percentage confidences"
   ]
  },
  {
   "cell_type": "code",
   "execution_count": 16,
   "metadata": {},
   "outputs": [],
   "source": [
    "intervals = [\n",
    "    (0, 0.25),\n",
    "    (0.1, 0.4),\n",
    "    (-0.1, 0.15),\n",
    "    (-0.05, 0.1),\n",
    "    (0.15, 0.25),\n",
    "    (-0.1, 0),\n",
    "    (0.1, 0.2),\n",
    "    (0.08, 0.12),\n",
    "    (0.1, 0.9),\n",
    "    (0, 0.3)\n",
    "]"
   ]
  },
  {
   "cell_type": "code",
   "execution_count": 17,
   "metadata": {},
   "outputs": [
    {
     "name": "stdout",
     "output_type": "stream",
     "text": [
      "[0.015625, 0.022500000000000006, 0.015625, 0.0056250000000000015, 0.0025000000000000005, 0.0025000000000000005, 0.0025000000000000005, 0.00039999999999999986, 0.16000000000000003, 0.0225]\n"
     ]
    }
   ],
   "source": [
    "variances = []\n",
    "for lb, ub in intervals:\n",
    "    sigma = (ub - lb)/2\n",
    "    variances.append(sigma ** 2)\n",
    "\n",
    "print(variances)\n",
    "omega = np.diag(variances)"
   ]
  },
  {
   "cell_type": "markdown",
   "metadata": {},
   "source": [
    "## Posterior estimates\n",
    "\n",
    "Given the inputs, we can compute a posterior estimate of returns\n"
   ]
  },
  {
   "cell_type": "code",
   "execution_count": 46,
   "metadata": {},
   "outputs": [
    {
     "ename": "NameError",
     "evalue": "name 'viewdict' is not defined",
     "output_type": "error",
     "traceback": [
      "\u001b[1;31m---------------------------------------------------------------------------\u001b[0m",
      "\u001b[1;31mNameError\u001b[0m                                 Traceback (most recent call last)",
      "\u001b[1;32m<ipython-input-46-e57f4d9015f5>\u001b[0m in \u001b[0;36m<module>\u001b[1;34m\u001b[0m\n\u001b[0;32m      1\u001b[0m \u001b[1;31m# We are using the shortcut to automatically compute market-implied prior\u001b[0m\u001b[1;33m\u001b[0m\u001b[1;33m\u001b[0m\u001b[1;33m\u001b[0m\u001b[0m\n\u001b[0;32m      2\u001b[0m bl = BlackLittermanModel(S, pi=\"market\", market_caps=mcaps, risk_aversion=delta,\n\u001b[1;32m----> 3\u001b[1;33m                         absolute_views=viewdict, omega=omega)\n\u001b[0m",
      "\u001b[1;31mNameError\u001b[0m: name 'viewdict' is not defined"
     ]
    }
   ],
   "source": [
    "# We are using the shortcut to automatically compute market-implied prior\n",
    "bl = BlackLittermanModel(S, pi=\"market\", market_caps=mcaps, risk_aversion=delta,\n",
    "                        absolute_views=viewdict, omega=omega)"
   ]
  },
  {
   "cell_type": "code",
   "execution_count": 47,
   "metadata": {},
   "outputs": [
    {
     "data": {
      "text/plain": [
       "AMC     0.127875\n",
       "AMD     0.277525\n",
       "BABA    0.451321\n",
       "BB      0.002306\n",
       "BBBY    0.135364\n",
       "GME     0.272672\n",
       "MVIS    0.199136\n",
       "NVDA    0.402668\n",
       "TSLA    0.647520\n",
       "BTC     0.518487\n",
       "BCH     0.582730\n",
       "ETH     0.761950\n",
       "ETC     0.566435\n",
       "LTC     0.590944\n",
       "XRP     0.616281\n",
       "DOGE    0.817350\n",
       "dtype: float64"
      ]
     },
     "execution_count": 47,
     "metadata": {},
     "output_type": "execute_result"
    }
   ],
   "source": [
    "# Posterior estimate of returns\n",
    "ret_bl = bl.bl_returns()\n",
    "ret_bl"
   ]
  },
  {
   "cell_type": "markdown",
   "metadata": {},
   "source": [
    "We can visualise how this compares to the prior and our views:"
   ]
  },
  {
   "cell_type": "code",
   "execution_count": 49,
   "metadata": {},
   "outputs": [
    {
     "data": {
      "text/html": [
       "<div>\n",
       "<style scoped>\n",
       "    .dataframe tbody tr th:only-of-type {\n",
       "        vertical-align: middle;\n",
       "    }\n",
       "\n",
       "    .dataframe tbody tr th {\n",
       "        vertical-align: top;\n",
       "    }\n",
       "\n",
       "    .dataframe thead th {\n",
       "        text-align: right;\n",
       "    }\n",
       "</style>\n",
       "<table border=\"1\" class=\"dataframe\">\n",
       "  <thead>\n",
       "    <tr style=\"text-align: right;\">\n",
       "      <th></th>\n",
       "      <th>Prior</th>\n",
       "      <th>Posterior</th>\n",
       "    </tr>\n",
       "  </thead>\n",
       "  <tbody>\n",
       "    <tr>\n",
       "      <th>AMC</th>\n",
       "      <td>0.119993</td>\n",
       "      <td>0.127875</td>\n",
       "    </tr>\n",
       "    <tr>\n",
       "      <th>AMD</th>\n",
       "      <td>0.332124</td>\n",
       "      <td>0.277525</td>\n",
       "    </tr>\n",
       "    <tr>\n",
       "      <th>BABA</th>\n",
       "      <td>0.482378</td>\n",
       "      <td>0.451321</td>\n",
       "    </tr>\n",
       "    <tr>\n",
       "      <th>BB</th>\n",
       "      <td>0.207036</td>\n",
       "      <td>0.002306</td>\n",
       "    </tr>\n",
       "    <tr>\n",
       "      <th>BBBY</th>\n",
       "      <td>0.163940</td>\n",
       "      <td>0.135364</td>\n",
       "    </tr>\n",
       "    <tr>\n",
       "      <th>GME</th>\n",
       "      <td>0.183613</td>\n",
       "      <td>0.272672</td>\n",
       "    </tr>\n",
       "    <tr>\n",
       "      <th>MVIS</th>\n",
       "      <td>0.275904</td>\n",
       "      <td>0.199136</td>\n",
       "    </tr>\n",
       "    <tr>\n",
       "      <th>NVDA</th>\n",
       "      <td>0.503221</td>\n",
       "      <td>0.402668</td>\n",
       "    </tr>\n",
       "    <tr>\n",
       "      <th>TSLA</th>\n",
       "      <td>0.700524</td>\n",
       "      <td>0.647520</td>\n",
       "    </tr>\n",
       "    <tr>\n",
       "      <th>BTC</th>\n",
       "      <td>1.157901</td>\n",
       "      <td>0.518487</td>\n",
       "    </tr>\n",
       "    <tr>\n",
       "      <th>BCH</th>\n",
       "      <td>0.933709</td>\n",
       "      <td>0.582730</td>\n",
       "    </tr>\n",
       "    <tr>\n",
       "      <th>ETH</th>\n",
       "      <td>1.106595</td>\n",
       "      <td>0.761950</td>\n",
       "    </tr>\n",
       "    <tr>\n",
       "      <th>ETC</th>\n",
       "      <td>0.847919</td>\n",
       "      <td>0.566435</td>\n",
       "    </tr>\n",
       "    <tr>\n",
       "      <th>LTC</th>\n",
       "      <td>0.934931</td>\n",
       "      <td>0.590944</td>\n",
       "    </tr>\n",
       "    <tr>\n",
       "      <th>XRP</th>\n",
       "      <td>0.884940</td>\n",
       "      <td>0.616281</td>\n",
       "    </tr>\n",
       "    <tr>\n",
       "      <th>DOGE</th>\n",
       "      <td>1.088490</td>\n",
       "      <td>0.817350</td>\n",
       "    </tr>\n",
       "  </tbody>\n",
       "</table>\n",
       "</div>"
      ],
      "text/plain": [
       "         Prior  Posterior\n",
       "AMC   0.119993   0.127875\n",
       "AMD   0.332124   0.277525\n",
       "BABA  0.482378   0.451321\n",
       "BB    0.207036   0.002306\n",
       "BBBY  0.163940   0.135364\n",
       "GME   0.183613   0.272672\n",
       "MVIS  0.275904   0.199136\n",
       "NVDA  0.503221   0.402668\n",
       "TSLA  0.700524   0.647520\n",
       "BTC   1.157901   0.518487\n",
       "BCH   0.933709   0.582730\n",
       "ETH   1.106595   0.761950\n",
       "ETC   0.847919   0.566435\n",
       "LTC   0.934931   0.590944\n",
       "XRP   0.884940   0.616281\n",
       "DOGE  1.088490   0.817350"
      ]
     },
     "execution_count": 49,
     "metadata": {},
     "output_type": "execute_result"
    }
   ],
   "source": [
    "rets_df = pd.DataFrame([market_prior, ret_bl], \n",
    "             index=[\"Prior\", \"Posterior\"]).T\n",
    "rets_df"
   ]
  },
  {
   "cell_type": "code",
   "execution_count": 50,
   "metadata": {},
   "outputs": [
    {
     "data": {
      "image/png": "[encoded data removed]",
      "text/plain": [
       "<Figure size 864x576 with 1 Axes>"
      ]
     },
     "metadata": {
      "needs_background": "light"
     },
     "output_type": "display_data"
    }
   ],
   "source": [
    "rets_df.plot.bar(figsize=(12,8));"
   ]
  },
  {
   "cell_type": "markdown",
   "metadata": {},
   "source": [
    "Notice that the posterior is often between the prior and the views. This supports the fact that the BL method is essentially a Bayesian weighted-average of the prior and views, where the weight is determined by the confidence.\n",
    "\n",
    "A similar but less intuitive procedure can be used to produce the posterior covariance estimate:"
   ]
  },
  {
   "cell_type": "code",
   "execution_count": 51,
   "metadata": {},
   "outputs": [
    {
     "data": {
      "image/png": "[encoded data removed]",
      "text/plain": [
       "<Figure size 432x288 with 2 Axes>"
      ]
     },
     "metadata": {
      "needs_background": "light"
     },
     "output_type": "display_data"
    }
   ],
   "source": [
    "S_bl = bl.bl_cov()\n",
    "plotting.plot_covariance(S_bl);"
   ]
  },
  {
   "cell_type": "markdown",
   "metadata": {},
   "source": [
    "## Portfolio allocation\n",
    "\n",
    "Now that we have constructed our Black-Litterman posterior estimate, we can proceed to use any of the optimizers discussed in previous recipes."
   ]
  },
  {
   "cell_type": "code",
   "execution_count": 52,
   "metadata": {},
   "outputs": [],
   "source": [
    "from pypfopt import EfficientFrontier, objective_functions"
   ]
  },
  {
   "cell_type": "code",
   "execution_count": 53,
   "metadata": {},
   "outputs": [
    {
     "name": "stderr",
     "output_type": "stream",
     "text": [
      "C:\\Users\\Victor\\anaconda3\\envs\\aa\\lib\\site-packages\\pypfopt\\efficient_frontier\\efficient_frontier.py:248: UserWarning: max_sharpe transforms the optimization problem so additional objectives may not work as expected.\n",
      "  \"max_sharpe transforms the optimization problem so additional objectives may not work as expected.\"\n"
     ]
    },
    {
     "data": {
      "text/plain": [
       "OrderedDict([('AMC', 0.00097),\n",
       "             ('AMD', 0.05678),\n",
       "             ('BABA', 0.15725),\n",
       "             ('BB', 0.0),\n",
       "             ('BBBY', 0.01258),\n",
       "             ('GME', 0.03874),\n",
       "             ('MVIS', 0.01277),\n",
       "             ('NVDA', 0.10952),\n",
       "             ('TSLA', 0.19869),\n",
       "             ('BTC', 0.08152),\n",
       "             ('BCH', 0.02959),\n",
       "             ('ETH', 0.12116),\n",
       "             ('ETC', 0.03717),\n",
       "             ('LTC', 0.0436),\n",
       "             ('XRP', 0.05022),\n",
       "             ('DOGE', 0.04942)])"
      ]
     },
     "execution_count": 53,
     "metadata": {},
     "output_type": "execute_result"
    }
   ],
   "source": [
    "ef = EfficientFrontier(ret_bl, S_bl)\n",
    "ef.add_objective(objective_functions.L2_reg)\n",
    "ef.max_sharpe()\n",
    "weights = ef.clean_weights()\n",
    "weights"
   ]
  },
  {
   "cell_type": "code",
   "execution_count": 54,
   "metadata": {},
   "outputs": [
    {
     "name": "stderr",
     "output_type": "stream",
     "text": [
      "C:\\Users\\Victor\\anaconda3\\envs\\aa\\lib\\site-packages\\pandas\\plotting\\_matplotlib\\core.py:1583: MatplotlibDeprecationWarning: normalize=None does not normalize if the sum is less than 1 but this behavior is deprecated since 3.3 until two minor releases later. After the deprecation period the default value will be normalize=True. To prevent normalization pass normalize=False \n",
      "  results = ax.pie(y, labels=blabels, **kwds)\n"
     ]
    },
    {
     "data": {
      "image/png": "[encoded data removed]",
      "text/plain": [
       "<Figure size 720x720 with 1 Axes>"
      ]
     },
     "metadata": {},
     "output_type": "display_data"
    }
   ],
   "source": [
    "pd.Series(weights).plot.pie(figsize=(10,10));"
   ]
  },
  {
   "cell_type": "code",
   "execution_count": 55,
   "metadata": {},
   "outputs": [
    {
     "name": "stdout",
     "output_type": "stream",
     "text": [
      "Leftover: $256.63\n"
     ]
    },
    {
     "data": {
      "text/plain": [
       "{'AMC': 2,\n",
       " 'AMD': 15,\n",
       " 'BABA': 15,\n",
       " 'BBBY': 11,\n",
       " 'GME': 5,\n",
       " 'MVIS': 18,\n",
       " 'NVDA': 4,\n",
       " 'TSLA': 7,\n",
       " 'BCH': 1,\n",
       " 'ETH': 1,\n",
       " 'ETC': 11,\n",
       " 'LTC': 5,\n",
       " 'XRP': 845,\n",
       " 'DOGE': 2471}"
      ]
     },
     "execution_count": 55,
     "metadata": {},
     "output_type": "execute_result"
    }
   ],
   "source": [
    "from pypfopt import DiscreteAllocation\n",
    "\n",
    "da = DiscreteAllocation(weights, prices.iloc[-1], total_portfolio_value=20000)\n",
    "alloc, leftover = da.lp_portfolio()\n",
    "print(f\"Leftover: ${leftover:.2f}\")\n",
    "alloc"
   ]
  },
  {
   "cell_type": "code",
   "execution_count": 56,
   "metadata": {},
   "outputs": [
    {
     "data": {
      "image/png": "[encoded data removed]",
      "text/plain": [
       "<Figure size 432x288 with 1 Axes>"
      ]
     },
     "metadata": {
      "needs_background": "light"
     },
     "output_type": "display_data"
    }
   ],
   "source": [
    "ef = EfficientFrontier(ret_bl, S_bl, weight_bounds=(None, None))\n",
    "ef.add_constraint(lambda w: w[0] >= 0.2)\n",
    "ef.add_constraint(lambda w: w[2] == 0.15)\n",
    "ef.add_constraint(lambda w: w[3] + w[4] <= 0.10)\n",
    "\n",
    "fig, ax = plt.subplots()\n",
    "plotting.plot_efficient_frontier(ef, ax=ax, show_assets=True)\n",
    "plt.show()"
   ]
  },
  {
   "cell_type": "code",
   "execution_count": 57,
   "metadata": {},
   "outputs": [
    {
     "data": {
      "image/png": "[encoded data removed]",
      "text/plain": [
       "<Figure size 432x288 with 1 Axes>"
      ]
     },
     "metadata": {
      "needs_background": "light"
     },
     "output_type": "display_data"
    }
   ],
   "source": [
    "fig, ax = plt.subplots()\n",
    "plotting.plot_efficient_frontier(ef, ax=ax, show_assets=False)\n",
    "\n",
    "# Find the tangency portfolio\n",
    "ef.max_sharpe()\n",
    "ret_tangent, std_tangent, _ = ef.portfolio_performance()\n",
    "ax.scatter(std_tangent, ret_tangent, marker=\"*\", s=100, c=\"r\", label=\"Max Sharpe\")\n",
    "\n",
    "# # Generate random portfolios\n",
    "n_samples = 10000\n",
    "w = np.random.dirichlet(np.ones(len(ret_bl)), n_samples)\n",
    "rets = w.dot(ret_bl)\n",
    "stds = np.sqrt(np.diag(w @ S @ w.T))\n",
    "sharpes = rets / stds\n",
    "ax.scatter(stds, rets, marker=\".\", c=sharpes, cmap=\"viridis_r\")\n",
    "\n",
    "# Output\n",
    "ax.set_title(\"Efficient Frontier with random portfolios\")\n",
    "ax.legend()\n",
    "plt.tight_layout()\n",
    "plt.savefig(\"ef_scatter.png\", dpi=200)\n",
    "plt.show()"
   ]
  },
  {
   "cell_type": "code",
   "execution_count": 58,
   "metadata": {},
   "outputs": [
    {
     "data": {
      "image/png": "[encoded data removed]",
      "text/plain": [
       "<Figure size 432x288 with 1 Axes>"
      ]
     },
     "metadata": {
      "needs_background": "light"
     },
     "output_type": "display_data"
    }
   ],
   "source": [
    "ef = EfficientFrontier(ret_bl, S_bl)\n",
    "\n",
    "fig, ax = plt.subplots()\n",
    "plotting.plot_efficient_frontier(ef, ax=ax, show_assets=False)\n",
    "\n",
    "# Find and plot the tangency portfolio\n",
    "ef.max_sharpe()\n",
    "ret_tangent, std_tangent, _ = ef.portfolio_performance()\n",
    "ax.scatter(std_tangent, ret_tangent, marker=\"*\", s=100, c=\"r\", label=\"Max Sharpe\")\n",
    "\n",
    "# Plot random portfolios\n",
    "ax.scatter(stds, rets, marker=\".\", c=sharpes, cmap=\"viridis_r\")\n",
    "\n",
    "# Format\n",
    "ax.set_title(\"Efficient Frontier with random portfolios\")\n",
    "ax.legend()\n",
    "plt.tight_layout()\n",
    "plt.show()\n"
   ]
  },
  {
   "cell_type": "code",
   "execution_count": null,
   "metadata": {},
   "outputs": [],
   "source": []
  }
 ],
 "metadata": {
  "kernelspec": {
   "display_name": "Python 3",
   "language": "python",
   "name": "python3"
  },
  "language_info": {
   "codemirror_mode": {
    "name": "ipython",
    "version": 3
   },
   "file_extension": ".py",
   "mimetype": "text/x-python",
   "name": "python",
   "nbconvert_exporter": "python",
   "pygments_lexer": "ipython3",
   "version": "3.7.10"
  }
 },
 "nbformat": 4,
 "nbformat_minor": 4
}
