{
 "cells": [
  {
   "cell_type": "markdown",
   "metadata": {},
   "source": [
    "# Mean-variance optimization\n",
    "\n",
    "In this cookbook recipe, we work on several examples demonstrating PyPortfolioOpt's mean-variance capabilities. I will discuss what I think should be your \"default\" options, based on my experience in optimising portfolios.\n",
    "\n",
    "To start, you need a list of tickers. Some people just provide the whole universe of stocks, but I don't think this is a good idea - portfolio optimization is quite different from asset selection. I would suggest anywhere from 10-50 stocks as a starting point."
   ]
  },
  {
   "cell_type": "code",
   "execution_count": 1,
   "metadata": {},
   "outputs": [],
   "source": [
    "import yfinance as yf\n",
    "from pathlib import Path\n",
    "import matplotlib.pyplot as plt\n",
    "import pandas as pd\n",
    "import numpy as np"
   ]
  },
  {
   "cell_type": "code",
   "execution_count": 2,
   "metadata": {},
   "outputs": [],
   "source": [
    "stock_path = Path(\"../Resources/stock_prices.csv\")\n",
    "stock_prices = pd.read_csv(stock_path, infer_datetime_format = True, parse_dates = True, index_col = \"Date\")"
   ]
  },
  {
   "cell_type": "code",
   "execution_count": 3,
   "metadata": {},
   "outputs": [],
   "source": [
    "crypto_path = Path(\"../Resources/crypto_prices.csv\")\n",
    "crypto_prices = pd.read_csv(crypto_path, infer_datetime_format = True, parse_dates = True, index_col = \"Date\")"
   ]
  },
  {
   "cell_type": "code",
   "execution_count": 4,
   "metadata": {},
   "outputs": [],
   "source": [
    "prices = stock_prices.join(crypto_prices)"
   ]
  },
  {
   "cell_type": "code",
   "execution_count": 11,
   "metadata": {},
   "outputs": [
    {
     "data": {
      "text/html": [
       "<div>\n",
       "<style scoped>\n",
       "    .dataframe tbody tr th:only-of-type {\n",
       "        vertical-align: middle;\n",
       "    }\n",
       "\n",
       "    .dataframe tbody tr th {\n",
       "        vertical-align: top;\n",
       "    }\n",
       "\n",
       "    .dataframe thead th {\n",
       "        text-align: right;\n",
       "    }\n",
       "</style>\n",
       "<table border=\"1\" class=\"dataframe\">\n",
       "  <thead>\n",
       "    <tr style=\"text-align: right;\">\n",
       "      <th></th>\n",
       "      <th>AMC</th>\n",
       "      <th>AMD</th>\n",
       "      <th>BABA</th>\n",
       "      <th>BB</th>\n",
       "      <th>BBBY</th>\n",
       "      <th>GME</th>\n",
       "      <th>MVIS</th>\n",
       "      <th>NVDA</th>\n",
       "      <th>SPY</th>\n",
       "      <th>TSLA</th>\n",
       "      <th>BTC</th>\n",
       "      <th>BCH</th>\n",
       "      <th>ETH</th>\n",
       "      <th>ETC</th>\n",
       "      <th>LTC</th>\n",
       "      <th>XRP</th>\n",
       "      <th>DOGE</th>\n",
       "    </tr>\n",
       "    <tr>\n",
       "      <th>Date</th>\n",
       "      <th></th>\n",
       "      <th></th>\n",
       "      <th></th>\n",
       "      <th></th>\n",
       "      <th></th>\n",
       "      <th></th>\n",
       "      <th></th>\n",
       "      <th></th>\n",
       "      <th></th>\n",
       "      <th></th>\n",
       "      <th></th>\n",
       "      <th></th>\n",
       "      <th></th>\n",
       "      <th></th>\n",
       "      <th></th>\n",
       "      <th></th>\n",
       "      <th></th>\n",
       "    </tr>\n",
       "  </thead>\n",
       "  <tbody>\n",
       "    <tr>\n",
       "      <th>2017-08-01</th>\n",
       "      <td>16.469416</td>\n",
       "      <td>13.71</td>\n",
       "      <td>154.729996</td>\n",
       "      <td>9.51</td>\n",
       "      <td>26.660824</td>\n",
       "      <td>17.939491</td>\n",
       "      <td>2.25</td>\n",
       "      <td>162.812164</td>\n",
       "      <td>230.738785</td>\n",
       "      <td>63.914001</td>\n",
       "      <td>2718.26</td>\n",
       "      <td>380.01</td>\n",
       "      <td>226.77</td>\n",
       "      <td>14.57</td>\n",
       "      <td>43.04</td>\n",
       "      <td>0.18</td>\n",
       "      <td>0.001792</td>\n",
       "    </tr>\n",
       "    <tr>\n",
       "      <th>2017-08-02</th>\n",
       "      <td>12.035346</td>\n",
       "      <td>13.37</td>\n",
       "      <td>151.910004</td>\n",
       "      <td>9.50</td>\n",
       "      <td>26.421677</td>\n",
       "      <td>17.956287</td>\n",
       "      <td>2.31</td>\n",
       "      <td>162.713196</td>\n",
       "      <td>230.850769</td>\n",
       "      <td>65.178001</td>\n",
       "      <td>2710.67</td>\n",
       "      <td>452.66</td>\n",
       "      <td>219.95</td>\n",
       "      <td>14.77</td>\n",
       "      <td>42.13</td>\n",
       "      <td>0.17</td>\n",
       "      <td>0.001788</td>\n",
       "    </tr>\n",
       "    <tr>\n",
       "      <th>2017-08-03</th>\n",
       "      <td>11.956165</td>\n",
       "      <td>13.24</td>\n",
       "      <td>153.320007</td>\n",
       "      <td>9.42</td>\n",
       "      <td>27.050552</td>\n",
       "      <td>18.191450</td>\n",
       "      <td>2.45</td>\n",
       "      <td>164.781860</td>\n",
       "      <td>230.402954</td>\n",
       "      <td>69.417999</td>\n",
       "      <td>2804.73</td>\n",
       "      <td>364.05</td>\n",
       "      <td>225.34</td>\n",
       "      <td>15.37</td>\n",
       "      <td>42.86</td>\n",
       "      <td>0.17</td>\n",
       "      <td>0.001795</td>\n",
       "    </tr>\n",
       "    <tr>\n",
       "      <th>2017-08-04</th>\n",
       "      <td>12.866734</td>\n",
       "      <td>13.12</td>\n",
       "      <td>153.330002</td>\n",
       "      <td>9.44</td>\n",
       "      <td>26.660824</td>\n",
       "      <td>18.418217</td>\n",
       "      <td>2.47</td>\n",
       "      <td>165.504440</td>\n",
       "      <td>230.822754</td>\n",
       "      <td>71.382004</td>\n",
       "      <td>2895.89</td>\n",
       "      <td>233.05</td>\n",
       "      <td>223.07</td>\n",
       "      <td>15.04</td>\n",
       "      <td>43.45</td>\n",
       "      <td>0.17</td>\n",
       "      <td>0.001820</td>\n",
       "    </tr>\n",
       "    <tr>\n",
       "      <th>2017-08-07</th>\n",
       "      <td>12.747964</td>\n",
       "      <td>13.43</td>\n",
       "      <td>158.839996</td>\n",
       "      <td>9.10</td>\n",
       "      <td>27.139126</td>\n",
       "      <td>18.619781</td>\n",
       "      <td>2.52</td>\n",
       "      <td>170.591980</td>\n",
       "      <td>231.251907</td>\n",
       "      <td>71.033997</td>\n",
       "      <td>3378.94</td>\n",
       "      <td>319.69</td>\n",
       "      <td>269.18</td>\n",
       "      <td>15.31</td>\n",
       "      <td>45.80</td>\n",
       "      <td>0.18</td>\n",
       "      <td>0.001949</td>\n",
       "    </tr>\n",
       "  </tbody>\n",
       "</table>\n",
       "</div>"
      ],
      "text/plain": [
       "                  AMC    AMD        BABA    BB       BBBY        GME  MVIS  \\\n",
       "Date                                                                         \n",
       "2017-08-01  16.469416  13.71  154.729996  9.51  26.660824  17.939491  2.25   \n",
       "2017-08-02  12.035346  13.37  151.910004  9.50  26.421677  17.956287  2.31   \n",
       "2017-08-03  11.956165  13.24  153.320007  9.42  27.050552  18.191450  2.45   \n",
       "2017-08-04  12.866734  13.12  153.330002  9.44  26.660824  18.418217  2.47   \n",
       "2017-08-07  12.747964  13.43  158.839996  9.10  27.139126  18.619781  2.52   \n",
       "\n",
       "                  NVDA         SPY       TSLA      BTC     BCH     ETH    ETC  \\\n",
       "Date                                                                            \n",
       "2017-08-01  162.812164  230.738785  63.914001  2718.26  380.01  226.77  14.57   \n",
       "2017-08-02  162.713196  230.850769  65.178001  2710.67  452.66  219.95  14.77   \n",
       "2017-08-03  164.781860  230.402954  69.417999  2804.73  364.05  225.34  15.37   \n",
       "2017-08-04  165.504440  230.822754  71.382004  2895.89  233.05  223.07  15.04   \n",
       "2017-08-07  170.591980  231.251907  71.033997  3378.94  319.69  269.18  15.31   \n",
       "\n",
       "              LTC   XRP      DOGE  \n",
       "Date                               \n",
       "2017-08-01  43.04  0.18  0.001792  \n",
       "2017-08-02  42.13  0.17  0.001788  \n",
       "2017-08-03  42.86  0.17  0.001795  \n",
       "2017-08-04  43.45  0.17  0.001820  \n",
       "2017-08-07  45.80  0.18  0.001949  "
      ]
     },
     "execution_count": 11,
     "metadata": {},
     "output_type": "execute_result"
    }
   ],
   "source": [
    "prices.head()"
   ]
  },
  {
   "cell_type": "code",
   "execution_count": 12,
   "metadata": {},
   "outputs": [
    {
     "data": {
      "image/png": "[encoded data removed]",
      "text/plain": [
       "<Figure size 1080x720 with 1 Axes>"
      ]
     },
     "metadata": {
      "needs_background": "light"
     },
     "output_type": "display_data"
    }
   ],
   "source": [
    "prices.plot(figsize=(15,10));"
   ]
  },
  {
   "cell_type": "markdown",
   "metadata": {},
   "source": [
    "## Calculating the covariance matrix"
   ]
  },
  {
   "cell_type": "code",
   "execution_count": 21,
   "metadata": {},
   "outputs": [
    {
     "data": {
      "text/plain": [
       "'1.4.1'"
      ]
     },
     "execution_count": 21,
     "metadata": {},
     "output_type": "execute_result"
    }
   ],
   "source": [
    "import pypfopt\n",
    "pypfopt.__version__"
   ]
  },
  {
   "cell_type": "code",
   "execution_count": 22,
   "metadata": {},
   "outputs": [
    {
     "data": {
      "text/html": [
       "<div>\n",
       "<style scoped>\n",
       "    .dataframe tbody tr th:only-of-type {\n",
       "        vertical-align: middle;\n",
       "    }\n",
       "\n",
       "    .dataframe tbody tr th {\n",
       "        vertical-align: top;\n",
       "    }\n",
       "\n",
       "    .dataframe thead th {\n",
       "        text-align: right;\n",
       "    }\n",
       "</style>\n",
       "<table border=\"1\" class=\"dataframe\">\n",
       "  <thead>\n",
       "    <tr style=\"text-align: right;\">\n",
       "      <th></th>\n",
       "      <th>AMC</th>\n",
       "      <th>AMD</th>\n",
       "      <th>BABA</th>\n",
       "      <th>BB</th>\n",
       "      <th>BBBY</th>\n",
       "      <th>GME</th>\n",
       "      <th>MVIS</th>\n",
       "      <th>NVDA</th>\n",
       "      <th>SPY</th>\n",
       "      <th>TSLA</th>\n",
       "      <th>BTC</th>\n",
       "      <th>BCH</th>\n",
       "      <th>ETH</th>\n",
       "      <th>ETC</th>\n",
       "      <th>LTC</th>\n",
       "      <th>XRP</th>\n",
       "      <th>DOGE</th>\n",
       "    </tr>\n",
       "  </thead>\n",
       "  <tbody>\n",
       "    <tr>\n",
       "      <th>AMC</th>\n",
       "      <td>3.487583</td>\n",
       "      <td>0.023088</td>\n",
       "      <td>0.027492</td>\n",
       "      <td>0.517604</td>\n",
       "      <td>0.578427</td>\n",
       "      <td>1.639334</td>\n",
       "      <td>0.038976</td>\n",
       "      <td>0.038075</td>\n",
       "      <td>0.038230</td>\n",
       "      <td>0.082912</td>\n",
       "      <td>-0.036393</td>\n",
       "      <td>-0.066414</td>\n",
       "      <td>0.042660</td>\n",
       "      <td>0.003003</td>\n",
       "      <td>-0.013742</td>\n",
       "      <td>0.114159</td>\n",
       "      <td>-0.379374</td>\n",
       "    </tr>\n",
       "    <tr>\n",
       "      <th>AMD</th>\n",
       "      <td>0.023088</td>\n",
       "      <td>0.318426</td>\n",
       "      <td>0.077900</td>\n",
       "      <td>0.094060</td>\n",
       "      <td>0.057764</td>\n",
       "      <td>0.066626</td>\n",
       "      <td>0.120127</td>\n",
       "      <td>0.176895</td>\n",
       "      <td>0.064168</td>\n",
       "      <td>0.128095</td>\n",
       "      <td>0.053442</td>\n",
       "      <td>0.046952</td>\n",
       "      <td>0.069618</td>\n",
       "      <td>0.076492</td>\n",
       "      <td>0.075714</td>\n",
       "      <td>0.075956</td>\n",
       "      <td>0.084275</td>\n",
       "    </tr>\n",
       "    <tr>\n",
       "      <th>BABA</th>\n",
       "      <td>0.027492</td>\n",
       "      <td>0.077900</td>\n",
       "      <td>0.126170</td>\n",
       "      <td>0.071496</td>\n",
       "      <td>0.037000</td>\n",
       "      <td>0.037554</td>\n",
       "      <td>0.026215</td>\n",
       "      <td>0.092077</td>\n",
       "      <td>0.038178</td>\n",
       "      <td>0.073643</td>\n",
       "      <td>0.023870</td>\n",
       "      <td>0.030291</td>\n",
       "      <td>0.043272</td>\n",
       "      <td>0.037653</td>\n",
       "      <td>0.039045</td>\n",
       "      <td>0.055572</td>\n",
       "      <td>0.019550</td>\n",
       "    </tr>\n",
       "    <tr>\n",
       "      <th>BB</th>\n",
       "      <td>0.517604</td>\n",
       "      <td>0.094060</td>\n",
       "      <td>0.071496</td>\n",
       "      <td>0.420620</td>\n",
       "      <td>0.201574</td>\n",
       "      <td>0.370404</td>\n",
       "      <td>0.115573</td>\n",
       "      <td>0.092380</td>\n",
       "      <td>0.051235</td>\n",
       "      <td>0.098056</td>\n",
       "      <td>0.035601</td>\n",
       "      <td>0.048238</td>\n",
       "      <td>0.092336</td>\n",
       "      <td>0.060312</td>\n",
       "      <td>0.059049</td>\n",
       "      <td>0.081478</td>\n",
       "      <td>-0.272706</td>\n",
       "    </tr>\n",
       "    <tr>\n",
       "      <th>BBBY</th>\n",
       "      <td>0.578427</td>\n",
       "      <td>0.057764</td>\n",
       "      <td>0.037000</td>\n",
       "      <td>0.201574</td>\n",
       "      <td>0.644784</td>\n",
       "      <td>0.532133</td>\n",
       "      <td>0.094735</td>\n",
       "      <td>0.075558</td>\n",
       "      <td>0.049875</td>\n",
       "      <td>0.092402</td>\n",
       "      <td>0.026936</td>\n",
       "      <td>0.046068</td>\n",
       "      <td>0.063302</td>\n",
       "      <td>0.064093</td>\n",
       "      <td>0.041780</td>\n",
       "      <td>-0.004888</td>\n",
       "      <td>-0.180957</td>\n",
       "    </tr>\n",
       "    <tr>\n",
       "      <th>GME</th>\n",
       "      <td>1.639334</td>\n",
       "      <td>0.066626</td>\n",
       "      <td>0.037554</td>\n",
       "      <td>0.370404</td>\n",
       "      <td>0.532133</td>\n",
       "      <td>2.367524</td>\n",
       "      <td>0.191985</td>\n",
       "      <td>0.043968</td>\n",
       "      <td>0.033344</td>\n",
       "      <td>0.089880</td>\n",
       "      <td>0.014143</td>\n",
       "      <td>-0.015425</td>\n",
       "      <td>0.063854</td>\n",
       "      <td>0.001445</td>\n",
       "      <td>0.020155</td>\n",
       "      <td>0.017201</td>\n",
       "      <td>-0.152971</td>\n",
       "    </tr>\n",
       "    <tr>\n",
       "      <th>MVIS</th>\n",
       "      <td>0.038976</td>\n",
       "      <td>0.120127</td>\n",
       "      <td>0.026215</td>\n",
       "      <td>0.115573</td>\n",
       "      <td>0.094735</td>\n",
       "      <td>0.191985</td>\n",
       "      <td>2.169922</td>\n",
       "      <td>0.098767</td>\n",
       "      <td>0.043359</td>\n",
       "      <td>0.144145</td>\n",
       "      <td>0.111948</td>\n",
       "      <td>0.125592</td>\n",
       "      <td>0.082712</td>\n",
       "      <td>0.133476</td>\n",
       "      <td>0.092910</td>\n",
       "      <td>0.094646</td>\n",
       "      <td>0.036542</td>\n",
       "    </tr>\n",
       "    <tr>\n",
       "      <th>NVDA</th>\n",
       "      <td>0.038075</td>\n",
       "      <td>0.176895</td>\n",
       "      <td>0.092077</td>\n",
       "      <td>0.092380</td>\n",
       "      <td>0.075558</td>\n",
       "      <td>0.043968</td>\n",
       "      <td>0.098767</td>\n",
       "      <td>0.229034</td>\n",
       "      <td>0.069431</td>\n",
       "      <td>0.131581</td>\n",
       "      <td>0.069157</td>\n",
       "      <td>0.068806</td>\n",
       "      <td>0.088669</td>\n",
       "      <td>0.087765</td>\n",
       "      <td>0.085880</td>\n",
       "      <td>0.082536</td>\n",
       "      <td>0.105482</td>\n",
       "    </tr>\n",
       "    <tr>\n",
       "      <th>SPY</th>\n",
       "      <td>0.038230</td>\n",
       "      <td>0.064168</td>\n",
       "      <td>0.038178</td>\n",
       "      <td>0.051235</td>\n",
       "      <td>0.049875</td>\n",
       "      <td>0.033344</td>\n",
       "      <td>0.043359</td>\n",
       "      <td>0.069431</td>\n",
       "      <td>0.043789</td>\n",
       "      <td>0.059609</td>\n",
       "      <td>0.032704</td>\n",
       "      <td>0.033813</td>\n",
       "      <td>0.046679</td>\n",
       "      <td>0.045171</td>\n",
       "      <td>0.042977</td>\n",
       "      <td>0.047893</td>\n",
       "      <td>0.040591</td>\n",
       "    </tr>\n",
       "    <tr>\n",
       "      <th>TSLA</th>\n",
       "      <td>0.082912</td>\n",
       "      <td>0.128095</td>\n",
       "      <td>0.073643</td>\n",
       "      <td>0.098056</td>\n",
       "      <td>0.092402</td>\n",
       "      <td>0.089880</td>\n",
       "      <td>0.144145</td>\n",
       "      <td>0.131581</td>\n",
       "      <td>0.059609</td>\n",
       "      <td>0.424626</td>\n",
       "      <td>0.055490</td>\n",
       "      <td>0.028508</td>\n",
       "      <td>0.080441</td>\n",
       "      <td>0.051465</td>\n",
       "      <td>0.086469</td>\n",
       "      <td>0.107049</td>\n",
       "      <td>0.031539</td>\n",
       "    </tr>\n",
       "    <tr>\n",
       "      <th>BTC</th>\n",
       "      <td>-0.036393</td>\n",
       "      <td>0.053442</td>\n",
       "      <td>0.023870</td>\n",
       "      <td>0.035601</td>\n",
       "      <td>0.026936</td>\n",
       "      <td>0.014143</td>\n",
       "      <td>0.111948</td>\n",
       "      <td>0.069157</td>\n",
       "      <td>0.032704</td>\n",
       "      <td>0.055490</td>\n",
       "      <td>0.643213</td>\n",
       "      <td>0.639174</td>\n",
       "      <td>0.584844</td>\n",
       "      <td>0.539779</td>\n",
       "      <td>0.618145</td>\n",
       "      <td>0.467204</td>\n",
       "      <td>0.597316</td>\n",
       "    </tr>\n",
       "    <tr>\n",
       "      <th>BCH</th>\n",
       "      <td>-0.066414</td>\n",
       "      <td>0.046952</td>\n",
       "      <td>0.030291</td>\n",
       "      <td>0.048238</td>\n",
       "      <td>0.046068</td>\n",
       "      <td>-0.015425</td>\n",
       "      <td>0.125592</td>\n",
       "      <td>0.068806</td>\n",
       "      <td>0.033813</td>\n",
       "      <td>0.028508</td>\n",
       "      <td>0.639174</td>\n",
       "      <td>2.057482</td>\n",
       "      <td>0.916949</td>\n",
       "      <td>1.035805</td>\n",
       "      <td>0.932163</td>\n",
       "      <td>0.869815</td>\n",
       "      <td>0.918507</td>\n",
       "    </tr>\n",
       "    <tr>\n",
       "      <th>ETH</th>\n",
       "      <td>0.042660</td>\n",
       "      <td>0.069618</td>\n",
       "      <td>0.043272</td>\n",
       "      <td>0.092336</td>\n",
       "      <td>0.063302</td>\n",
       "      <td>0.063854</td>\n",
       "      <td>0.082712</td>\n",
       "      <td>0.088669</td>\n",
       "      <td>0.046679</td>\n",
       "      <td>0.080441</td>\n",
       "      <td>0.584844</td>\n",
       "      <td>0.916949</td>\n",
       "      <td>1.053223</td>\n",
       "      <td>0.829346</td>\n",
       "      <td>0.884026</td>\n",
       "      <td>0.780736</td>\n",
       "      <td>0.840036</td>\n",
       "    </tr>\n",
       "    <tr>\n",
       "      <th>ETC</th>\n",
       "      <td>0.003003</td>\n",
       "      <td>0.076492</td>\n",
       "      <td>0.037653</td>\n",
       "      <td>0.060312</td>\n",
       "      <td>0.064093</td>\n",
       "      <td>0.001445</td>\n",
       "      <td>0.133476</td>\n",
       "      <td>0.087765</td>\n",
       "      <td>0.045171</td>\n",
       "      <td>0.051465</td>\n",
       "      <td>0.539779</td>\n",
       "      <td>1.035805</td>\n",
       "      <td>0.829346</td>\n",
       "      <td>1.440099</td>\n",
       "      <td>0.844763</td>\n",
       "      <td>0.752015</td>\n",
       "      <td>1.014542</td>\n",
       "    </tr>\n",
       "    <tr>\n",
       "      <th>LTC</th>\n",
       "      <td>-0.013742</td>\n",
       "      <td>0.075714</td>\n",
       "      <td>0.039045</td>\n",
       "      <td>0.059049</td>\n",
       "      <td>0.041780</td>\n",
       "      <td>0.020155</td>\n",
       "      <td>0.092910</td>\n",
       "      <td>0.085880</td>\n",
       "      <td>0.042977</td>\n",
       "      <td>0.086469</td>\n",
       "      <td>0.618145</td>\n",
       "      <td>0.932163</td>\n",
       "      <td>0.884026</td>\n",
       "      <td>0.844763</td>\n",
       "      <td>1.279413</td>\n",
       "      <td>0.770808</td>\n",
       "      <td>0.906566</td>\n",
       "    </tr>\n",
       "    <tr>\n",
       "      <th>XRP</th>\n",
       "      <td>0.114159</td>\n",
       "      <td>0.075956</td>\n",
       "      <td>0.055572</td>\n",
       "      <td>0.081478</td>\n",
       "      <td>-0.004888</td>\n",
       "      <td>0.017201</td>\n",
       "      <td>0.094646</td>\n",
       "      <td>0.082536</td>\n",
       "      <td>0.047893</td>\n",
       "      <td>0.107049</td>\n",
       "      <td>0.467204</td>\n",
       "      <td>0.869815</td>\n",
       "      <td>0.780736</td>\n",
       "      <td>0.752015</td>\n",
       "      <td>0.770808</td>\n",
       "      <td>2.032309</td>\n",
       "      <td>0.719703</td>\n",
       "    </tr>\n",
       "    <tr>\n",
       "      <th>DOGE</th>\n",
       "      <td>-0.379374</td>\n",
       "      <td>0.084275</td>\n",
       "      <td>0.019550</td>\n",
       "      <td>-0.272706</td>\n",
       "      <td>-0.180957</td>\n",
       "      <td>-0.152971</td>\n",
       "      <td>0.036542</td>\n",
       "      <td>0.105482</td>\n",
       "      <td>0.040591</td>\n",
       "      <td>0.031539</td>\n",
       "      <td>0.597316</td>\n",
       "      <td>0.918507</td>\n",
       "      <td>0.840036</td>\n",
       "      <td>1.014542</td>\n",
       "      <td>0.906566</td>\n",
       "      <td>0.719703</td>\n",
       "      <td>5.299960</td>\n",
       "    </tr>\n",
       "  </tbody>\n",
       "</table>\n",
       "</div>"
      ],
      "text/plain": [
       "           AMC       AMD      BABA        BB      BBBY       GME      MVIS  \\\n",
       "AMC   3.487583  0.023088  0.027492  0.517604  0.578427  1.639334  0.038976   \n",
       "AMD   0.023088  0.318426  0.077900  0.094060  0.057764  0.066626  0.120127   \n",
       "BABA  0.027492  0.077900  0.126170  0.071496  0.037000  0.037554  0.026215   \n",
       "BB    0.517604  0.094060  0.071496  0.420620  0.201574  0.370404  0.115573   \n",
       "BBBY  0.578427  0.057764  0.037000  0.201574  0.644784  0.532133  0.094735   \n",
       "GME   1.639334  0.066626  0.037554  0.370404  0.532133  2.367524  0.191985   \n",
       "MVIS  0.038976  0.120127  0.026215  0.115573  0.094735  0.191985  2.169922   \n",
       "NVDA  0.038075  0.176895  0.092077  0.092380  0.075558  0.043968  0.098767   \n",
       "SPY   0.038230  0.064168  0.038178  0.051235  0.049875  0.033344  0.043359   \n",
       "TSLA  0.082912  0.128095  0.073643  0.098056  0.092402  0.089880  0.144145   \n",
       "BTC  -0.036393  0.053442  0.023870  0.035601  0.026936  0.014143  0.111948   \n",
       "BCH  -0.066414  0.046952  0.030291  0.048238  0.046068 -0.015425  0.125592   \n",
       "ETH   0.042660  0.069618  0.043272  0.092336  0.063302  0.063854  0.082712   \n",
       "ETC   0.003003  0.076492  0.037653  0.060312  0.064093  0.001445  0.133476   \n",
       "LTC  -0.013742  0.075714  0.039045  0.059049  0.041780  0.020155  0.092910   \n",
       "XRP   0.114159  0.075956  0.055572  0.081478 -0.004888  0.017201  0.094646   \n",
       "DOGE -0.379374  0.084275  0.019550 -0.272706 -0.180957 -0.152971  0.036542   \n",
       "\n",
       "          NVDA       SPY      TSLA       BTC       BCH       ETH       ETC  \\\n",
       "AMC   0.038075  0.038230  0.082912 -0.036393 -0.066414  0.042660  0.003003   \n",
       "AMD   0.176895  0.064168  0.128095  0.053442  0.046952  0.069618  0.076492   \n",
       "BABA  0.092077  0.038178  0.073643  0.023870  0.030291  0.043272  0.037653   \n",
       "BB    0.092380  0.051235  0.098056  0.035601  0.048238  0.092336  0.060312   \n",
       "BBBY  0.075558  0.049875  0.092402  0.026936  0.046068  0.063302  0.064093   \n",
       "GME   0.043968  0.033344  0.089880  0.014143 -0.015425  0.063854  0.001445   \n",
       "MVIS  0.098767  0.043359  0.144145  0.111948  0.125592  0.082712  0.133476   \n",
       "NVDA  0.229034  0.069431  0.131581  0.069157  0.068806  0.088669  0.087765   \n",
       "SPY   0.069431  0.043789  0.059609  0.032704  0.033813  0.046679  0.045171   \n",
       "TSLA  0.131581  0.059609  0.424626  0.055490  0.028508  0.080441  0.051465   \n",
       "BTC   0.069157  0.032704  0.055490  0.643213  0.639174  0.584844  0.539779   \n",
       "BCH   0.068806  0.033813  0.028508  0.639174  2.057482  0.916949  1.035805   \n",
       "ETH   0.088669  0.046679  0.080441  0.584844  0.916949  1.053223  0.829346   \n",
       "ETC   0.087765  0.045171  0.051465  0.539779  1.035805  0.829346  1.440099   \n",
       "LTC   0.085880  0.042977  0.086469  0.618145  0.932163  0.884026  0.844763   \n",
       "XRP   0.082536  0.047893  0.107049  0.467204  0.869815  0.780736  0.752015   \n",
       "DOGE  0.105482  0.040591  0.031539  0.597316  0.918507  0.840036  1.014542   \n",
       "\n",
       "           LTC       XRP      DOGE  \n",
       "AMC  -0.013742  0.114159 -0.379374  \n",
       "AMD   0.075714  0.075956  0.084275  \n",
       "BABA  0.039045  0.055572  0.019550  \n",
       "BB    0.059049  0.081478 -0.272706  \n",
       "BBBY  0.041780 -0.004888 -0.180957  \n",
       "GME   0.020155  0.017201 -0.152971  \n",
       "MVIS  0.092910  0.094646  0.036542  \n",
       "NVDA  0.085880  0.082536  0.105482  \n",
       "SPY   0.042977  0.047893  0.040591  \n",
       "TSLA  0.086469  0.107049  0.031539  \n",
       "BTC   0.618145  0.467204  0.597316  \n",
       "BCH   0.932163  0.869815  0.918507  \n",
       "ETH   0.884026  0.780736  0.840036  \n",
       "ETC   0.844763  0.752015  1.014542  \n",
       "LTC   1.279413  0.770808  0.906566  \n",
       "XRP   0.770808  2.032309  0.719703  \n",
       "DOGE  0.906566  0.719703  5.299960  "
      ]
     },
     "execution_count": 22,
     "metadata": {},
     "output_type": "execute_result"
    }
   ],
   "source": [
    "from pypfopt import risk_models\n",
    "from pypfopt import plotting\n",
    "\n",
    "sample_cov = risk_models.sample_cov(prices, frequency=252)\n",
    "sample_cov"
   ]
  },
  {
   "cell_type": "code",
   "execution_count": 23,
   "metadata": {},
   "outputs": [
    {
     "data": {
      "image/png": "[encoded data removed]",
      "text/plain": [
       "<Figure size 432x288 with 2 Axes>"
      ]
     },
     "metadata": {
      "needs_background": "light"
     },
     "output_type": "display_data"
    }
   ],
   "source": [
    "plotting.plot_covariance(sample_cov, plot_correlation=True);"
   ]
  },
  {
   "cell_type": "markdown",
   "metadata": {},
   "source": [
    "For reasons discussed in the docs, the sample covariance matrix should not be your default choice. I think a better option is Ledoit-Wolf shrinkage, which reduces the extreme values in the covariance matrix. In the image below, we can see that there are fewer bright spots outside the diagonal:"
   ]
  },
  {
   "cell_type": "code",
   "execution_count": 24,
   "metadata": {},
   "outputs": [
    {
     "data": {
      "image/png": "[encoded data removed]",
      "text/plain": [
       "<Figure size 432x288 with 2 Axes>"
      ]
     },
     "metadata": {
      "needs_background": "light"
     },
     "output_type": "display_data"
    }
   ],
   "source": [
    "S = risk_models.CovarianceShrinkage(prices).ledoit_wolf()\n",
    "plotting.plot_covariance(S, plot_correlation=True);"
   ]
  },
  {
   "cell_type": "markdown",
   "metadata": {},
   "source": [
    "## Return estimation\n",
    "\n",
    "As discussed in the docs, it is often a bad idea to provide returns using a simple estimate like the mean of past returns. Unless you have a proprietary method for estimating returns, research suggests that you may be better off not providing expected returns – you can then just find the `min_volatility()` portfolio or use `HRP`. \n",
    "\n",
    "However, in this example we will use the CAPM returns, which aims to be slightly more stable than the default mean historical return. Please see the notebook `1-RiskReturnModels.ipynb` for more information."
   ]
  },
  {
   "cell_type": "code",
   "execution_count": 25,
   "metadata": {},
   "outputs": [
    {
     "data": {
      "text/plain": [
       "AMC    -0.069066\n",
       "AMD     0.580927\n",
       "BABA    0.093133\n",
       "BB     -0.020811\n",
       "BBBY   -0.030631\n",
       "GME     0.809258\n",
       "MVIS    0.628576\n",
       "NVDA    0.400135\n",
       "SPY     0.167362\n",
       "TSLA    0.792867\n",
       "BTC     1.040406\n",
       "BCH     0.225117\n",
       "ETH     0.935497\n",
       "ETC     0.534400\n",
       "LTC     0.522273\n",
       "XRP     0.644360\n",
       "DOGE    3.154055\n",
       "dtype: float64"
      ]
     },
     "execution_count": 25,
     "metadata": {},
     "output_type": "execute_result"
    }
   ],
   "source": [
    "from pypfopt import expected_returns\n",
    "\n",
    "mu = expected_returns.mean_historical_return(prices)\n",
    "mu"
   ]
  },
  {
   "cell_type": "code",
   "execution_count": 26,
   "metadata": {},
   "outputs": [
    {
     "data": {
      "image/png": "[encoded data removed]",
      "text/plain": [
       "<Figure size 720x432 with 1 Axes>"
      ]
     },
     "metadata": {
      "needs_background": "light"
     },
     "output_type": "display_data"
    }
   ],
   "source": [
    "mu.plot.barh(figsize=(10,6));"
   ]
  },
  {
   "cell_type": "markdown",
   "metadata": {},
   "source": [
    "## Long/short min variance\n",
    "\n",
    "In this section, we construct a long/short portfolio with the objective of minimising variance. There is a good deal of research that demonstrates that these global-minimum variance (GMV) portfolios outperform mean-variance optimized portfolios."
   ]
  },
  {
   "cell_type": "code",
   "execution_count": 27,
   "metadata": {},
   "outputs": [],
   "source": [
    "from pypfopt import EfficientFrontier"
   ]
  },
  {
   "cell_type": "code",
   "execution_count": 28,
   "metadata": {},
   "outputs": [
    {
     "data": {
      "text/plain": [
       "OrderedDict([('AMC', 0.00685),\n",
       "             ('AMD', 0.09159),\n",
       "             ('BABA', 0.17754),\n",
       "             ('BB', 0.08345),\n",
       "             ('BBBY', 0.07489),\n",
       "             ('GME', 0.01235),\n",
       "             ('MVIS', 0.02803),\n",
       "             ('NVDA', 0.09485),\n",
       "             ('SPY', 0.21451),\n",
       "             ('TSLA', 0.08203),\n",
       "             ('BTC', 0.07472),\n",
       "             ('BCH', 0.00911),\n",
       "             ('ETH', 0.00746),\n",
       "             ('ETC', 0.0103),\n",
       "             ('LTC', 0.00808),\n",
       "             ('XRP', 0.0111),\n",
       "             ('DOGE', 0.01315)])"
      ]
     },
     "execution_count": 28,
     "metadata": {},
     "output_type": "execute_result"
    }
   ],
   "source": [
    "S = risk_models.CovarianceShrinkage(prices).ledoit_wolf()\n",
    "\n",
    "# You don't have to provide expected returns in this case\n",
    "ef = EfficientFrontier(None, S, weight_bounds=(None, None))\n",
    "ef.min_volatility()\n",
    "weights = ef.clean_weights()\n",
    "weights"
   ]
  },
  {
   "cell_type": "code",
   "execution_count": 29,
   "metadata": {},
   "outputs": [
    {
     "data": {
      "image/png": "[encoded data removed]",
      "text/plain": [
       "<Figure size 432x288 with 1 Axes>"
      ]
     },
     "metadata": {
      "needs_background": "light"
     },
     "output_type": "display_data"
    }
   ],
   "source": [
    "pd.Series(weights).plot.barh();"
   ]
  },
  {
   "cell_type": "markdown",
   "metadata": {},
   "source": [
    "We can get a quick indication of the portfolio performance as follows. Note that this is an in sample estimate and may have very little resemblance to how the portfolio actually performs!"
   ]
  },
  {
   "cell_type": "code",
   "execution_count": 30,
   "metadata": {},
   "outputs": [
    {
     "name": "stdout",
     "output_type": "stream",
     "text": [
      "Annual volatility: 33.8%\n"
     ]
    }
   ],
   "source": [
    "ef.portfolio_performance(verbose=True);"
   ]
  },
  {
   "cell_type": "markdown",
   "metadata": {},
   "source": [
    "Let's say we were happy with this portfolio and wanted to actually go out and buy the shares.  To do this, we would need to construct a **discrete allocation** (unless your broker supports fractional shares!)\n",
    "\n",
    "If we had \\$20,0000 to invest and would like our portfolio to be 130/30 long/short, we can construct the actual allocation as follows:"
   ]
  },
  {
   "cell_type": "code",
   "execution_count": 31,
   "metadata": {},
   "outputs": [
    {
     "name": "stdout",
     "output_type": "stream",
     "text": [
      "Discrete allocation performed with $0.74 leftover\n"
     ]
    },
    {
     "data": {
      "text/plain": [
       "{'AMC': 11,\n",
       " 'AMD': 24,\n",
       " 'BABA': 16,\n",
       " 'BB': 191,\n",
       " 'BBBY': 64,\n",
       " 'GME': 2,\n",
       " 'MVIS': 40,\n",
       " 'NVDA': 4,\n",
       " 'SPY': 11,\n",
       " 'TSLA': 3,\n",
       " 'BCH': 1,\n",
       " 'ETC': 3,\n",
       " 'LTC': 1,\n",
       " 'XRP': 187,\n",
       " 'DOGE': 658}"
      ]
     },
     "execution_count": 31,
     "metadata": {},
     "output_type": "execute_result"
    }
   ],
   "source": [
    "from pypfopt import DiscreteAllocation\n",
    "\n",
    "latest_prices = prices.iloc[-1]  # prices as of the day you are allocating\n",
    "da = DiscreteAllocation(weights, latest_prices, total_portfolio_value=20000, short_ratio=0.3)\n",
    "alloc, leftover = da.lp_portfolio()\n",
    "print(f\"Discrete allocation performed with ${leftover:.2f} leftover\")\n",
    "alloc"
   ]
  },
  {
   "cell_type": "markdown",
   "metadata": {},
   "source": [
    "## Max Sharpe with sector constraints\n",
    "\n",
    "If you have your own model for returns (or have read the warnings and want to proceed anyways), you may consider maximising the Sharpe ratio. This theoretically gives the optimal portfolio in terms of risks-returns.\n",
    "\n",
    "In this section, we construct a long-only max-sharpe portfolio, but also incorporate sector constraints. Sector constraints require three things. A `sector_mapper`, your `sector_lower` bounds, and your `sector_upper` bounds."
   ]
  },
  {
   "cell_type": "code",
   "execution_count": 32,
   "metadata": {},
   "outputs": [],
   "source": [
    "sector_mapper = {\n",
    "    \"SPY\": \"US Equities\",\n",
    "    \"GME\": \"WSB Stock\",\n",
    "    \"AMC\": \"WSB Stock\",\n",
    "    \"TSLA\": \"WSB Stock\",\n",
    "    \"BB\": \"WSB Stock\",\n",
    "    \"NVDA\": \"WSB Stock\",\n",
    "    \"BBBY\": \"WSB Stock\",\n",
    "    \"MVIS\": \"WSB Stock\",\n",
    "    \"BABA\": \"WSB Stock\",\n",
    "    \"AMD\": \"WSB Stock\",\n",
    "    \"BTC\": \"Crypto\",\n",
    "    \"BCH\": \"Crypto\",\n",
    "    \"ETH\": \"Crypto\",\n",
    "    \"ETC\": \"Crypto\",\n",
    "    \"LTC\": \"Crypto\",\n",
    "    \"XRP\": \"Crypto\",\n",
    "    \"DOGE\": \"Crypto\"\n",
    "}\n",
    "\n",
    "\n",
    "sector_lower = {\n",
    "    \"US Equities\": 0.1, # at least 10% to staples\n",
    "    \"WSB Stock\": 0.05 # at least 5% to tech\n",
    "    # For all other sectors, it will be assumed there is no lower bound\n",
    "}\n",
    "\n",
    "sector_upper = {\n",
    "    \"US Equities\": 0.5,\n",
    "    \"WSB Stock\": 0.8,\n",
    "    \"Crypto\": 0.8\n",
    "}"
   ]
  },
  {
   "cell_type": "markdown",
   "metadata": {},
   "source": [
    "We then set up the optimizer and add our constraints. We can use `ef.add_objective()` to add other constraints. For example, let's say that in addition to the above sector constraints, I specifically want:\n",
    "\n",
    "- 10% of the portfolio in AMZN\n",
    "- Less than 5% of my portfolio in TSLA"
   ]
  },
  {
   "cell_type": "code",
   "execution_count": 33,
   "metadata": {},
   "outputs": [],
   "source": [
    "mu = expected_returns.capm_return(prices)\n",
    "S = risk_models.CovarianceShrinkage(prices).ledoit_wolf()\n",
    "\n",
    "ef = EfficientFrontier(mu, S)  # weight_bounds automatically set to (0, 1)\n",
    "ef.add_sector_constraints(sector_mapper, sector_lower, sector_upper)\n",
    "\n",
    "amc_index = ef.tickers.index(\"AMC\")\n",
    "ef.add_constraint(lambda w: w[amc_index] == 0.10)\n",
    "\n",
    "tsla_index = ef.tickers.index(\"TSLA\")\n",
    "ef.add_constraint(lambda w: w[tsla_index] <= 0.05)\n",
    "\n",
    "ef.add_constraint(lambda w: w[10] >= 0.05)\n",
    "\n",
    "ef.max_sharpe()\n",
    "weights = ef.clean_weights()"
   ]
  },
  {
   "cell_type": "code",
   "execution_count": 34,
   "metadata": {},
   "outputs": [
    {
     "data": {
      "text/plain": [
       "OrderedDict([('AMC', 0.1),\n",
       "             ('AMD', 0.04102),\n",
       "             ('BABA', 0.01395),\n",
       "             ('BB', 0.03445),\n",
       "             ('BBBY', 0.04021),\n",
       "             ('GME', 0.05541),\n",
       "             ('MVIS', 0.06492),\n",
       "             ('NVDA', 0.03755),\n",
       "             ('SPY', 0.1),\n",
       "             ('TSLA', 0.04352),\n",
       "             ('BTC', 0.05),\n",
       "             ('BCH', 0.07163),\n",
       "             ('ETH', 0.0701),\n",
       "             ('ETC', 0.06918),\n",
       "             ('LTC', 0.07091),\n",
       "             ('XRP', 0.06751),\n",
       "             ('DOGE', 0.06964)])"
      ]
     },
     "execution_count": 34,
     "metadata": {},
     "output_type": "execute_result"
    }
   ],
   "source": [
    "weights"
   ]
  },
  {
   "cell_type": "code",
   "execution_count": 35,
   "metadata": {},
   "outputs": [
    {
     "name": "stderr",
     "output_type": "stream",
     "text": [
      "C:\\Users\\Victor\\anaconda3\\envs\\aa\\lib\\site-packages\\pandas\\plotting\\_matplotlib\\core.py:1583: MatplotlibDeprecationWarning: normalize=None does not normalize if the sum is less than 1 but this behavior is deprecated since 3.3 until two minor releases later. After the deprecation period the default value will be normalize=True. To prevent normalization pass normalize=False \n",
      "  results = ax.pie(y, labels=blabels, **kwds)\n"
     ]
    },
    {
     "data": {
      "image/png": "[encoded data removed]",
      "text/plain": [
       "<Figure size 720x720 with 1 Axes>"
      ]
     },
     "metadata": {},
     "output_type": "display_data"
    }
   ],
   "source": [
    "pd.Series(weights).plot.pie(figsize=(10,10));"
   ]
  },
  {
   "cell_type": "markdown",
   "metadata": {},
   "source": [
    "We can immediately see that our explicit constraints were satisfied, and can check all the sector constraints as follows:\n"
   ]
  },
  {
   "cell_type": "code",
   "execution_count": 36,
   "metadata": {},
   "outputs": [
    {
     "name": "stdout",
     "output_type": "stream",
     "text": [
      "US Equities: 0.100\n",
      "Crypto: 0.469\n",
      "WSB Stock: 0.431\n"
     ]
    }
   ],
   "source": [
    "# O(N^2) loop not a good idea in a coding interview :)\n",
    "for sector in set(sector_mapper.values()):\n",
    "    total_weight = 0\n",
    "    for t,w in weights.items():\n",
    "        if sector_mapper[t] == sector:\n",
    "            total_weight += w\n",
    "    print(f\"{sector}: {total_weight:.3f}\")"
   ]
  },
  {
   "cell_type": "code",
   "execution_count": 37,
   "metadata": {},
   "outputs": [
    {
     "name": "stdout",
     "output_type": "stream",
     "text": [
      "Expected annual return: 149.2%\n",
      "Annual volatility: 52.0%\n",
      "Sharpe Ratio: 2.83\n"
     ]
    }
   ],
   "source": [
    "ef.portfolio_performance(verbose=True);"
   ]
  },
  {
   "cell_type": "markdown",
   "metadata": {},
   "source": [
    "## Maximise return for a given risk, with L2 regularisation\n",
    "\n",
    "Let's imagine that we've put a lot of thought into our risk tolerance, and have decided that we can't accept anything more than 15% volatility. We can use PyPortfolioOpt to construct a portfolio that maximises return for a given risk (with the same caveats about expected returns)."
   ]
  },
  {
   "cell_type": "code",
   "execution_count": 38,
   "metadata": {},
   "outputs": [
    {
     "data": {
      "text/plain": [
       "OrderedDict([('AMC', 0.04185),\n",
       "             ('AMD', 0.06953),\n",
       "             ('BABA', 0.0976),\n",
       "             ('BB', 0.06687),\n",
       "             ('BBBY', 0.06407),\n",
       "             ('GME', 0.04365),\n",
       "             ('MVIS', 0.04876),\n",
       "             ('NVDA', 0.07059),\n",
       "             ('SPY', 0.10967),\n",
       "             ('TSLA', 0.0664),\n",
       "             ('BTC', 0.06402),\n",
       "             ('BCH', 0.04259),\n",
       "             ('ETH', 0.04205),\n",
       "             ('ETC', 0.04297),\n",
       "             ('LTC', 0.04225),\n",
       "             ('XRP', 0.04324),\n",
       "             ('DOGE', 0.0439)])"
      ]
     },
     "execution_count": 38,
     "metadata": {},
     "output_type": "execute_result"
    }
   ],
   "source": [
    "ef = EfficientFrontier(mu, S)\n",
    "ef.add_sector_constraints(sector_mapper, sector_lower, sector_upper)\n",
    "ef.efficient_risk(target_volatility=0.4)\n",
    "weights = ef.clean_weights()\n",
    "weights"
   ]
  },
  {
   "cell_type": "code",
   "execution_count": 64,
   "metadata": {},
   "outputs": [
    {
     "name": "stdout",
     "output_type": "stream",
     "text": [
      "0/17 tickers have zero weight\n"
     ]
    }
   ],
   "source": [
    "num_small = len([k for k in weights if weights[k] <= 1e-4])\n",
    "print(f\"{num_small}/{len(ef.tickers)} tickers have zero weight\")"
   ]
  },
  {
   "cell_type": "code",
   "execution_count": 65,
   "metadata": {},
   "outputs": [
    {
     "name": "stdout",
     "output_type": "stream",
     "text": [
      "Expected annual return: 111.3%\n",
      "Annual volatility: 40.0%\n",
      "Sharpe Ratio: 2.73\n"
     ]
    }
   ],
   "source": [
    "ef.portfolio_performance(verbose=True);"
   ]
  },
  {
   "cell_type": "markdown",
   "metadata": {},
   "source": [
    "While this portfolio seems like it meets our objectives, we might be worried by the fact that a lot of the tickers have been assigned zero weight. In effect, the optimizer is \"overfitting\" to the data you have provided -- you are much more likely to get better results by enforcing some level of diversification. One way of doing this is to use **L2 regularisation** – essentially, adding a penalty on the number of near-zero weights."
   ]
  },
  {
   "cell_type": "code",
   "execution_count": 67,
   "metadata": {},
   "outputs": [
    {
     "data": {
      "text/plain": [
       "OrderedDict([('AMC', 0.04178),\n",
       "             ('AMD', 0.06991),\n",
       "             ('BABA', 0.09717),\n",
       "             ('BB', 0.06712),\n",
       "             ('BBBY', 0.0643),\n",
       "             ('GME', 0.04365),\n",
       "             ('MVIS', 0.04889),\n",
       "             ('NVDA', 0.071),\n",
       "             ('SPY', 0.10865),\n",
       "             ('TSLA', 0.06678),\n",
       "             ('BTC', 0.06392),\n",
       "             ('BCH', 0.04248),\n",
       "             ('ETH', 0.04215),\n",
       "             ('ETC', 0.04295),\n",
       "             ('LTC', 0.04228),\n",
       "             ('XRP', 0.04319),\n",
       "             ('DOGE', 0.04379)])"
      ]
     },
     "execution_count": 67,
     "metadata": {},
     "output_type": "execute_result"
    }
   ],
   "source": [
    "from pypfopt import objective_functions\n",
    "\n",
    "# You must always create a new efficient frontier object\n",
    "ef = EfficientFrontier(mu, S)\n",
    "ef.add_sector_constraints(sector_mapper, sector_lower, sector_upper)\n",
    "ef.add_objective(objective_functions.L2_reg, gamma=0.1)  # gamme is the tuning parameter\n",
    "ef.efficient_risk(0.4)\n",
    "weights = ef.clean_weights()\n",
    "weights"
   ]
  },
  {
   "cell_type": "code",
   "execution_count": 68,
   "metadata": {},
   "outputs": [
    {
     "name": "stdout",
     "output_type": "stream",
     "text": [
      "0/17 tickers have zero weight\n"
     ]
    }
   ],
   "source": [
    "num_small = len([k for k in weights if weights[k] <= 1e-4])\n",
    "print(f\"{num_small}/{len(ef.tickers)} tickers have zero weight\")"
   ]
  },
  {
   "cell_type": "markdown",
   "metadata": {},
   "source": [
    "We can tune the value of gamma to choose the number of nonzero tickers. Larger gamma pulls portfolio weights towards an equal allocation."
   ]
  },
  {
   "cell_type": "code",
   "execution_count": 70,
   "metadata": {},
   "outputs": [
    {
     "data": {
      "text/plain": [
       "OrderedDict([('AMC', 0.04135),\n",
       "             ('AMD', 0.07222),\n",
       "             ('BABA', 0.09438),\n",
       "             ('BB', 0.06866),\n",
       "             ('BBBY', 0.06574),\n",
       "             ('GME', 0.04383),\n",
       "             ('MVIS', 0.04988),\n",
       "             ('NVDA', 0.07333),\n",
       "             ('SPY', 0.10247),\n",
       "             ('TSLA', 0.0692),\n",
       "             ('BTC', 0.06322),\n",
       "             ('BCH', 0.04174),\n",
       "             ('ETH', 0.04282),\n",
       "             ('ETC', 0.04284),\n",
       "             ('LTC', 0.04254),\n",
       "             ('XRP', 0.0429),\n",
       "             ('DOGE', 0.04288)])"
      ]
     },
     "execution_count": 70,
     "metadata": {},
     "output_type": "execute_result"
    }
   ],
   "source": [
    "ef = EfficientFrontier(mu, S)\n",
    "ef.add_sector_constraints(sector_mapper, sector_lower, sector_upper)\n",
    "ef.add_objective(objective_functions.L2_reg, gamma=1)  # gamme is the tuning parameter\n",
    "ef.efficient_risk(0.4)\n",
    "weights = ef.clean_weights()\n",
    "weights"
   ]
  },
  {
   "cell_type": "code",
   "execution_count": 71,
   "metadata": {},
   "outputs": [
    {
     "data": {
      "image/png": "[encoded data removed]",
      "text/plain": [
       "<Figure size 720x720 with 1 Axes>"
      ]
     },
     "metadata": {},
     "output_type": "display_data"
    }
   ],
   "source": [
    "pd.Series(weights).plot.pie(figsize=(10, 10));"
   ]
  },
  {
   "cell_type": "code",
   "execution_count": 72,
   "metadata": {},
   "outputs": [
    {
     "name": "stdout",
     "output_type": "stream",
     "text": [
      "Expected annual return: 111.3%\n",
      "Annual volatility: 40.0%\n",
      "Sharpe Ratio: 2.73\n"
     ]
    }
   ],
   "source": [
    "ef.portfolio_performance(verbose=True);"
   ]
  },
  {
   "cell_type": "markdown",
   "metadata": {},
   "source": [
    "The resulting portfolio still has a volatility of less than our 15% limit. It's in-sample Sharpe ratio has gone down, but this portfolio is a lot more robust for actual investment."
   ]
  },
  {
   "cell_type": "markdown",
   "metadata": {},
   "source": [
    "## Minimise risk for a given return, market-neutral\n",
    "\n",
    "We may instead be in the situation where we have a certain required rate of return (maybe we are a pension fund that needs 7% return a year), but would like to minimise risk. Additionally, suppose we would like our portfolio to be market neutral, in the sense that it is equally exposed to the long and short sides.  "
   ]
  },
  {
   "cell_type": "code",
   "execution_count": 73,
   "metadata": {},
   "outputs": [
    {
     "data": {
      "text/plain": [
       "OrderedDict([('AMC', 0.00548),\n",
       "             ('AMD', -0.00522),\n",
       "             ('BABA', -0.00929),\n",
       "             ('BB', -0.00379),\n",
       "             ('BBBY', -0.00295),\n",
       "             ('GME', 0.00421),\n",
       "             ('MVIS', 0.00166),\n",
       "             ('NVDA', -0.00543),\n",
       "             ('SPY', -0.01037),\n",
       "             ('TSLA', -0.00448),\n",
       "             ('BTC', -0.00084),\n",
       "             ('BCH', 0.00578),\n",
       "             ('ETH', 0.00451),\n",
       "             ('ETC', 0.00495),\n",
       "             ('LTC', 0.00478),\n",
       "             ('XRP', 0.00508),\n",
       "             ('DOGE', 0.00593)])"
      ]
     },
     "execution_count": 73,
     "metadata": {},
     "output_type": "execute_result"
    }
   ],
   "source": [
    "# Must have no weight bounds to allow shorts\n",
    "ef = EfficientFrontier(mu, S, weight_bounds=(None, None))\n",
    "ef.add_objective(objective_functions.L2_reg)\n",
    "ef.efficient_return(target_return=0.07, market_neutral=True)\n",
    "weights = ef.clean_weights()\n",
    "weights"
   ]
  },
  {
   "cell_type": "code",
   "execution_count": 74,
   "metadata": {},
   "outputs": [
    {
     "name": "stdout",
     "output_type": "stream",
     "text": [
      "Expected annual return: 7.0%\n",
      "Annual volatility: 3.3%\n",
      "Sharpe Ratio: 1.52\n"
     ]
    }
   ],
   "source": [
    "ef.portfolio_performance(verbose=True);"
   ]
  },
  {
   "cell_type": "code",
   "execution_count": 75,
   "metadata": {},
   "outputs": [
    {
     "data": {
      "image/png": "[encoded data removed]",
      "text/plain": [
       "<Figure size 720x432 with 1 Axes>"
      ]
     },
     "metadata": {
      "needs_background": "light"
     },
     "output_type": "display_data"
    }
   ],
   "source": [
    "pd.Series(weights).plot.barh(figsize=(10,6));"
   ]
  },
  {
   "cell_type": "code",
   "execution_count": 76,
   "metadata": {},
   "outputs": [
    {
     "name": "stdout",
     "output_type": "stream",
     "text": [
      "Net weight: 0.00\n"
     ]
    }
   ],
   "source": [
    "print(f\"Net weight: {sum(weights.values()):.2f}\")"
   ]
  },
  {
   "cell_type": "markdown",
   "metadata": {},
   "source": [
    "## Efficient semi-variance optimization\n",
    "\n",
    "In this example, we will minimise the portfolio semivariance (i.e downside volatility) subject to a return constraint (target 20%).\n",
    "\n",
    "There are actually two ways of doing this in PyPortfolioOpt. The first is the \"intuitive\" way. We compute a semicovariance matrix, and pass this into `EfficientFrontier` (just like we would do for the exponential cov matrix or the Ledoit-Wolf shrunk matrix)."
   ]
  },
  {
   "cell_type": "code",
   "execution_count": 77,
   "metadata": {},
   "outputs": [
    {
     "data": {
      "image/png": "[encoded data removed]",
      "text/plain": [
       "<Figure size 432x288 with 2 Axes>"
      ]
     },
     "metadata": {
      "needs_background": "light"
     },
     "output_type": "display_data"
    }
   ],
   "source": [
    "semicov = risk_models.semicovariance(prices, benchmark=0)\n",
    "plotting.plot_covariance(semicov);"
   ]
  },
  {
   "cell_type": "code",
   "execution_count": 78,
   "metadata": {},
   "outputs": [
    {
     "data": {
      "text/plain": [
       "OrderedDict([('AMC', 0.0),\n",
       "             ('AMD', 0.0),\n",
       "             ('BABA', 0.03323),\n",
       "             ('BB', 0.0),\n",
       "             ('BBBY', 0.0),\n",
       "             ('GME', 0.0),\n",
       "             ('MVIS', 0.0),\n",
       "             ('NVDA', 0.0),\n",
       "             ('SPY', 0.96677),\n",
       "             ('TSLA', 0.0),\n",
       "             ('BTC', 0.0),\n",
       "             ('BCH', 0.0),\n",
       "             ('ETH', 0.0),\n",
       "             ('ETC', 0.0),\n",
       "             ('LTC', 0.0),\n",
       "             ('XRP', 0.0),\n",
       "             ('DOGE', 0.0)])"
      ]
     },
     "execution_count": 78,
     "metadata": {},
     "output_type": "execute_result"
    }
   ],
   "source": [
    "ef = EfficientFrontier(mu, semicov)\n",
    "ef.efficient_return(0.2)\n",
    "weights = ef.clean_weights()\n",
    "weights\n"
   ]
  },
  {
   "cell_type": "code",
   "execution_count": 79,
   "metadata": {},
   "outputs": [
    {
     "name": "stdout",
     "output_type": "stream",
     "text": [
      "Expected annual return: 25.2%\n",
      "Annual volatility: 15.2%\n",
      "Sharpe Ratio: 1.52\n"
     ]
    }
   ],
   "source": [
    "ef.portfolio_performance(verbose=True);"
   ]
  },
  {
   "cell_type": "markdown",
   "metadata": {},
   "source": [
    "However, this solution is not truly optimal in mean-semivariance space. To do the optimization properly, we must use the `EfficientSemivariance` class. This requires us to first compute the returns and drop NaNs."
   ]
  },
  {
   "cell_type": "code",
   "execution_count": 80,
   "metadata": {},
   "outputs": [],
   "source": [
    "returns = expected_returns.returns_from_prices(prices)\n",
    "returns = returns.dropna()"
   ]
  },
  {
   "cell_type": "code",
   "execution_count": 81,
   "metadata": {},
   "outputs": [
    {
     "name": "stdout",
     "output_type": "stream",
     "text": [
      "Expected annual return: 30.4%\n",
      "Annual semi-deviation: 15.0%\n",
      "Sortino Ratio: 1.89\n"
     ]
    }
   ],
   "source": [
    "from pypfopt import EfficientSemivariance\n",
    "\n",
    "es = EfficientSemivariance(mu, returns)\n",
    "es.efficient_return(0.2)\n",
    "es.portfolio_performance(verbose=True);\n"
   ]
  },
  {
   "cell_type": "markdown",
   "metadata": {},
   "source": [
    "To compare this with the heuristic solution, I will use a quick hack: replacing the `es.weights` with `es.weights` and running `es.portfolio_performance` again. Please don't be encouraged to do this in real life!"
   ]
  },
  {
   "cell_type": "code",
   "execution_count": 82,
   "metadata": {},
   "outputs": [
    {
     "name": "stdout",
     "output_type": "stream",
     "text": [
      "Expected annual return: 25.2%\n",
      "Annual semi-deviation: 15.2%\n",
      "Sortino Ratio: 1.53\n"
     ]
    }
   ],
   "source": [
    "es.weights = ef.weights\n",
    "es.portfolio_performance(verbose=True);"
   ]
  },
  {
   "cell_type": "markdown",
   "metadata": {},
   "source": [
    "We see that the heuristic method has a significantly lower Sortino ratio, and much higher semivariance."
   ]
  },
  {
   "cell_type": "markdown",
   "metadata": {},
   "source": [
    "## Efficient CVaR optimization\n",
    "\n",
    "In this example, we will find the portfolio that maximises return subject to a CVaR constraint.\n",
    "\n",
    "Before doing this, let's first compute the 95%-CVaR for the max-sharpe portfolio."
   ]
  },
  {
   "cell_type": "code",
   "execution_count": 83,
   "metadata": {},
   "outputs": [
    {
     "data": {
      "text/html": [
       "<div>\n",
       "<style scoped>\n",
       "    .dataframe tbody tr th:only-of-type {\n",
       "        vertical-align: middle;\n",
       "    }\n",
       "\n",
       "    .dataframe tbody tr th {\n",
       "        vertical-align: top;\n",
       "    }\n",
       "\n",
       "    .dataframe thead th {\n",
       "        text-align: right;\n",
       "    }\n",
       "</style>\n",
       "<table border=\"1\" class=\"dataframe\">\n",
       "  <thead>\n",
       "    <tr style=\"text-align: right;\">\n",
       "      <th></th>\n",
       "      <th>AMC</th>\n",
       "      <th>AMD</th>\n",
       "      <th>BABA</th>\n",
       "      <th>BB</th>\n",
       "      <th>BBBY</th>\n",
       "      <th>GME</th>\n",
       "      <th>MVIS</th>\n",
       "      <th>NVDA</th>\n",
       "      <th>SPY</th>\n",
       "      <th>TSLA</th>\n",
       "      <th>BTC</th>\n",
       "      <th>BCH</th>\n",
       "      <th>ETH</th>\n",
       "      <th>ETC</th>\n",
       "      <th>LTC</th>\n",
       "      <th>XRP</th>\n",
       "      <th>DOGE</th>\n",
       "    </tr>\n",
       "    <tr>\n",
       "      <th>Date</th>\n",
       "      <th></th>\n",
       "      <th></th>\n",
       "      <th></th>\n",
       "      <th></th>\n",
       "      <th></th>\n",
       "      <th></th>\n",
       "      <th></th>\n",
       "      <th></th>\n",
       "      <th></th>\n",
       "      <th></th>\n",
       "      <th></th>\n",
       "      <th></th>\n",
       "      <th></th>\n",
       "      <th></th>\n",
       "      <th></th>\n",
       "      <th></th>\n",
       "      <th></th>\n",
       "    </tr>\n",
       "  </thead>\n",
       "  <tbody>\n",
       "    <tr>\n",
       "      <th>2017-08-02</th>\n",
       "      <td>-0.269231</td>\n",
       "      <td>-0.024799</td>\n",
       "      <td>-0.018225</td>\n",
       "      <td>-0.001052</td>\n",
       "      <td>-0.008970</td>\n",
       "      <td>0.000936</td>\n",
       "      <td>0.026667</td>\n",
       "      <td>-0.000608</td>\n",
       "      <td>0.000485</td>\n",
       "      <td>0.019777</td>\n",
       "      <td>-0.002792</td>\n",
       "      <td>0.191179</td>\n",
       "      <td>-0.030075</td>\n",
       "      <td>0.013727</td>\n",
       "      <td>-0.021143</td>\n",
       "      <td>-0.055556</td>\n",
       "      <td>-0.002232</td>\n",
       "    </tr>\n",
       "    <tr>\n",
       "      <th>2017-08-03</th>\n",
       "      <td>-0.006579</td>\n",
       "      <td>-0.009723</td>\n",
       "      <td>0.009282</td>\n",
       "      <td>-0.008421</td>\n",
       "      <td>0.023802</td>\n",
       "      <td>0.013096</td>\n",
       "      <td>0.060606</td>\n",
       "      <td>0.012714</td>\n",
       "      <td>-0.001940</td>\n",
       "      <td>0.065053</td>\n",
       "      <td>0.034700</td>\n",
       "      <td>-0.195754</td>\n",
       "      <td>0.024506</td>\n",
       "      <td>0.040623</td>\n",
       "      <td>0.017327</td>\n",
       "      <td>0.000000</td>\n",
       "      <td>0.003915</td>\n",
       "    </tr>\n",
       "    <tr>\n",
       "      <th>2017-08-04</th>\n",
       "      <td>0.076159</td>\n",
       "      <td>-0.009063</td>\n",
       "      <td>0.000065</td>\n",
       "      <td>0.002123</td>\n",
       "      <td>-0.014407</td>\n",
       "      <td>0.012466</td>\n",
       "      <td>0.008163</td>\n",
       "      <td>0.004385</td>\n",
       "      <td>0.001822</td>\n",
       "      <td>0.028292</td>\n",
       "      <td>0.032502</td>\n",
       "      <td>-0.359841</td>\n",
       "      <td>-0.010074</td>\n",
       "      <td>-0.021470</td>\n",
       "      <td>0.013766</td>\n",
       "      <td>0.000000</td>\n",
       "      <td>0.013928</td>\n",
       "    </tr>\n",
       "    <tr>\n",
       "      <th>2017-08-07</th>\n",
       "      <td>-0.009231</td>\n",
       "      <td>0.023628</td>\n",
       "      <td>0.035936</td>\n",
       "      <td>-0.036017</td>\n",
       "      <td>0.017940</td>\n",
       "      <td>0.010944</td>\n",
       "      <td>0.020243</td>\n",
       "      <td>0.030740</td>\n",
       "      <td>0.001859</td>\n",
       "      <td>-0.004875</td>\n",
       "      <td>0.166805</td>\n",
       "      <td>0.371766</td>\n",
       "      <td>0.206706</td>\n",
       "      <td>0.017952</td>\n",
       "      <td>0.054085</td>\n",
       "      <td>0.058824</td>\n",
       "      <td>0.070879</td>\n",
       "    </tr>\n",
       "    <tr>\n",
       "      <th>2017-08-08</th>\n",
       "      <td>0.003106</td>\n",
       "      <td>-0.023827</td>\n",
       "      <td>-0.008436</td>\n",
       "      <td>-0.007692</td>\n",
       "      <td>-0.008486</td>\n",
       "      <td>-0.010374</td>\n",
       "      <td>-0.023810</td>\n",
       "      <td>-0.011894</td>\n",
       "      <td>-0.002461</td>\n",
       "      <td>0.028296</td>\n",
       "      <td>0.012134</td>\n",
       "      <td>0.080703</td>\n",
       "      <td>0.102496</td>\n",
       "      <td>0.037231</td>\n",
       "      <td>0.061790</td>\n",
       "      <td>0.055556</td>\n",
       "      <td>0.006157</td>\n",
       "    </tr>\n",
       "  </tbody>\n",
       "</table>\n",
       "</div>"
      ],
      "text/plain": [
       "                 AMC       AMD      BABA        BB      BBBY       GME  \\\n",
       "Date                                                                     \n",
       "2017-08-02 -0.269231 -0.024799 -0.018225 -0.001052 -0.008970  0.000936   \n",
       "2017-08-03 -0.006579 -0.009723  0.009282 -0.008421  0.023802  0.013096   \n",
       "2017-08-04  0.076159 -0.009063  0.000065  0.002123 -0.014407  0.012466   \n",
       "2017-08-07 -0.009231  0.023628  0.035936 -0.036017  0.017940  0.010944   \n",
       "2017-08-08  0.003106 -0.023827 -0.008436 -0.007692 -0.008486 -0.010374   \n",
       "\n",
       "                MVIS      NVDA       SPY      TSLA       BTC       BCH  \\\n",
       "Date                                                                     \n",
       "2017-08-02  0.026667 -0.000608  0.000485  0.019777 -0.002792  0.191179   \n",
       "2017-08-03  0.060606  0.012714 -0.001940  0.065053  0.034700 -0.195754   \n",
       "2017-08-04  0.008163  0.004385  0.001822  0.028292  0.032502 -0.359841   \n",
       "2017-08-07  0.020243  0.030740  0.001859 -0.004875  0.166805  0.371766   \n",
       "2017-08-08 -0.023810 -0.011894 -0.002461  0.028296  0.012134  0.080703   \n",
       "\n",
       "                 ETH       ETC       LTC       XRP      DOGE  \n",
       "Date                                                          \n",
       "2017-08-02 -0.030075  0.013727 -0.021143 -0.055556 -0.002232  \n",
       "2017-08-03  0.024506  0.040623  0.017327  0.000000  0.003915  \n",
       "2017-08-04 -0.010074 -0.021470  0.013766  0.000000  0.013928  \n",
       "2017-08-07  0.206706  0.017952  0.054085  0.058824  0.070879  \n",
       "2017-08-08  0.102496  0.037231  0.061790  0.055556  0.006157  "
      ]
     },
     "execution_count": 83,
     "metadata": {},
     "output_type": "execute_result"
    }
   ],
   "source": [
    "returns = expected_returns.returns_from_prices(prices).dropna()\n",
    "returns.head()"
   ]
  },
  {
   "cell_type": "code",
   "execution_count": 84,
   "metadata": {},
   "outputs": [
    {
     "name": "stdout",
     "output_type": "stream",
     "text": [
      "Expected annual return: 149.8%\n",
      "Annual volatility: 51.7%\n",
      "Sharpe Ratio: 2.86\n"
     ]
    }
   ],
   "source": [
    "ef = EfficientFrontier(mu, S)\n",
    "ef.max_sharpe()\n",
    "weight_arr = ef.weights\n",
    "ef.portfolio_performance(verbose=True);"
   ]
  },
  {
   "cell_type": "code",
   "execution_count": 85,
   "metadata": {},
   "outputs": [
    {
     "data": {
      "image/png": "[encoded data removed]",
      "text/plain": [
       "<Figure size 432x288 with 1 Axes>"
      ]
     },
     "metadata": {
      "needs_background": "light"
     },
     "output_type": "display_data"
    }
   ],
   "source": [
    "# Compute CVaR\n",
    "portfolio_rets = (returns * weight_arr).sum(axis=1)\n",
    "portfolio_rets.hist(bins=50);"
   ]
  },
  {
   "cell_type": "code",
   "execution_count": 86,
   "metadata": {},
   "outputs": [
    {
     "name": "stdout",
     "output_type": "stream",
     "text": [
      "VaR: -4.81%\n",
      "CVaR: -7.72%\n"
     ]
    }
   ],
   "source": [
    "# VaR\n",
    "var = portfolio_rets.quantile(0.05)\n",
    "cvar = portfolio_rets[portfolio_rets <= var].mean()\n",
    "print(\"VaR: {:.2f}%\".format(100*var))\n",
    "print(\"CVaR: {:.2f}%\".format(100*cvar))"
   ]
  },
  {
   "cell_type": "markdown",
   "metadata": {},
   "source": [
    "This value of the CVaR means that our average loss on the worst 5% of days will be -3.35%. Let's say that this were beyond our comfort zone (for a \\\\$100,000 portfolio, this would mean losing \\\\$3350 in a day).\n",
    "\n",
    "Let's firstly construct the portfolio with the minimum CVaR:"
   ]
  },
  {
   "cell_type": "code",
   "execution_count": 87,
   "metadata": {},
   "outputs": [
    {
     "name": "stdout",
     "output_type": "stream",
     "text": [
      "Expected annual return: 33.4%\n",
      "Conditional Value at Risk: 3.25%\n"
     ]
    }
   ],
   "source": [
    "from pypfopt import EfficientCVaR\n",
    "\n",
    "ec = EfficientCVaR(mu, returns)\n",
    "ec.min_cvar()\n",
    "ec.portfolio_performance(verbose=True);"
   ]
  },
  {
   "cell_type": "markdown",
   "metadata": {},
   "source": [
    "We have significantly reduced the CVaR, but at the cost of a large reduction in returns. We can use `efficient_risk` to maximise the return for a target risk. Let's say that a 2.5% CVaR is acceptable."
   ]
  },
  {
   "cell_type": "code",
   "execution_count": 89,
   "metadata": {},
   "outputs": [
    {
     "name": "stdout",
     "output_type": "stream",
     "text": [
      "Expected annual return: 55.1%\n",
      "Conditional Value at Risk: 3.50%\n"
     ]
    }
   ],
   "source": [
    "from pypfopt import EfficientCVaR\n",
    "\n",
    "ec = EfficientCVaR(mu, returns)\n",
    "ec.efficient_risk(target_cvar=0.035)\n",
    "ec.portfolio_performance(verbose=True);"
   ]
  },
  {
   "cell_type": "markdown",
   "metadata": {},
   "source": [
    "We now have similar returns to before (24.7% vs 25.8%), but with a lower tail risk (2.50% CVaR vs 3.35%). "
   ]
  },
  {
   "cell_type": "markdown",
   "metadata": {},
   "source": [
    "## Plotting - Unconstrained\n",
    "\n",
    "To plot the unconstrained efficient frontier, it is easiest to use the critical line algorithm. "
   ]
  },
  {
   "cell_type": "code",
   "execution_count": 90,
   "metadata": {},
   "outputs": [
    {
     "name": "stdout",
     "output_type": "stream",
     "text": [
      "Expected annual return: 147.2%\n",
      "Annual volatility: 50.8%\n",
      "Sharpe Ratio: 2.86\n"
     ]
    }
   ],
   "source": [
    "from pypfopt import CLA, plotting\n",
    "\n",
    "cla = CLA(mu, S)\n",
    "cla.max_sharpe()\n",
    "cla.portfolio_performance(verbose=True);"
   ]
  },
  {
   "cell_type": "code",
   "execution_count": 91,
   "metadata": {},
   "outputs": [
    {
     "data": {
      "image/png": "[encoded data removed]",
      "text/plain": [
       "<Figure size 432x288 with 1 Axes>"
      ]
     },
     "metadata": {
      "needs_background": "light"
     },
     "output_type": "display_data"
    }
   ],
   "source": [
    "ax = plotting.plot_efficient_frontier(cla, showfig=False)"
   ]
  },
  {
   "cell_type": "markdown",
   "metadata": {},
   "source": [
    "## Plotting - Constrained"
   ]
  },
  {
   "cell_type": "markdown",
   "metadata": {},
   "source": [
    "In this example, we will plot the efficient frontier corresponding to portfolios with a constraint on exposure to MSFT, AMZN, and TSLA (e.g maybe we want to avoid big tech)."
   ]
  },
  {
   "cell_type": "code",
   "execution_count": 93,
   "metadata": {},
   "outputs": [],
   "source": [
    "import cvxpy as cp\n",
    "\n",
    "mu = expected_returns.capm_return(prices)\n",
    "S = risk_models.CovarianceShrinkage(prices).ledoit_wolf()\n",
    "\n",
    "ef = EfficientFrontier(mu, S,)\n",
    "#big_tech_indices = [t in {\"MSFT\", \"AMZN\", \"TSLA\"} for t in tickers]\n",
    "#ef.add_constraint(lambda w: cp.sum(w[big_tech_indices]) <= 0.3)"
   ]
  },
  {
   "cell_type": "markdown",
   "metadata": {},
   "source": [
    "As per the docs, *before* we call any optimization function, we should pass this to the plotting module:"
   ]
  },
  {
   "cell_type": "code",
   "execution_count": 95,
   "metadata": {},
   "outputs": [
    {
     "data": {
      "image/png": "[encoded data removed]",
      "text/plain": [
       "<Figure size 432x288 with 1 Axes>"
      ]
     },
     "metadata": {
      "needs_background": "light"
     },
     "output_type": "display_data"
    }
   ],
   "source": [
    "ax = plotting.plot_efficient_frontier(ef, ef_param=\"risk\", \n",
    "                                      ef_param_range=np.linspace(0.4, 0.4, 50), \n",
    "                                      showfig=False);"
   ]
  },
  {
   "cell_type": "markdown",
   "metadata": {},
   "source": [
    "## Complex plots\n",
    "\n",
    "The `plotting` module allows you to pass in an `ax`, on top of which the plots are added. This allows you to build complex plots. \n",
    "\n",
    "In this example, we will plot the efficient frontier as well as 10,000 simulated portfolios. \n",
    "\n",
    "To generate the simulated portfolios, we will sample random weights from the Dirichlet distribution (these are already normalised):"
   ]
  },
  {
   "cell_type": "code",
   "execution_count": 50,
   "metadata": {},
   "outputs": [
    {
     "name": "stdout",
     "output_type": "stream",
     "text": [
      "Sample portfolio returns: [0.64646424 0.56671184 0.53693606 ... 0.64932694 0.8196342  0.79789406]\n",
      "Sample portfolio volatilities: 0       0.591283\n",
      "1       0.483362\n",
      "2       0.442404\n",
      "3       0.553056\n",
      "4       0.495244\n",
      "          ...   \n",
      "9995    0.564217\n",
      "9996    0.436617\n",
      "9997    0.599973\n",
      "9998    0.539538\n",
      "9999    0.569152\n",
      "Length: 10000, dtype: float64\n"
     ]
    }
   ],
   "source": [
    "n_samples = 10000\n",
    "w = np.random.dirichlet(np.ones(len(mu)), n_samples)\n",
    "rets = w.dot(mu)\n",
    "stds = np.sqrt((w.T * (S @ w.T)).sum(axis=0))\n",
    "sharpes = rets / stds\n",
    "\n",
    "print(\"Sample portfolio returns:\", rets)\n",
    "print(\"Sample portfolio volatilities:\", stds)"
   ]
  },
  {
   "cell_type": "markdown",
   "metadata": {},
   "source": [
    "Note that the above code is equivalent to generating samples via a for loop (just more efficient)"
   ]
  },
  {
   "cell_type": "code",
   "execution_count": 97,
   "metadata": {},
   "outputs": [],
   "source": [
    "# mus = []\n",
    "# stds = []\n",
    "# sharpes = []\n",
    "# for _ in range(10000):\n",
    "#     w = np.random.dirichlet(np.ones(len(mu)))\n",
    "#     # w = np.random.rand(len(mu))\n",
    "#     # w /= w.sum()\n",
    "#     ret = mu.dot(w)\n",
    "#     std = np.sqrt(w.dot(S @ w))\n",
    "#     mus.append(ret)\n",
    "#     stds.append(std)\n",
    "#     sharpes.append(ret / std)"
   ]
  },
  {
   "cell_type": "code",
   "execution_count": 51,
   "metadata": {},
   "outputs": [
    {
     "data": {
      "image/png": "[encoded data removed]",
      "text/plain": [
       "<Figure size 432x288 with 1 Axes>"
      ]
     },
     "metadata": {
      "needs_background": "light"
     },
     "output_type": "display_data"
    }
   ],
   "source": [
    "# Plot efficient frontier with Monte Carlo sim\n",
    "ef = EfficientFrontier(mu, S, weight_bounds = (0,1))\n",
    "\n",
    "fig, ax = plt.subplots()\n",
    "plotting.plot_efficient_frontier(ef, ax=ax, show_assets=False)\n",
    "\n",
    "# Find and plot the tangency portfolio\n",
    "ef.max_sharpe()\n",
    "ret_tangent, std_tangent, _ = ef.portfolio_performance()\n",
    "ax.scatter(std_tangent, ret_tangent, marker=\"*\", s=100, c=\"r\", label=\"Max Sharpe\")\n",
    "\n",
    "# Plot random portfolios\n",
    "ax.scatter(stds, rets, marker=\".\", c=sharpes, cmap=\"viridis_r\")\n",
    "\n",
    "# Format\n",
    "ax.set_title(\"Efficient Frontier with random portfolios\")\n",
    "ax.legend()\n",
    "plt.tight_layout()\n",
    "plt.show()\n"
   ]
  },
  {
   "cell_type": "code",
   "execution_count": null,
   "metadata": {},
   "outputs": [],
   "source": []
  }
 ],
 "metadata": {
  "kernelspec": {
   "display_name": "Python 3",
   "language": "python",
   "name": "python3"
  },
  "language_info": {
   "codemirror_mode": {
    "name": "ipython",
    "version": 3
   },
   "file_extension": ".py",
   "mimetype": "text/x-python",
   "name": "python",
   "nbconvert_exporter": "python",
   "pygments_lexer": "ipython3",
   "version": "3.7.10"
  }
 },
 "nbformat": 4,
 "nbformat_minor": 4
}
