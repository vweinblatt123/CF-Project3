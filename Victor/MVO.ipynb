{
 "cells": [
  {
   "cell_type": "markdown",
   "metadata": {},
   "source": [
    "# Mean-variance optimization\n",
    "\n",
    "In this cookbook recipe, we work on several examples demonstrating PyPortfolioOpt's mean-variance capabilities. I will discuss what I think should be your \"default\" options, based on my experience in optimising portfolios.\n",
    "\n",
    "To start, you need a list of tickers. Some people just provide the whole universe of stocks, but I don't think this is a good idea - portfolio optimization is quite different from asset selection. I would suggest anywhere from 10-50 stocks as a starting point."
   ]
  },
  {
   "cell_type": "code",
   "execution_count": 2,
   "metadata": {},
   "outputs": [],
   "source": [
    "import yfinance as yf\n",
    "from pathlib import Path\n",
    "import matplotlib.pyplot as plt\n",
    "import pandas as pd\n",
    "import numpy as np"
   ]
  },
  {
   "cell_type": "code",
   "execution_count": 4,
   "metadata": {},
   "outputs": [],
   "source": [
    "stock_path = Path(\"../Resources/stock_prices.csv\")\n",
    "stock_prices = pd.read_csv(stock_path, infer_datetime_format = True, parse_dates = True, index_col = \"Date\")"
   ]
  },
  {
   "cell_type": "code",
   "execution_count": 5,
   "metadata": {},
   "outputs": [
    {
     "data": {
      "text/html": [
       "<div>\n",
       "<style scoped>\n",
       "    .dataframe tbody tr th:only-of-type {\n",
       "        vertical-align: middle;\n",
       "    }\n",
       "\n",
       "    .dataframe tbody tr th {\n",
       "        vertical-align: top;\n",
       "    }\n",
       "\n",
       "    .dataframe thead th {\n",
       "        text-align: right;\n",
       "    }\n",
       "</style>\n",
       "<table border=\"1\" class=\"dataframe\">\n",
       "  <thead>\n",
       "    <tr style=\"text-align: right;\">\n",
       "      <th></th>\n",
       "      <th>AMC</th>\n",
       "      <th>AMD</th>\n",
       "      <th>BABA</th>\n",
       "      <th>BB</th>\n",
       "      <th>BBBY</th>\n",
       "      <th>GME</th>\n",
       "      <th>MVIS</th>\n",
       "      <th>NVDA</th>\n",
       "      <th>SPY</th>\n",
       "      <th>TSLA</th>\n",
       "    </tr>\n",
       "    <tr>\n",
       "      <th>Date</th>\n",
       "      <th></th>\n",
       "      <th></th>\n",
       "      <th></th>\n",
       "      <th></th>\n",
       "      <th></th>\n",
       "      <th></th>\n",
       "      <th></th>\n",
       "      <th></th>\n",
       "      <th></th>\n",
       "      <th></th>\n",
       "    </tr>\n",
       "  </thead>\n",
       "  <tbody>\n",
       "    <tr>\n",
       "      <th>2017-08-01</th>\n",
       "      <td>16.469416</td>\n",
       "      <td>13.710000</td>\n",
       "      <td>154.729996</td>\n",
       "      <td>9.51</td>\n",
       "      <td>26.660824</td>\n",
       "      <td>17.939491</td>\n",
       "      <td>2.25</td>\n",
       "      <td>162.812164</td>\n",
       "      <td>230.738785</td>\n",
       "      <td>63.914001</td>\n",
       "    </tr>\n",
       "    <tr>\n",
       "      <th>2017-08-02</th>\n",
       "      <td>12.035346</td>\n",
       "      <td>13.370000</td>\n",
       "      <td>151.910004</td>\n",
       "      <td>9.50</td>\n",
       "      <td>26.421677</td>\n",
       "      <td>17.956287</td>\n",
       "      <td>2.31</td>\n",
       "      <td>162.713196</td>\n",
       "      <td>230.850769</td>\n",
       "      <td>65.178001</td>\n",
       "    </tr>\n",
       "    <tr>\n",
       "      <th>2017-08-03</th>\n",
       "      <td>11.956165</td>\n",
       "      <td>13.240000</td>\n",
       "      <td>153.320007</td>\n",
       "      <td>9.42</td>\n",
       "      <td>27.050552</td>\n",
       "      <td>18.191450</td>\n",
       "      <td>2.45</td>\n",
       "      <td>164.781860</td>\n",
       "      <td>230.402954</td>\n",
       "      <td>69.417999</td>\n",
       "    </tr>\n",
       "    <tr>\n",
       "      <th>2017-08-04</th>\n",
       "      <td>12.866734</td>\n",
       "      <td>13.120000</td>\n",
       "      <td>153.330002</td>\n",
       "      <td>9.44</td>\n",
       "      <td>26.660824</td>\n",
       "      <td>18.418217</td>\n",
       "      <td>2.47</td>\n",
       "      <td>165.504440</td>\n",
       "      <td>230.822754</td>\n",
       "      <td>71.382004</td>\n",
       "    </tr>\n",
       "    <tr>\n",
       "      <th>2017-08-07</th>\n",
       "      <td>12.747964</td>\n",
       "      <td>13.430000</td>\n",
       "      <td>158.839996</td>\n",
       "      <td>9.10</td>\n",
       "      <td>27.139126</td>\n",
       "      <td>18.619781</td>\n",
       "      <td>2.52</td>\n",
       "      <td>170.591980</td>\n",
       "      <td>231.251907</td>\n",
       "      <td>71.033997</td>\n",
       "    </tr>\n",
       "    <tr>\n",
       "      <th>...</th>\n",
       "      <td>...</td>\n",
       "      <td>...</td>\n",
       "      <td>...</td>\n",
       "      <td>...</td>\n",
       "      <td>...</td>\n",
       "      <td>...</td>\n",
       "      <td>...</td>\n",
       "      <td>...</td>\n",
       "      <td>...</td>\n",
       "      <td>...</td>\n",
       "    </tr>\n",
       "    <tr>\n",
       "      <th>2021-05-19</th>\n",
       "      <td>12.640000</td>\n",
       "      <td>76.230003</td>\n",
       "      <td>212.539993</td>\n",
       "      <td>8.54</td>\n",
       "      <td>24.650000</td>\n",
       "      <td>168.830002</td>\n",
       "      <td>13.98</td>\n",
       "      <td>562.630005</td>\n",
       "      <td>410.859985</td>\n",
       "      <td>563.460022</td>\n",
       "    </tr>\n",
       "    <tr>\n",
       "      <th>2021-05-20</th>\n",
       "      <td>12.550000</td>\n",
       "      <td>78.059998</td>\n",
       "      <td>216.990005</td>\n",
       "      <td>8.78</td>\n",
       "      <td>23.690001</td>\n",
       "      <td>170.490005</td>\n",
       "      <td>14.34</td>\n",
       "      <td>584.500000</td>\n",
       "      <td>415.279999</td>\n",
       "      <td>586.780029</td>\n",
       "    </tr>\n",
       "    <tr>\n",
       "      <th>NaT</th>\n",
       "      <td>NaN</td>\n",
       "      <td>NaN</td>\n",
       "      <td>NaN</td>\n",
       "      <td>NaN</td>\n",
       "      <td>NaN</td>\n",
       "      <td>NaN</td>\n",
       "      <td>NaN</td>\n",
       "      <td>NaN</td>\n",
       "      <td>NaN</td>\n",
       "      <td>NaN</td>\n",
       "    </tr>\n",
       "    <tr>\n",
       "      <th>NaT</th>\n",
       "      <td>NaN</td>\n",
       "      <td>NaN</td>\n",
       "      <td>NaN</td>\n",
       "      <td>NaN</td>\n",
       "      <td>NaN</td>\n",
       "      <td>NaN</td>\n",
       "      <td>NaN</td>\n",
       "      <td>NaN</td>\n",
       "      <td>NaN</td>\n",
       "      <td>NaN</td>\n",
       "    </tr>\n",
       "    <tr>\n",
       "      <th>NaT</th>\n",
       "      <td>NaN</td>\n",
       "      <td>NaN</td>\n",
       "      <td>NaN</td>\n",
       "      <td>NaN</td>\n",
       "      <td>NaN</td>\n",
       "      <td>NaN</td>\n",
       "      <td>NaN</td>\n",
       "      <td>NaN</td>\n",
       "      <td>NaN</td>\n",
       "      <td>NaN</td>\n",
       "    </tr>\n",
       "  </tbody>\n",
       "</table>\n",
       "<p>961 rows × 10 columns</p>\n",
       "</div>"
      ],
      "text/plain": [
       "                  AMC        AMD        BABA    BB       BBBY         GME  \\\n",
       "Date                                                                        \n",
       "2017-08-01  16.469416  13.710000  154.729996  9.51  26.660824   17.939491   \n",
       "2017-08-02  12.035346  13.370000  151.910004  9.50  26.421677   17.956287   \n",
       "2017-08-03  11.956165  13.240000  153.320007  9.42  27.050552   18.191450   \n",
       "2017-08-04  12.866734  13.120000  153.330002  9.44  26.660824   18.418217   \n",
       "2017-08-07  12.747964  13.430000  158.839996  9.10  27.139126   18.619781   \n",
       "...               ...        ...         ...   ...        ...         ...   \n",
       "2021-05-19  12.640000  76.230003  212.539993  8.54  24.650000  168.830002   \n",
       "2021-05-20  12.550000  78.059998  216.990005  8.78  23.690001  170.490005   \n",
       "NaT               NaN        NaN         NaN   NaN        NaN         NaN   \n",
       "NaT               NaN        NaN         NaN   NaN        NaN         NaN   \n",
       "NaT               NaN        NaN         NaN   NaN        NaN         NaN   \n",
       "\n",
       "             MVIS        NVDA         SPY        TSLA  \n",
       "Date                                                   \n",
       "2017-08-01   2.25  162.812164  230.738785   63.914001  \n",
       "2017-08-02   2.31  162.713196  230.850769   65.178001  \n",
       "2017-08-03   2.45  164.781860  230.402954   69.417999  \n",
       "2017-08-04   2.47  165.504440  230.822754   71.382004  \n",
       "2017-08-07   2.52  170.591980  231.251907   71.033997  \n",
       "...           ...         ...         ...         ...  \n",
       "2021-05-19  13.98  562.630005  410.859985  563.460022  \n",
       "2021-05-20  14.34  584.500000  415.279999  586.780029  \n",
       "NaT           NaN         NaN         NaN         NaN  \n",
       "NaT           NaN         NaN         NaN         NaN  \n",
       "NaT           NaN         NaN         NaN         NaN  \n",
       "\n",
       "[961 rows x 10 columns]"
      ]
     },
     "execution_count": 5,
     "metadata": {},
     "output_type": "execute_result"
    }
   ],
   "source": [
    "stock_prices"
   ]
  },
  {
   "cell_type": "code",
   "execution_count": 2,
   "metadata": {},
   "outputs": [],
   "source": [
    "tickers = [\"MSFT\", \"AMZN\", \"KO\", \"MA\", \"COST\", \n",
    "           \"LUV\", \"XOM\", \"PFE\", \"JPM\", \"UNH\", \n",
    "           \"ACN\", \"DIS\", \"GILD\", \"F\", \"TSLA\"] "
   ]
  },
  {
   "cell_type": "code",
   "execution_count": 4,
   "metadata": {},
   "outputs": [
    {
     "name": "stdout",
     "output_type": "stream",
     "text": [
      "[*********************100%***********************]  15 of 15 completed\n"
     ]
    }
   ],
   "source": [
    "ohlc = yf.download(tickers, period=\"max\")"
   ]
  },
  {
   "cell_type": "code",
   "execution_count": 7,
   "metadata": {},
   "outputs": [
    {
     "data": {
      "text/html": [
       "<div>\n",
       "<style scoped>\n",
       "    .dataframe tbody tr th:only-of-type {\n",
       "        vertical-align: middle;\n",
       "    }\n",
       "\n",
       "    .dataframe tbody tr th {\n",
       "        vertical-align: top;\n",
       "    }\n",
       "\n",
       "    .dataframe thead th {\n",
       "        text-align: right;\n",
       "    }\n",
       "</style>\n",
       "<table border=\"1\" class=\"dataframe\">\n",
       "  <thead>\n",
       "    <tr style=\"text-align: right;\">\n",
       "      <th></th>\n",
       "      <th>ACN</th>\n",
       "      <th>AMZN</th>\n",
       "      <th>COST</th>\n",
       "      <th>DIS</th>\n",
       "      <th>F</th>\n",
       "      <th>GILD</th>\n",
       "      <th>JPM</th>\n",
       "      <th>KO</th>\n",
       "      <th>LUV</th>\n",
       "      <th>MA</th>\n",
       "      <th>MSFT</th>\n",
       "      <th>PFE</th>\n",
       "      <th>TSLA</th>\n",
       "      <th>UNH</th>\n",
       "      <th>XOM</th>\n",
       "    </tr>\n",
       "    <tr>\n",
       "      <th>Date</th>\n",
       "      <th></th>\n",
       "      <th></th>\n",
       "      <th></th>\n",
       "      <th></th>\n",
       "      <th></th>\n",
       "      <th></th>\n",
       "      <th></th>\n",
       "      <th></th>\n",
       "      <th></th>\n",
       "      <th></th>\n",
       "      <th></th>\n",
       "      <th></th>\n",
       "      <th></th>\n",
       "      <th></th>\n",
       "      <th></th>\n",
       "    </tr>\n",
       "  </thead>\n",
       "  <tbody>\n",
       "    <tr>\n",
       "      <th>2021-05-19</th>\n",
       "      <td>280.970001</td>\n",
       "      <td>3231.800049</td>\n",
       "      <td>379.660004</td>\n",
       "      <td>169.270004</td>\n",
       "      <td>12.11</td>\n",
       "      <td>68.500000</td>\n",
       "      <td>161.110001</td>\n",
       "      <td>54.169998</td>\n",
       "      <td>60.389999</td>\n",
       "      <td>360.980011</td>\n",
       "      <td>243.119995</td>\n",
       "      <td>39.830002</td>\n",
       "      <td>563.460022</td>\n",
       "      <td>409.500000</td>\n",
       "      <td>58.980000</td>\n",
       "    </tr>\n",
       "    <tr>\n",
       "      <th>2021-05-20</th>\n",
       "      <td>283.950012</td>\n",
       "      <td>3247.679932</td>\n",
       "      <td>383.579987</td>\n",
       "      <td>171.360001</td>\n",
       "      <td>12.49</td>\n",
       "      <td>69.349998</td>\n",
       "      <td>160.830002</td>\n",
       "      <td>54.650002</td>\n",
       "      <td>59.919998</td>\n",
       "      <td>367.700012</td>\n",
       "      <td>246.479996</td>\n",
       "      <td>40.119999</td>\n",
       "      <td>586.780029</td>\n",
       "      <td>408.640015</td>\n",
       "      <td>58.840000</td>\n",
       "    </tr>\n",
       "    <tr>\n",
       "      <th>2021-05-21</th>\n",
       "      <td>283.380005</td>\n",
       "      <td>3203.080078</td>\n",
       "      <td>380.720001</td>\n",
       "      <td>172.399994</td>\n",
       "      <td>13.33</td>\n",
       "      <td>68.750000</td>\n",
       "      <td>162.660004</td>\n",
       "      <td>54.619999</td>\n",
       "      <td>60.090000</td>\n",
       "      <td>367.600006</td>\n",
       "      <td>245.169998</td>\n",
       "      <td>39.950001</td>\n",
       "      <td>580.880005</td>\n",
       "      <td>411.630005</td>\n",
       "      <td>58.919998</td>\n",
       "    </tr>\n",
       "    <tr>\n",
       "      <th>2021-05-24</th>\n",
       "      <td>284.850006</td>\n",
       "      <td>3244.989990</td>\n",
       "      <td>383.450012</td>\n",
       "      <td>174.309998</td>\n",
       "      <td>13.06</td>\n",
       "      <td>67.430000</td>\n",
       "      <td>163.539993</td>\n",
       "      <td>54.799999</td>\n",
       "      <td>60.680000</td>\n",
       "      <td>372.380005</td>\n",
       "      <td>250.779999</td>\n",
       "      <td>39.810001</td>\n",
       "      <td>606.440002</td>\n",
       "      <td>410.950012</td>\n",
       "      <td>59.610001</td>\n",
       "    </tr>\n",
       "    <tr>\n",
       "      <th>2021-05-25</th>\n",
       "      <td>285.989990</td>\n",
       "      <td>3259.050049</td>\n",
       "      <td>385.380005</td>\n",
       "      <td>176.169998</td>\n",
       "      <td>12.81</td>\n",
       "      <td>66.230003</td>\n",
       "      <td>161.850006</td>\n",
       "      <td>54.790001</td>\n",
       "      <td>60.549999</td>\n",
       "      <td>367.220001</td>\n",
       "      <td>251.720001</td>\n",
       "      <td>39.330002</td>\n",
       "      <td>604.690002</td>\n",
       "      <td>413.049988</td>\n",
       "      <td>58.259998</td>\n",
       "    </tr>\n",
       "  </tbody>\n",
       "</table>\n",
       "</div>"
      ],
      "text/plain": [
       "                   ACN         AMZN        COST         DIS      F       GILD  \\\n",
       "Date                                                                            \n",
       "2021-05-19  280.970001  3231.800049  379.660004  169.270004  12.11  68.500000   \n",
       "2021-05-20  283.950012  3247.679932  383.579987  171.360001  12.49  69.349998   \n",
       "2021-05-21  283.380005  3203.080078  380.720001  172.399994  13.33  68.750000   \n",
       "2021-05-24  284.850006  3244.989990  383.450012  174.309998  13.06  67.430000   \n",
       "2021-05-25  285.989990  3259.050049  385.380005  176.169998  12.81  66.230003   \n",
       "\n",
       "                   JPM         KO        LUV          MA        MSFT  \\\n",
       "Date                                                                   \n",
       "2021-05-19  161.110001  54.169998  60.389999  360.980011  243.119995   \n",
       "2021-05-20  160.830002  54.650002  59.919998  367.700012  246.479996   \n",
       "2021-05-21  162.660004  54.619999  60.090000  367.600006  245.169998   \n",
       "2021-05-24  163.539993  54.799999  60.680000  372.380005  250.779999   \n",
       "2021-05-25  161.850006  54.790001  60.549999  367.220001  251.720001   \n",
       "\n",
       "                  PFE        TSLA         UNH        XOM  \n",
       "Date                                                      \n",
       "2021-05-19  39.830002  563.460022  409.500000  58.980000  \n",
       "2021-05-20  40.119999  586.780029  408.640015  58.840000  \n",
       "2021-05-21  39.950001  580.880005  411.630005  58.919998  \n",
       "2021-05-24  39.810001  606.440002  410.950012  59.610001  \n",
       "2021-05-25  39.330002  604.690002  413.049988  58.259998  "
      ]
     },
     "execution_count": 7,
     "metadata": {},
     "output_type": "execute_result"
    }
   ],
   "source": [
    "prices = ohlc[\"Adj Close\"].dropna(how=\"all\")\n",
    "prices.tail()"
   ]
  },
  {
   "cell_type": "code",
   "execution_count": 8,
   "metadata": {},
   "outputs": [
    {
     "data": {
      "text/html": [
       "<div>\n",
       "<style scoped>\n",
       "    .dataframe tbody tr th:only-of-type {\n",
       "        vertical-align: middle;\n",
       "    }\n",
       "\n",
       "    .dataframe tbody tr th {\n",
       "        vertical-align: top;\n",
       "    }\n",
       "\n",
       "    .dataframe thead th {\n",
       "        text-align: right;\n",
       "    }\n",
       "</style>\n",
       "<table border=\"1\" class=\"dataframe\">\n",
       "  <thead>\n",
       "    <tr style=\"text-align: right;\">\n",
       "      <th></th>\n",
       "      <th>ACN</th>\n",
       "      <th>AMZN</th>\n",
       "      <th>COST</th>\n",
       "      <th>DIS</th>\n",
       "      <th>F</th>\n",
       "      <th>GILD</th>\n",
       "      <th>JPM</th>\n",
       "      <th>KO</th>\n",
       "      <th>LUV</th>\n",
       "      <th>MA</th>\n",
       "      <th>MSFT</th>\n",
       "      <th>PFE</th>\n",
       "      <th>TSLA</th>\n",
       "      <th>UNH</th>\n",
       "      <th>XOM</th>\n",
       "    </tr>\n",
       "    <tr>\n",
       "      <th>Date</th>\n",
       "      <th></th>\n",
       "      <th></th>\n",
       "      <th></th>\n",
       "      <th></th>\n",
       "      <th></th>\n",
       "      <th></th>\n",
       "      <th></th>\n",
       "      <th></th>\n",
       "      <th></th>\n",
       "      <th></th>\n",
       "      <th></th>\n",
       "      <th></th>\n",
       "      <th></th>\n",
       "      <th></th>\n",
       "      <th></th>\n",
       "    </tr>\n",
       "  </thead>\n",
       "  <tbody>\n",
       "    <tr>\n",
       "      <th>1962-01-02</th>\n",
       "      <td>NaN</td>\n",
       "      <td>NaN</td>\n",
       "      <td>NaN</td>\n",
       "      <td>0.058398</td>\n",
       "      <td>NaN</td>\n",
       "      <td>NaN</td>\n",
       "      <td>NaN</td>\n",
       "      <td>0.052310</td>\n",
       "      <td>NaN</td>\n",
       "      <td>NaN</td>\n",
       "      <td>NaN</td>\n",
       "      <td>NaN</td>\n",
       "      <td>NaN</td>\n",
       "      <td>NaN</td>\n",
       "      <td>0.105947</td>\n",
       "    </tr>\n",
       "    <tr>\n",
       "      <th>1962-01-03</th>\n",
       "      <td>NaN</td>\n",
       "      <td>NaN</td>\n",
       "      <td>NaN</td>\n",
       "      <td>0.059182</td>\n",
       "      <td>NaN</td>\n",
       "      <td>NaN</td>\n",
       "      <td>NaN</td>\n",
       "      <td>0.051144</td>\n",
       "      <td>NaN</td>\n",
       "      <td>NaN</td>\n",
       "      <td>NaN</td>\n",
       "      <td>NaN</td>\n",
       "      <td>NaN</td>\n",
       "      <td>NaN</td>\n",
       "      <td>0.107521</td>\n",
       "    </tr>\n",
       "    <tr>\n",
       "      <th>1962-01-04</th>\n",
       "      <td>NaN</td>\n",
       "      <td>NaN</td>\n",
       "      <td>NaN</td>\n",
       "      <td>0.059182</td>\n",
       "      <td>NaN</td>\n",
       "      <td>NaN</td>\n",
       "      <td>NaN</td>\n",
       "      <td>0.051533</td>\n",
       "      <td>NaN</td>\n",
       "      <td>NaN</td>\n",
       "      <td>NaN</td>\n",
       "      <td>NaN</td>\n",
       "      <td>NaN</td>\n",
       "      <td>NaN</td>\n",
       "      <td>0.107783</td>\n",
       "    </tr>\n",
       "    <tr>\n",
       "      <th>1962-01-05</th>\n",
       "      <td>NaN</td>\n",
       "      <td>NaN</td>\n",
       "      <td>NaN</td>\n",
       "      <td>0.059378</td>\n",
       "      <td>NaN</td>\n",
       "      <td>NaN</td>\n",
       "      <td>NaN</td>\n",
       "      <td>0.050367</td>\n",
       "      <td>NaN</td>\n",
       "      <td>NaN</td>\n",
       "      <td>NaN</td>\n",
       "      <td>NaN</td>\n",
       "      <td>NaN</td>\n",
       "      <td>NaN</td>\n",
       "      <td>0.105423</td>\n",
       "    </tr>\n",
       "    <tr>\n",
       "      <th>1962-01-08</th>\n",
       "      <td>NaN</td>\n",
       "      <td>NaN</td>\n",
       "      <td>NaN</td>\n",
       "      <td>0.059182</td>\n",
       "      <td>NaN</td>\n",
       "      <td>NaN</td>\n",
       "      <td>NaN</td>\n",
       "      <td>0.049849</td>\n",
       "      <td>NaN</td>\n",
       "      <td>NaN</td>\n",
       "      <td>NaN</td>\n",
       "      <td>NaN</td>\n",
       "      <td>NaN</td>\n",
       "      <td>NaN</td>\n",
       "      <td>0.105161</td>\n",
       "    </tr>\n",
       "  </tbody>\n",
       "</table>\n",
       "</div>"
      ],
      "text/plain": [
       "            ACN  AMZN  COST       DIS   F  GILD  JPM        KO  LUV  MA  MSFT  \\\n",
       "Date                                                                            \n",
       "1962-01-02  NaN   NaN   NaN  0.058398 NaN   NaN  NaN  0.052310  NaN NaN   NaN   \n",
       "1962-01-03  NaN   NaN   NaN  0.059182 NaN   NaN  NaN  0.051144  NaN NaN   NaN   \n",
       "1962-01-04  NaN   NaN   NaN  0.059182 NaN   NaN  NaN  0.051533  NaN NaN   NaN   \n",
       "1962-01-05  NaN   NaN   NaN  0.059378 NaN   NaN  NaN  0.050367  NaN NaN   NaN   \n",
       "1962-01-08  NaN   NaN   NaN  0.059182 NaN   NaN  NaN  0.049849  NaN NaN   NaN   \n",
       "\n",
       "            PFE  TSLA  UNH       XOM  \n",
       "Date                                  \n",
       "1962-01-02  NaN   NaN  NaN  0.105947  \n",
       "1962-01-03  NaN   NaN  NaN  0.107521  \n",
       "1962-01-04  NaN   NaN  NaN  0.107783  \n",
       "1962-01-05  NaN   NaN  NaN  0.105423  \n",
       "1962-01-08  NaN   NaN  NaN  0.105161  "
      ]
     },
     "execution_count": 8,
     "metadata": {},
     "output_type": "execute_result"
    }
   ],
   "source": [
    "prices.head()"
   ]
  },
  {
   "cell_type": "code",
   "execution_count": 9,
   "metadata": {},
   "outputs": [
    {
     "data": {
      "image/png": "[encoded data removed]",
      "text/plain": [
       "<Figure size 1080x720 with 1 Axes>"
      ]
     },
     "metadata": {
      "needs_background": "light"
     },
     "output_type": "display_data"
    }
   ],
   "source": [
    "prices[prices.index >= \"2008-01-01\"].plot(figsize=(15,10));"
   ]
  },
  {
   "cell_type": "markdown",
   "metadata": {},
   "source": [
    "## Calculating the covariance matrix"
   ]
  },
  {
   "cell_type": "code",
   "execution_count": 10,
   "metadata": {},
   "outputs": [
    {
     "data": {
      "text/plain": [
       "'1.4.1'"
      ]
     },
     "execution_count": 10,
     "metadata": {},
     "output_type": "execute_result"
    }
   ],
   "source": [
    "import pypfopt\n",
    "pypfopt.__version__"
   ]
  },
  {
   "cell_type": "code",
   "execution_count": 11,
   "metadata": {},
   "outputs": [
    {
     "data": {
      "text/html": [
       "<div>\n",
       "<style scoped>\n",
       "    .dataframe tbody tr th:only-of-type {\n",
       "        vertical-align: middle;\n",
       "    }\n",
       "\n",
       "    .dataframe tbody tr th {\n",
       "        vertical-align: top;\n",
       "    }\n",
       "\n",
       "    .dataframe thead th {\n",
       "        text-align: right;\n",
       "    }\n",
       "</style>\n",
       "<table border=\"1\" class=\"dataframe\">\n",
       "  <thead>\n",
       "    <tr style=\"text-align: right;\">\n",
       "      <th></th>\n",
       "      <th>ACN</th>\n",
       "      <th>AMZN</th>\n",
       "      <th>COST</th>\n",
       "      <th>DIS</th>\n",
       "      <th>F</th>\n",
       "      <th>GILD</th>\n",
       "      <th>JPM</th>\n",
       "      <th>KO</th>\n",
       "      <th>LUV</th>\n",
       "      <th>MA</th>\n",
       "      <th>MSFT</th>\n",
       "      <th>PFE</th>\n",
       "      <th>TSLA</th>\n",
       "      <th>UNH</th>\n",
       "      <th>XOM</th>\n",
       "    </tr>\n",
       "  </thead>\n",
       "  <tbody>\n",
       "    <tr>\n",
       "      <th>ACN</th>\n",
       "      <td>0.091865</td>\n",
       "      <td>0.044838</td>\n",
       "      <td>0.027300</td>\n",
       "      <td>0.040724</td>\n",
       "      <td>0.043307</td>\n",
       "      <td>0.029604</td>\n",
       "      <td>0.049263</td>\n",
       "      <td>0.020425</td>\n",
       "      <td>0.037011</td>\n",
       "      <td>0.045663</td>\n",
       "      <td>0.040542</td>\n",
       "      <td>0.026040</td>\n",
       "      <td>0.039654</td>\n",
       "      <td>0.030567</td>\n",
       "      <td>0.031104</td>\n",
       "    </tr>\n",
       "    <tr>\n",
       "      <th>AMZN</th>\n",
       "      <td>0.044838</td>\n",
       "      <td>0.340205</td>\n",
       "      <td>0.047576</td>\n",
       "      <td>0.054743</td>\n",
       "      <td>0.052125</td>\n",
       "      <td>0.060606</td>\n",
       "      <td>0.067449</td>\n",
       "      <td>0.020304</td>\n",
       "      <td>0.047351</td>\n",
       "      <td>0.056658</td>\n",
       "      <td>0.072229</td>\n",
       "      <td>0.032222</td>\n",
       "      <td>0.057105</td>\n",
       "      <td>0.035325</td>\n",
       "      <td>0.026969</td>\n",
       "    </tr>\n",
       "    <tr>\n",
       "      <th>COST</th>\n",
       "      <td>0.027300</td>\n",
       "      <td>0.047576</td>\n",
       "      <td>0.102508</td>\n",
       "      <td>0.032041</td>\n",
       "      <td>0.031064</td>\n",
       "      <td>0.027553</td>\n",
       "      <td>0.039164</td>\n",
       "      <td>0.021213</td>\n",
       "      <td>0.031635</td>\n",
       "      <td>0.032441</td>\n",
       "      <td>0.037064</td>\n",
       "      <td>0.025636</td>\n",
       "      <td>0.023760</td>\n",
       "      <td>0.027506</td>\n",
       "      <td>0.020711</td>\n",
       "    </tr>\n",
       "    <tr>\n",
       "      <th>DIS</th>\n",
       "      <td>0.040724</td>\n",
       "      <td>0.054743</td>\n",
       "      <td>0.032041</td>\n",
       "      <td>0.099736</td>\n",
       "      <td>0.040169</td>\n",
       "      <td>0.033008</td>\n",
       "      <td>0.047329</td>\n",
       "      <td>0.026339</td>\n",
       "      <td>0.038850</td>\n",
       "      <td>0.050290</td>\n",
       "      <td>0.042628</td>\n",
       "      <td>0.029873</td>\n",
       "      <td>0.036178</td>\n",
       "      <td>0.032431</td>\n",
       "      <td>0.025583</td>\n",
       "    </tr>\n",
       "    <tr>\n",
       "      <th>F</th>\n",
       "      <td>0.043307</td>\n",
       "      <td>0.052125</td>\n",
       "      <td>0.031064</td>\n",
       "      <td>0.040169</td>\n",
       "      <td>0.125091</td>\n",
       "      <td>0.030499</td>\n",
       "      <td>0.054409</td>\n",
       "      <td>0.026363</td>\n",
       "      <td>0.045596</td>\n",
       "      <td>0.062785</td>\n",
       "      <td>0.041079</td>\n",
       "      <td>0.027612</td>\n",
       "      <td>0.049457</td>\n",
       "      <td>0.029355</td>\n",
       "      <td>0.027393</td>\n",
       "    </tr>\n",
       "    <tr>\n",
       "      <th>GILD</th>\n",
       "      <td>0.029604</td>\n",
       "      <td>0.060606</td>\n",
       "      <td>0.027553</td>\n",
       "      <td>0.033008</td>\n",
       "      <td>0.030499</td>\n",
       "      <td>0.241989</td>\n",
       "      <td>0.043504</td>\n",
       "      <td>0.016863</td>\n",
       "      <td>0.031706</td>\n",
       "      <td>0.033830</td>\n",
       "      <td>0.036066</td>\n",
       "      <td>0.033033</td>\n",
       "      <td>0.033828</td>\n",
       "      <td>0.034694</td>\n",
       "      <td>0.021616</td>\n",
       "    </tr>\n",
       "    <tr>\n",
       "      <th>JPM</th>\n",
       "      <td>0.049263</td>\n",
       "      <td>0.067449</td>\n",
       "      <td>0.039164</td>\n",
       "      <td>0.047329</td>\n",
       "      <td>0.054409</td>\n",
       "      <td>0.043504</td>\n",
       "      <td>0.130009</td>\n",
       "      <td>0.028081</td>\n",
       "      <td>0.049054</td>\n",
       "      <td>0.071976</td>\n",
       "      <td>0.049930</td>\n",
       "      <td>0.033354</td>\n",
       "      <td>0.039700</td>\n",
       "      <td>0.039175</td>\n",
       "      <td>0.033240</td>\n",
       "    </tr>\n",
       "    <tr>\n",
       "      <th>KO</th>\n",
       "      <td>0.020425</td>\n",
       "      <td>0.020304</td>\n",
       "      <td>0.021213</td>\n",
       "      <td>0.026339</td>\n",
       "      <td>0.026363</td>\n",
       "      <td>0.016863</td>\n",
       "      <td>0.028081</td>\n",
       "      <td>0.054103</td>\n",
       "      <td>0.023245</td>\n",
       "      <td>0.026588</td>\n",
       "      <td>0.028076</td>\n",
       "      <td>0.026399</td>\n",
       "      <td>0.019247</td>\n",
       "      <td>0.023111</td>\n",
       "      <td>0.020892</td>\n",
       "    </tr>\n",
       "    <tr>\n",
       "      <th>LUV</th>\n",
       "      <td>0.037011</td>\n",
       "      <td>0.047351</td>\n",
       "      <td>0.031635</td>\n",
       "      <td>0.038850</td>\n",
       "      <td>0.045596</td>\n",
       "      <td>0.031706</td>\n",
       "      <td>0.049054</td>\n",
       "      <td>0.023245</td>\n",
       "      <td>0.138969</td>\n",
       "      <td>0.047935</td>\n",
       "      <td>0.036930</td>\n",
       "      <td>0.026591</td>\n",
       "      <td>0.035550</td>\n",
       "      <td>0.033181</td>\n",
       "      <td>0.023206</td>\n",
       "    </tr>\n",
       "    <tr>\n",
       "      <th>MA</th>\n",
       "      <td>0.045663</td>\n",
       "      <td>0.056658</td>\n",
       "      <td>0.032441</td>\n",
       "      <td>0.050290</td>\n",
       "      <td>0.062785</td>\n",
       "      <td>0.033830</td>\n",
       "      <td>0.071976</td>\n",
       "      <td>0.026588</td>\n",
       "      <td>0.047935</td>\n",
       "      <td>0.120294</td>\n",
       "      <td>0.049541</td>\n",
       "      <td>0.033701</td>\n",
       "      <td>0.047368</td>\n",
       "      <td>0.044247</td>\n",
       "      <td>0.043162</td>\n",
       "    </tr>\n",
       "    <tr>\n",
       "      <th>MSFT</th>\n",
       "      <td>0.040542</td>\n",
       "      <td>0.072229</td>\n",
       "      <td>0.037064</td>\n",
       "      <td>0.042628</td>\n",
       "      <td>0.041079</td>\n",
       "      <td>0.036066</td>\n",
       "      <td>0.049930</td>\n",
       "      <td>0.028076</td>\n",
       "      <td>0.036930</td>\n",
       "      <td>0.049541</td>\n",
       "      <td>0.115763</td>\n",
       "      <td>0.031173</td>\n",
       "      <td>0.047129</td>\n",
       "      <td>0.034251</td>\n",
       "      <td>0.029638</td>\n",
       "    </tr>\n",
       "    <tr>\n",
       "      <th>PFE</th>\n",
       "      <td>0.026040</td>\n",
       "      <td>0.032222</td>\n",
       "      <td>0.025636</td>\n",
       "      <td>0.029873</td>\n",
       "      <td>0.027612</td>\n",
       "      <td>0.033033</td>\n",
       "      <td>0.033354</td>\n",
       "      <td>0.026399</td>\n",
       "      <td>0.026591</td>\n",
       "      <td>0.033701</td>\n",
       "      <td>0.031173</td>\n",
       "      <td>0.075906</td>\n",
       "      <td>0.020515</td>\n",
       "      <td>0.028575</td>\n",
       "      <td>0.023413</td>\n",
       "    </tr>\n",
       "    <tr>\n",
       "      <th>TSLA</th>\n",
       "      <td>0.039654</td>\n",
       "      <td>0.057105</td>\n",
       "      <td>0.023760</td>\n",
       "      <td>0.036178</td>\n",
       "      <td>0.049457</td>\n",
       "      <td>0.033828</td>\n",
       "      <td>0.039700</td>\n",
       "      <td>0.019247</td>\n",
       "      <td>0.035550</td>\n",
       "      <td>0.047368</td>\n",
       "      <td>0.047129</td>\n",
       "      <td>0.020515</td>\n",
       "      <td>0.321457</td>\n",
       "      <td>0.031821</td>\n",
       "      <td>0.029973</td>\n",
       "    </tr>\n",
       "    <tr>\n",
       "      <th>UNH</th>\n",
       "      <td>0.030567</td>\n",
       "      <td>0.035325</td>\n",
       "      <td>0.027506</td>\n",
       "      <td>0.032431</td>\n",
       "      <td>0.029355</td>\n",
       "      <td>0.034694</td>\n",
       "      <td>0.039175</td>\n",
       "      <td>0.023111</td>\n",
       "      <td>0.033181</td>\n",
       "      <td>0.044247</td>\n",
       "      <td>0.034251</td>\n",
       "      <td>0.028575</td>\n",
       "      <td>0.031821</td>\n",
       "      <td>0.166122</td>\n",
       "      <td>0.022647</td>\n",
       "    </tr>\n",
       "    <tr>\n",
       "      <th>XOM</th>\n",
       "      <td>0.031104</td>\n",
       "      <td>0.026969</td>\n",
       "      <td>0.020711</td>\n",
       "      <td>0.025583</td>\n",
       "      <td>0.027393</td>\n",
       "      <td>0.021616</td>\n",
       "      <td>0.033240</td>\n",
       "      <td>0.020892</td>\n",
       "      <td>0.023206</td>\n",
       "      <td>0.043162</td>\n",
       "      <td>0.029638</td>\n",
       "      <td>0.023413</td>\n",
       "      <td>0.029973</td>\n",
       "      <td>0.022647</td>\n",
       "      <td>0.051347</td>\n",
       "    </tr>\n",
       "  </tbody>\n",
       "</table>\n",
       "</div>"
      ],
      "text/plain": [
       "           ACN      AMZN      COST       DIS         F      GILD       JPM  \\\n",
       "ACN   0.091865  0.044838  0.027300  0.040724  0.043307  0.029604  0.049263   \n",
       "AMZN  0.044838  0.340205  0.047576  0.054743  0.052125  0.060606  0.067449   \n",
       "COST  0.027300  0.047576  0.102508  0.032041  0.031064  0.027553  0.039164   \n",
       "DIS   0.040724  0.054743  0.032041  0.099736  0.040169  0.033008  0.047329   \n",
       "F     0.043307  0.052125  0.031064  0.040169  0.125091  0.030499  0.054409   \n",
       "GILD  0.029604  0.060606  0.027553  0.033008  0.030499  0.241989  0.043504   \n",
       "JPM   0.049263  0.067449  0.039164  0.047329  0.054409  0.043504  0.130009   \n",
       "KO    0.020425  0.020304  0.021213  0.026339  0.026363  0.016863  0.028081   \n",
       "LUV   0.037011  0.047351  0.031635  0.038850  0.045596  0.031706  0.049054   \n",
       "MA    0.045663  0.056658  0.032441  0.050290  0.062785  0.033830  0.071976   \n",
       "MSFT  0.040542  0.072229  0.037064  0.042628  0.041079  0.036066  0.049930   \n",
       "PFE   0.026040  0.032222  0.025636  0.029873  0.027612  0.033033  0.033354   \n",
       "TSLA  0.039654  0.057105  0.023760  0.036178  0.049457  0.033828  0.039700   \n",
       "UNH   0.030567  0.035325  0.027506  0.032431  0.029355  0.034694  0.039175   \n",
       "XOM   0.031104  0.026969  0.020711  0.025583  0.027393  0.021616  0.033240   \n",
       "\n",
       "            KO       LUV        MA      MSFT       PFE      TSLA       UNH  \\\n",
       "ACN   0.020425  0.037011  0.045663  0.040542  0.026040  0.039654  0.030567   \n",
       "AMZN  0.020304  0.047351  0.056658  0.072229  0.032222  0.057105  0.035325   \n",
       "COST  0.021213  0.031635  0.032441  0.037064  0.025636  0.023760  0.027506   \n",
       "DIS   0.026339  0.038850  0.050290  0.042628  0.029873  0.036178  0.032431   \n",
       "F     0.026363  0.045596  0.062785  0.041079  0.027612  0.049457  0.029355   \n",
       "GILD  0.016863  0.031706  0.033830  0.036066  0.033033  0.033828  0.034694   \n",
       "JPM   0.028081  0.049054  0.071976  0.049930  0.033354  0.039700  0.039175   \n",
       "KO    0.054103  0.023245  0.026588  0.028076  0.026399  0.019247  0.023111   \n",
       "LUV   0.023245  0.138969  0.047935  0.036930  0.026591  0.035550  0.033181   \n",
       "MA    0.026588  0.047935  0.120294  0.049541  0.033701  0.047368  0.044247   \n",
       "MSFT  0.028076  0.036930  0.049541  0.115763  0.031173  0.047129  0.034251   \n",
       "PFE   0.026399  0.026591  0.033701  0.031173  0.075906  0.020515  0.028575   \n",
       "TSLA  0.019247  0.035550  0.047368  0.047129  0.020515  0.321457  0.031821   \n",
       "UNH   0.023111  0.033181  0.044247  0.034251  0.028575  0.031821  0.166122   \n",
       "XOM   0.020892  0.023206  0.043162  0.029638  0.023413  0.029973  0.022647   \n",
       "\n",
       "           XOM  \n",
       "ACN   0.031104  \n",
       "AMZN  0.026969  \n",
       "COST  0.020711  \n",
       "DIS   0.025583  \n",
       "F     0.027393  \n",
       "GILD  0.021616  \n",
       "JPM   0.033240  \n",
       "KO    0.020892  \n",
       "LUV   0.023206  \n",
       "MA    0.043162  \n",
       "MSFT  0.029638  \n",
       "PFE   0.023413  \n",
       "TSLA  0.029973  \n",
       "UNH   0.022647  \n",
       "XOM   0.051347  "
      ]
     },
     "execution_count": 11,
     "metadata": {},
     "output_type": "execute_result"
    }
   ],
   "source": [
    "from pypfopt import risk_models\n",
    "from pypfopt import plotting\n",
    "\n",
    "sample_cov = risk_models.sample_cov(prices, frequency=252)\n",
    "sample_cov"
   ]
  },
  {
   "cell_type": "code",
   "execution_count": 12,
   "metadata": {},
   "outputs": [
    {
     "data": {
      "image/png": "[encoded data removed]",
      "text/plain": [
       "<Figure size 432x288 with 2 Axes>"
      ]
     },
     "metadata": {
      "needs_background": "light"
     },
     "output_type": "display_data"
    }
   ],
   "source": [
    "plotting.plot_covariance(sample_cov, plot_correlation=True);"
   ]
  },
  {
   "cell_type": "markdown",
   "metadata": {},
   "source": [
    "For reasons discussed in the docs, the sample covariance matrix should not be your default choice. I think a better option is Ledoit-Wolf shrinkage, which reduces the extreme values in the covariance matrix. In the image below, we can see that there are fewer bright spots outside the diagonal:"
   ]
  },
  {
   "cell_type": "code",
   "execution_count": 13,
   "metadata": {},
   "outputs": [
    {
     "data": {
      "image/png": "[encoded data removed]",
      "text/plain": [
       "<Figure size 432x288 with 2 Axes>"
      ]
     },
     "metadata": {
      "needs_background": "light"
     },
     "output_type": "display_data"
    }
   ],
   "source": [
    "S = risk_models.CovarianceShrinkage(prices).ledoit_wolf()\n",
    "plotting.plot_covariance(S, plot_correlation=True);"
   ]
  },
  {
   "cell_type": "markdown",
   "metadata": {},
   "source": [
    "## Return estimation\n",
    "\n",
    "As discussed in the docs, it is often a bad idea to provide returns using a simple estimate like the mean of past returns. Unless you have a proprietary method for estimating returns, research suggests that you may be better off not providing expected returns – you can then just find the `min_volatility()` portfolio or use `HRP`. \n",
    "\n",
    "However, in this example we will use the CAPM returns, which aims to be slightly more stable than the default mean historical return. Please see the notebook `1-RiskReturnModels.ipynb` for more information."
   ]
  },
  {
   "cell_type": "code",
   "execution_count": 14,
   "metadata": {},
   "outputs": [
    {
     "data": {
      "text/plain": [
       "ACN     0.211283\n",
       "AMZN    0.362995\n",
       "COST    0.196695\n",
       "DIS     0.225498\n",
       "F       0.225128\n",
       "GILD    0.260633\n",
       "JPM     0.255300\n",
       "KO      0.149898\n",
       "LUV     0.229208\n",
       "MA      0.266895\n",
       "MSFT    0.241645\n",
       "PFE     0.180956\n",
       "TSLA    0.284527\n",
       "UNH     0.224172\n",
       "XOM     0.142421\n",
       "Name: mkt, dtype: float64"
      ]
     },
     "execution_count": 14,
     "metadata": {},
     "output_type": "execute_result"
    }
   ],
   "source": [
    "from pypfopt import expected_returns\n",
    "\n",
    "mu = expected_returns.capm_return(prices)\n",
    "mu"
   ]
  },
  {
   "cell_type": "code",
   "execution_count": 15,
   "metadata": {},
   "outputs": [
    {
     "data": {
      "image/png": "[encoded data removed]",
      "text/plain": [
       "<Figure size 720x432 with 1 Axes>"
      ]
     },
     "metadata": {
      "needs_background": "light"
     },
     "output_type": "display_data"
    }
   ],
   "source": [
    "mu.plot.barh(figsize=(10,6));"
   ]
  },
  {
   "cell_type": "markdown",
   "metadata": {},
   "source": [
    "## Long/short min variance\n",
    "\n",
    "In this section, we construct a long/short portfolio with the objective of minimising variance. There is a good deal of research that demonstrates that these global-minimum variance (GMV) portfolios outperform mean-variance optimized portfolios."
   ]
  },
  {
   "cell_type": "code",
   "execution_count": 16,
   "metadata": {},
   "outputs": [],
   "source": [
    "from pypfopt import EfficientFrontier"
   ]
  },
  {
   "cell_type": "code",
   "execution_count": 17,
   "metadata": {},
   "outputs": [
    {
     "data": {
      "text/plain": [
       "OrderedDict([('ACN', 0.23428),\n",
       "             ('AMZN', 0.0084),\n",
       "             ('COST', 0.09868),\n",
       "             ('DIS', -0.01605),\n",
       "             ('F', -0.01666),\n",
       "             ('GILD', 0.04232),\n",
       "             ('JPM', -0.05095),\n",
       "             ('KO', 0.12301),\n",
       "             ('LUV', 0.02405),\n",
       "             ('MA', 0.2377),\n",
       "             ('MSFT', 0.00237),\n",
       "             ('PFE', 0.06327),\n",
       "             ('TSLA', 0.1452),\n",
       "             ('UNH', 0.03039),\n",
       "             ('XOM', 0.07398)])"
      ]
     },
     "execution_count": 17,
     "metadata": {},
     "output_type": "execute_result"
    }
   ],
   "source": [
    "S = risk_models.CovarianceShrinkage(prices).ledoit_wolf()\n",
    "\n",
    "# You don't have to provide expected returns in this case\n",
    "ef = EfficientFrontier(None, S, weight_bounds=(None, None))\n",
    "ef.min_volatility()\n",
    "weights = ef.clean_weights()\n",
    "weights"
   ]
  },
  {
   "cell_type": "code",
   "execution_count": 18,
   "metadata": {},
   "outputs": [
    {
     "data": {
      "image/png": "[encoded data removed]",
      "text/plain": [
       "<Figure size 432x288 with 1 Axes>"
      ]
     },
     "metadata": {
      "needs_background": "light"
     },
     "output_type": "display_data"
    }
   ],
   "source": [
    "pd.Series(weights).plot.barh();"
   ]
  },
  {
   "cell_type": "markdown",
   "metadata": {},
   "source": [
    "We can get a quick indication of the portfolio performance as follows. Note that this is an in sample estimate and may have very little resemblance to how the portfolio actually performs!"
   ]
  },
  {
   "cell_type": "code",
   "execution_count": 19,
   "metadata": {},
   "outputs": [
    {
     "name": "stdout",
     "output_type": "stream",
     "text": [
      "Annual volatility: 11.8%\n"
     ]
    }
   ],
   "source": [
    "ef.portfolio_performance(verbose=True);"
   ]
  },
  {
   "cell_type": "code",
   "execution_count": 20,
   "metadata": {},
   "outputs": [
    {
     "data": {
      "text/html": [
       "<div>\n",
       "<style scoped>\n",
       "    .dataframe tbody tr th:only-of-type {\n",
       "        vertical-align: middle;\n",
       "    }\n",
       "\n",
       "    .dataframe tbody tr th {\n",
       "        vertical-align: top;\n",
       "    }\n",
       "\n",
       "    .dataframe thead th {\n",
       "        text-align: right;\n",
       "    }\n",
       "</style>\n",
       "<table border=\"1\" class=\"dataframe\">\n",
       "  <thead>\n",
       "    <tr style=\"text-align: right;\">\n",
       "      <th></th>\n",
       "      <th>ACN</th>\n",
       "      <th>AMZN</th>\n",
       "      <th>COST</th>\n",
       "      <th>DIS</th>\n",
       "      <th>F</th>\n",
       "      <th>GILD</th>\n",
       "      <th>JPM</th>\n",
       "      <th>KO</th>\n",
       "      <th>LUV</th>\n",
       "      <th>MA</th>\n",
       "      <th>MSFT</th>\n",
       "      <th>PFE</th>\n",
       "      <th>TSLA</th>\n",
       "      <th>UNH</th>\n",
       "      <th>XOM</th>\n",
       "    </tr>\n",
       "    <tr>\n",
       "      <th>Date</th>\n",
       "      <th></th>\n",
       "      <th></th>\n",
       "      <th></th>\n",
       "      <th></th>\n",
       "      <th></th>\n",
       "      <th></th>\n",
       "      <th></th>\n",
       "      <th></th>\n",
       "      <th></th>\n",
       "      <th></th>\n",
       "      <th></th>\n",
       "      <th></th>\n",
       "      <th></th>\n",
       "      <th></th>\n",
       "      <th></th>\n",
       "    </tr>\n",
       "  </thead>\n",
       "  <tbody>\n",
       "    <tr>\n",
       "      <th>1962-01-02</th>\n",
       "      <td>NaN</td>\n",
       "      <td>NaN</td>\n",
       "      <td>NaN</td>\n",
       "      <td>0.058398</td>\n",
       "      <td>NaN</td>\n",
       "      <td>NaN</td>\n",
       "      <td>NaN</td>\n",
       "      <td>0.052310</td>\n",
       "      <td>NaN</td>\n",
       "      <td>NaN</td>\n",
       "      <td>NaN</td>\n",
       "      <td>NaN</td>\n",
       "      <td>NaN</td>\n",
       "      <td>NaN</td>\n",
       "      <td>0.105947</td>\n",
       "    </tr>\n",
       "    <tr>\n",
       "      <th>1962-01-03</th>\n",
       "      <td>NaN</td>\n",
       "      <td>NaN</td>\n",
       "      <td>NaN</td>\n",
       "      <td>0.059182</td>\n",
       "      <td>NaN</td>\n",
       "      <td>NaN</td>\n",
       "      <td>NaN</td>\n",
       "      <td>0.051144</td>\n",
       "      <td>NaN</td>\n",
       "      <td>NaN</td>\n",
       "      <td>NaN</td>\n",
       "      <td>NaN</td>\n",
       "      <td>NaN</td>\n",
       "      <td>NaN</td>\n",
       "      <td>0.107521</td>\n",
       "    </tr>\n",
       "    <tr>\n",
       "      <th>1962-01-04</th>\n",
       "      <td>NaN</td>\n",
       "      <td>NaN</td>\n",
       "      <td>NaN</td>\n",
       "      <td>0.059182</td>\n",
       "      <td>NaN</td>\n",
       "      <td>NaN</td>\n",
       "      <td>NaN</td>\n",
       "      <td>0.051533</td>\n",
       "      <td>NaN</td>\n",
       "      <td>NaN</td>\n",
       "      <td>NaN</td>\n",
       "      <td>NaN</td>\n",
       "      <td>NaN</td>\n",
       "      <td>NaN</td>\n",
       "      <td>0.107783</td>\n",
       "    </tr>\n",
       "    <tr>\n",
       "      <th>1962-01-05</th>\n",
       "      <td>NaN</td>\n",
       "      <td>NaN</td>\n",
       "      <td>NaN</td>\n",
       "      <td>0.059378</td>\n",
       "      <td>NaN</td>\n",
       "      <td>NaN</td>\n",
       "      <td>NaN</td>\n",
       "      <td>0.050367</td>\n",
       "      <td>NaN</td>\n",
       "      <td>NaN</td>\n",
       "      <td>NaN</td>\n",
       "      <td>NaN</td>\n",
       "      <td>NaN</td>\n",
       "      <td>NaN</td>\n",
       "      <td>0.105423</td>\n",
       "    </tr>\n",
       "    <tr>\n",
       "      <th>1962-01-08</th>\n",
       "      <td>NaN</td>\n",
       "      <td>NaN</td>\n",
       "      <td>NaN</td>\n",
       "      <td>0.059182</td>\n",
       "      <td>NaN</td>\n",
       "      <td>NaN</td>\n",
       "      <td>NaN</td>\n",
       "      <td>0.049849</td>\n",
       "      <td>NaN</td>\n",
       "      <td>NaN</td>\n",
       "      <td>NaN</td>\n",
       "      <td>NaN</td>\n",
       "      <td>NaN</td>\n",
       "      <td>NaN</td>\n",
       "      <td>0.105161</td>\n",
       "    </tr>\n",
       "    <tr>\n",
       "      <th>...</th>\n",
       "      <td>...</td>\n",
       "      <td>...</td>\n",
       "      <td>...</td>\n",
       "      <td>...</td>\n",
       "      <td>...</td>\n",
       "      <td>...</td>\n",
       "      <td>...</td>\n",
       "      <td>...</td>\n",
       "      <td>...</td>\n",
       "      <td>...</td>\n",
       "      <td>...</td>\n",
       "      <td>...</td>\n",
       "      <td>...</td>\n",
       "      <td>...</td>\n",
       "      <td>...</td>\n",
       "    </tr>\n",
       "    <tr>\n",
       "      <th>2021-05-19</th>\n",
       "      <td>280.970001</td>\n",
       "      <td>3231.800049</td>\n",
       "      <td>379.660004</td>\n",
       "      <td>169.270004</td>\n",
       "      <td>12.11</td>\n",
       "      <td>68.500000</td>\n",
       "      <td>161.110001</td>\n",
       "      <td>54.169998</td>\n",
       "      <td>60.389999</td>\n",
       "      <td>360.980011</td>\n",
       "      <td>243.119995</td>\n",
       "      <td>39.830002</td>\n",
       "      <td>563.460022</td>\n",
       "      <td>409.500000</td>\n",
       "      <td>58.980000</td>\n",
       "    </tr>\n",
       "    <tr>\n",
       "      <th>2021-05-20</th>\n",
       "      <td>283.950012</td>\n",
       "      <td>3247.679932</td>\n",
       "      <td>383.579987</td>\n",
       "      <td>171.360001</td>\n",
       "      <td>12.49</td>\n",
       "      <td>69.349998</td>\n",
       "      <td>160.830002</td>\n",
       "      <td>54.650002</td>\n",
       "      <td>59.919998</td>\n",
       "      <td>367.700012</td>\n",
       "      <td>246.479996</td>\n",
       "      <td>40.119999</td>\n",
       "      <td>586.780029</td>\n",
       "      <td>408.640015</td>\n",
       "      <td>58.840000</td>\n",
       "    </tr>\n",
       "    <tr>\n",
       "      <th>2021-05-21</th>\n",
       "      <td>283.380005</td>\n",
       "      <td>3203.080078</td>\n",
       "      <td>380.720001</td>\n",
       "      <td>172.399994</td>\n",
       "      <td>13.33</td>\n",
       "      <td>68.750000</td>\n",
       "      <td>162.660004</td>\n",
       "      <td>54.619999</td>\n",
       "      <td>60.090000</td>\n",
       "      <td>367.600006</td>\n",
       "      <td>245.169998</td>\n",
       "      <td>39.950001</td>\n",
       "      <td>580.880005</td>\n",
       "      <td>411.630005</td>\n",
       "      <td>58.919998</td>\n",
       "    </tr>\n",
       "    <tr>\n",
       "      <th>2021-05-24</th>\n",
       "      <td>284.850006</td>\n",
       "      <td>3244.989990</td>\n",
       "      <td>383.450012</td>\n",
       "      <td>174.309998</td>\n",
       "      <td>13.06</td>\n",
       "      <td>67.430000</td>\n",
       "      <td>163.539993</td>\n",
       "      <td>54.799999</td>\n",
       "      <td>60.680000</td>\n",
       "      <td>372.380005</td>\n",
       "      <td>250.779999</td>\n",
       "      <td>39.810001</td>\n",
       "      <td>606.440002</td>\n",
       "      <td>410.950012</td>\n",
       "      <td>59.610001</td>\n",
       "    </tr>\n",
       "    <tr>\n",
       "      <th>2021-05-25</th>\n",
       "      <td>285.989990</td>\n",
       "      <td>3259.050049</td>\n",
       "      <td>385.380005</td>\n",
       "      <td>176.169998</td>\n",
       "      <td>12.81</td>\n",
       "      <td>66.230003</td>\n",
       "      <td>161.850006</td>\n",
       "      <td>54.790001</td>\n",
       "      <td>60.549999</td>\n",
       "      <td>367.220001</td>\n",
       "      <td>251.720001</td>\n",
       "      <td>39.330002</td>\n",
       "      <td>604.690002</td>\n",
       "      <td>413.049988</td>\n",
       "      <td>58.259998</td>\n",
       "    </tr>\n",
       "  </tbody>\n",
       "</table>\n",
       "<p>14952 rows × 15 columns</p>\n",
       "</div>"
      ],
      "text/plain": [
       "                   ACN         AMZN        COST         DIS      F       GILD  \\\n",
       "Date                                                                            \n",
       "1962-01-02         NaN          NaN         NaN    0.058398    NaN        NaN   \n",
       "1962-01-03         NaN          NaN         NaN    0.059182    NaN        NaN   \n",
       "1962-01-04         NaN          NaN         NaN    0.059182    NaN        NaN   \n",
       "1962-01-05         NaN          NaN         NaN    0.059378    NaN        NaN   \n",
       "1962-01-08         NaN          NaN         NaN    0.059182    NaN        NaN   \n",
       "...                ...          ...         ...         ...    ...        ...   \n",
       "2021-05-19  280.970001  3231.800049  379.660004  169.270004  12.11  68.500000   \n",
       "2021-05-20  283.950012  3247.679932  383.579987  171.360001  12.49  69.349998   \n",
       "2021-05-21  283.380005  3203.080078  380.720001  172.399994  13.33  68.750000   \n",
       "2021-05-24  284.850006  3244.989990  383.450012  174.309998  13.06  67.430000   \n",
       "2021-05-25  285.989990  3259.050049  385.380005  176.169998  12.81  66.230003   \n",
       "\n",
       "                   JPM         KO        LUV          MA        MSFT  \\\n",
       "Date                                                                   \n",
       "1962-01-02         NaN   0.052310        NaN         NaN         NaN   \n",
       "1962-01-03         NaN   0.051144        NaN         NaN         NaN   \n",
       "1962-01-04         NaN   0.051533        NaN         NaN         NaN   \n",
       "1962-01-05         NaN   0.050367        NaN         NaN         NaN   \n",
       "1962-01-08         NaN   0.049849        NaN         NaN         NaN   \n",
       "...                ...        ...        ...         ...         ...   \n",
       "2021-05-19  161.110001  54.169998  60.389999  360.980011  243.119995   \n",
       "2021-05-20  160.830002  54.650002  59.919998  367.700012  246.479996   \n",
       "2021-05-21  162.660004  54.619999  60.090000  367.600006  245.169998   \n",
       "2021-05-24  163.539993  54.799999  60.680000  372.380005  250.779999   \n",
       "2021-05-25  161.850006  54.790001  60.549999  367.220001  251.720001   \n",
       "\n",
       "                  PFE        TSLA         UNH        XOM  \n",
       "Date                                                      \n",
       "1962-01-02        NaN         NaN         NaN   0.105947  \n",
       "1962-01-03        NaN         NaN         NaN   0.107521  \n",
       "1962-01-04        NaN         NaN         NaN   0.107783  \n",
       "1962-01-05        NaN         NaN         NaN   0.105423  \n",
       "1962-01-08        NaN         NaN         NaN   0.105161  \n",
       "...               ...         ...         ...        ...  \n",
       "2021-05-19  39.830002  563.460022  409.500000  58.980000  \n",
       "2021-05-20  40.119999  586.780029  408.640015  58.840000  \n",
       "2021-05-21  39.950001  580.880005  411.630005  58.919998  \n",
       "2021-05-24  39.810001  606.440002  410.950012  59.610001  \n",
       "2021-05-25  39.330002  604.690002  413.049988  58.259998  \n",
       "\n",
       "[14952 rows x 15 columns]"
      ]
     },
     "execution_count": 20,
     "metadata": {},
     "output_type": "execute_result"
    }
   ],
   "source": [
    "prices"
   ]
  },
  {
   "cell_type": "markdown",
   "metadata": {},
   "source": [
    "Let's say we were happy with this portfolio and wanted to actually go out and buy the shares.  To do this, we would need to construct a **discrete allocation** (unless your broker supports fractional shares!)\n",
    "\n",
    "If we had \\$20,0000 to invest and would like our portfolio to be 130/30 long/short, we can construct the actual allocation as follows:"
   ]
  },
  {
   "cell_type": "code",
   "execution_count": 21,
   "metadata": {},
   "outputs": [
    {
     "name": "stdout",
     "output_type": "stream",
     "text": [
      "Discrete allocation performed with $23.43 leftover\n"
     ]
    },
    {
     "data": {
      "text/plain": [
       "{'ACN': 15,\n",
       " 'COST': 5,\n",
       " 'GILD': 11,\n",
       " 'KO': 41,\n",
       " 'LUV': 7,\n",
       " 'MA': 12,\n",
       " 'PFE': 30,\n",
       " 'TSLA': 5,\n",
       " 'UNH': 1,\n",
       " 'XOM': 23,\n",
       " 'DIS': -7,\n",
       " 'F': -94,\n",
       " 'JPM': -22}"
      ]
     },
     "execution_count": 21,
     "metadata": {},
     "output_type": "execute_result"
    }
   ],
   "source": [
    "from pypfopt import DiscreteAllocation\n",
    "\n",
    "latest_prices = prices.iloc[-1]  # prices as of the day you are allocating\n",
    "da = DiscreteAllocation(weights, latest_prices, total_portfolio_value=20000, short_ratio=0.3)\n",
    "alloc, leftover = da.lp_portfolio()\n",
    "print(f\"Discrete allocation performed with ${leftover:.2f} leftover\")\n",
    "alloc"
   ]
  },
  {
   "cell_type": "markdown",
   "metadata": {},
   "source": [
    "## Max Sharpe with sector constraints\n",
    "\n",
    "If you have your own model for returns (or have read the warnings and want to proceed anyways), you may consider maximising the Sharpe ratio. This theoretically gives the optimal portfolio in terms of risks-returns.\n",
    "\n",
    "In this section, we construct a long-only max-sharpe portfolio, but also incorporate sector constraints. Sector constraints require three things. A `sector_mapper`, your `sector_lower` bounds, and your `sector_upper` bounds."
   ]
  },
  {
   "cell_type": "code",
   "execution_count": 22,
   "metadata": {},
   "outputs": [],
   "source": [
    "sector_mapper = {\n",
    "    \"MSFT\": \"Tech\",\n",
    "    \"AMZN\": \"Consumer Discretionary\",\n",
    "    \"KO\": \"Consumer Staples\",\n",
    "    \"MA\": \"Financial Services\",\n",
    "    \"COST\": \"Consumer Staples\",\n",
    "    \"LUV\": \"Aerospace\",\n",
    "    \"XOM\": \"Energy\",\n",
    "    \"PFE\": \"Healthcare\",\n",
    "    \"JPM\": \"Financial Services\",\n",
    "    \"UNH\": \"Healthcare\",\n",
    "    \"ACN\": \"Misc\",\n",
    "    \"DIS\": \"Media\",\n",
    "    \"GILD\": \"Healthcare\",\n",
    "    \"F\": \"Auto\",\n",
    "    \"TSLA\": \"Auto\"\n",
    "}\n",
    "\n",
    "sector_lower = {\n",
    "    \"Consumer Staples\": 0.1, # at least 10% to staples\n",
    "    \"Tech\": 0.05 # at least 5% to tech\n",
    "    # For all other sectors, it will be assumed there is no lower bound\n",
    "}\n",
    "\n",
    "sector_upper = {\n",
    "    \"Tech\": 0.2,\n",
    "    \"Aerospace\":0.1,\n",
    "    \"Energy\": 0.1,\n",
    "    \"Auto\":0.15\n",
    "}"
   ]
  },
  {
   "cell_type": "markdown",
   "metadata": {},
   "source": [
    "We then set up the optimizer and add our constraints. We can use `ef.add_objective()` to add other constraints. For example, let's say that in addition to the above sector constraints, I specifically want:\n",
    "\n",
    "- 10% of the portfolio in AMZN\n",
    "- Less than 5% of my portfolio in TSLA"
   ]
  },
  {
   "cell_type": "code",
   "execution_count": 23,
   "metadata": {},
   "outputs": [],
   "source": [
    "mu = expected_returns.capm_return(prices)\n",
    "S = risk_models.CovarianceShrinkage(prices).ledoit_wolf()\n",
    "\n",
    "ef = EfficientFrontier(mu, S)  # weight_bounds automatically set to (0, 1)\n",
    "ef.add_sector_constraints(sector_mapper, sector_lower, sector_upper)\n",
    "\n",
    "amzn_index = ef.tickers.index(\"AMZN\")\n",
    "ef.add_constraint(lambda w: w[amzn_index] == 0.10)\n",
    "\n",
    "tsla_index = ef.tickers.index(\"TSLA\")\n",
    "ef.add_constraint(lambda w: w[tsla_index] <= 0.05)\n",
    "\n",
    "ef.add_constraint(lambda w: w[10] >= 0.05)\n",
    "\n",
    "ef.max_sharpe()\n",
    "weights = ef.clean_weights()"
   ]
  },
  {
   "cell_type": "code",
   "execution_count": 24,
   "metadata": {},
   "outputs": [
    {
     "data": {
      "text/plain": [
       "OrderedDict([('ACN', 0.16969),\n",
       "             ('AMZN', 0.1),\n",
       "             ('COST', 0.05571),\n",
       "             ('DIS', 0.0),\n",
       "             ('F', 0.0),\n",
       "             ('GILD', 0.06039),\n",
       "             ('JPM', 0.0),\n",
       "             ('KO', 0.04429),\n",
       "             ('LUV', 0.02018),\n",
       "             ('MA', 0.39685),\n",
       "             ('MSFT', 0.05),\n",
       "             ('PFE', 0.0208),\n",
       "             ('TSLA', 0.05),\n",
       "             ('UNH', 0.03209),\n",
       "             ('XOM', 0.0)])"
      ]
     },
     "execution_count": 24,
     "metadata": {},
     "output_type": "execute_result"
    }
   ],
   "source": [
    "weights"
   ]
  },
  {
   "cell_type": "code",
   "execution_count": 25,
   "metadata": {},
   "outputs": [
    {
     "data": {
      "image/png": "[encoded data removed]",
      "text/plain": [
       "<Figure size 720x720 with 1 Axes>"
      ]
     },
     "metadata": {},
     "output_type": "display_data"
    }
   ],
   "source": [
    "pd.Series(weights).plot.pie(figsize=(10,10));"
   ]
  },
  {
   "cell_type": "markdown",
   "metadata": {},
   "source": [
    "We can immediately see that our explicit constraints were satisfied, and can check all the sector constraints as follows:\n"
   ]
  },
  {
   "cell_type": "code",
   "execution_count": 26,
   "metadata": {},
   "outputs": [
    {
     "name": "stdout",
     "output_type": "stream",
     "text": [
      "Healthcare: 0.113\n",
      "Tech: 0.050\n",
      "Financial Services: 0.397\n",
      "Auto: 0.050\n",
      "Energy: 0.000\n",
      "Consumer Staples: 0.100\n",
      "Consumer Discretionary: 0.100\n",
      "Aerospace: 0.020\n",
      "Misc: 0.170\n",
      "Media: 0.000\n"
     ]
    }
   ],
   "source": [
    "# O(N^2) loop not a good idea in a coding interview :)\n",
    "for sector in set(sector_mapper.values()):\n",
    "    total_weight = 0\n",
    "    for t,w in weights.items():\n",
    "        if sector_mapper[t] == sector:\n",
    "            total_weight += w\n",
    "    print(f\"{sector}: {total_weight:.3f}\")"
   ]
  },
  {
   "cell_type": "markdown",
   "metadata": {},
   "source": [
    "## Maximise return for a given risk, with L2 regularisation\n",
    "\n",
    "Let's imagine that we've put a lot of thought into our risk tolerance, and have decided that we can't accept anything more than 15% volatility. We can use PyPortfolioOpt to construct a portfolio that maximises return for a given risk (with the same caveats about expected returns)."
   ]
  },
  {
   "cell_type": "code",
   "execution_count": 27,
   "metadata": {},
   "outputs": [
    {
     "data": {
      "text/plain": [
       "OrderedDict([('ACN', 0.0),\n",
       "             ('AMZN', 0.19248),\n",
       "             ('COST', 0.1),\n",
       "             ('DIS', 0.0),\n",
       "             ('F', 0.0),\n",
       "             ('GILD', 0.05749),\n",
       "             ('JPM', 0.0),\n",
       "             ('KO', 0.0),\n",
       "             ('LUV', 0.0),\n",
       "             ('MA', 0.45002),\n",
       "             ('MSFT', 0.05),\n",
       "             ('PFE', 0.0),\n",
       "             ('TSLA', 0.15),\n",
       "             ('UNH', 0.0),\n",
       "             ('XOM', 0.0)])"
      ]
     },
     "execution_count": 27,
     "metadata": {},
     "output_type": "execute_result"
    }
   ],
   "source": [
    "ef = EfficientFrontier(mu, S)\n",
    "ef.add_sector_constraints(sector_mapper, sector_lower, sector_upper)\n",
    "ef.efficient_risk(target_volatility=0.15)\n",
    "weights = ef.clean_weights()\n",
    "weights"
   ]
  },
  {
   "cell_type": "code",
   "execution_count": 28,
   "metadata": {},
   "outputs": [
    {
     "name": "stdout",
     "output_type": "stream",
     "text": [
      "9/15 tickers have zero weight\n"
     ]
    }
   ],
   "source": [
    "num_small = len([k for k in weights if weights[k] <= 1e-4])\n",
    "print(f\"{num_small}/{len(ef.tickers)} tickers have zero weight\")"
   ]
  },
  {
   "cell_type": "code",
   "execution_count": 29,
   "metadata": {},
   "outputs": [
    {
     "name": "stdout",
     "output_type": "stream",
     "text": [
      "Expected annual return: 27.9%\n",
      "Annual volatility: 15.0%\n",
      "Sharpe Ratio: 1.73\n"
     ]
    }
   ],
   "source": [
    "ef.portfolio_performance(verbose=True);"
   ]
  },
  {
   "cell_type": "markdown",
   "metadata": {},
   "source": [
    "While this portfolio seems like it meets our objectives, we might be worried by the fact that a lot of the tickers have been assigned zero weight. In effect, the optimizer is \"overfitting\" to the data you have provided -- you are much more likely to get better results by enforcing some level of diversification. One way of doing this is to use **L2 regularisation** – essentially, adding a penalty on the number of near-zero weights."
   ]
  },
  {
   "cell_type": "code",
   "execution_count": 30,
   "metadata": {},
   "outputs": [
    {
     "data": {
      "text/plain": [
       "OrderedDict([('ACN', 0.04639),\n",
       "             ('AMZN', 0.20796),\n",
       "             ('COST', 0.08962),\n",
       "             ('DIS', 0.01038),\n",
       "             ('F', 0.0),\n",
       "             ('GILD', 0.08342),\n",
       "             ('JPM', 0.04353),\n",
       "             ('KO', 0.01038),\n",
       "             ('LUV', 0.02743),\n",
       "             ('MA', 0.24804),\n",
       "             ('MSFT', 0.05),\n",
       "             ('PFE', 0.0),\n",
       "             ('TSLA', 0.15),\n",
       "             ('UNH', 0.03285),\n",
       "             ('XOM', 0.0)])"
      ]
     },
     "execution_count": 30,
     "metadata": {},
     "output_type": "execute_result"
    }
   ],
   "source": [
    "from pypfopt import objective_functions\n",
    "\n",
    "# You must always create a new efficient frontier object\n",
    "ef = EfficientFrontier(mu, S)\n",
    "ef.add_sector_constraints(sector_mapper, sector_lower, sector_upper)\n",
    "ef.add_objective(objective_functions.L2_reg, gamma=0.1)  # gamme is the tuning parameter\n",
    "ef.efficient_risk(0.15)\n",
    "weights = ef.clean_weights()\n",
    "weights"
   ]
  },
  {
   "cell_type": "code",
   "execution_count": 31,
   "metadata": {},
   "outputs": [
    {
     "name": "stdout",
     "output_type": "stream",
     "text": [
      "3/15 tickers have zero weight\n"
     ]
    }
   ],
   "source": [
    "num_small = len([k for k in weights if weights[k] <= 1e-4])\n",
    "print(f\"{num_small}/{len(ef.tickers)} tickers have zero weight\")"
   ]
  },
  {
   "cell_type": "markdown",
   "metadata": {},
   "source": [
    "We can tune the value of gamma to choose the number of nonzero tickers. Larger gamma pulls portfolio weights towards an equal allocation."
   ]
  },
  {
   "cell_type": "code",
   "execution_count": 32,
   "metadata": {},
   "outputs": [
    {
     "data": {
      "text/plain": [
       "OrderedDict([('ACN', 0.0556),\n",
       "             ('AMZN', 0.13145),\n",
       "             ('COST', 0.0617),\n",
       "             ('DIS', 0.0627),\n",
       "             ('F', 0.06015),\n",
       "             ('GILD', 0.08027),\n",
       "             ('JPM', 0.0776),\n",
       "             ('KO', 0.0383),\n",
       "             ('LUV', 0.06456),\n",
       "             ('MA', 0.0834),\n",
       "             ('MSFT', 0.07078),\n",
       "             ('PFE', 0.04043),\n",
       "             ('TSLA', 0.08985),\n",
       "             ('UNH', 0.06204),\n",
       "             ('XOM', 0.02116)])"
      ]
     },
     "execution_count": 32,
     "metadata": {},
     "output_type": "execute_result"
    }
   ],
   "source": [
    "ef = EfficientFrontier(mu, S)\n",
    "ef.add_sector_constraints(sector_mapper, sector_lower, sector_upper)\n",
    "ef.add_objective(objective_functions.L2_reg, gamma=1)  # gamme is the tuning parameter\n",
    "ef.efficient_risk(0.15)\n",
    "weights = ef.clean_weights()\n",
    "weights"
   ]
  },
  {
   "cell_type": "code",
   "execution_count": 34,
   "metadata": {},
   "outputs": [
    {
     "name": "stderr",
     "output_type": "stream",
     "text": [
      "C:\\Users\\Victor\\anaconda3\\envs\\aa\\lib\\site-packages\\pandas\\plotting\\_matplotlib\\core.py:1583: MatplotlibDeprecationWarning: normalize=None does not normalize if the sum is less than 1 but this behavior is deprecated since 3.3 until two minor releases later. After the deprecation period the default value will be normalize=True. To prevent normalization pass normalize=False \n",
      "  results = ax.pie(y, labels=blabels, **kwds)\n"
     ]
    },
    {
     "data": {
      "image/png": "[encoded data removed]",
      "text/plain": [
       "<Figure size 720x720 with 1 Axes>"
      ]
     },
     "metadata": {},
     "output_type": "display_data"
    }
   ],
   "source": [
    "pd.Series(weights).plot.pie(figsize=(10, 10));"
   ]
  },
  {
   "cell_type": "code",
   "execution_count": 35,
   "metadata": {},
   "outputs": [
    {
     "name": "stdout",
     "output_type": "stream",
     "text": [
      "Expected annual return: 25.0%\n",
      "Annual volatility: 14.8%\n",
      "Sharpe Ratio: 1.55\n"
     ]
    }
   ],
   "source": [
    "ef.portfolio_performance(verbose=True);"
   ]
  },
  {
   "cell_type": "markdown",
   "metadata": {},
   "source": [
    "The resulting portfolio still has a volatility of less than our 15% limit. It's in-sample Sharpe ratio has gone down, but this portfolio is a lot more robust for actual investment."
   ]
  },
  {
   "cell_type": "markdown",
   "metadata": {},
   "source": [
    "## Minimise risk for a given return, market-neutral\n",
    "\n",
    "We may instead be in the situation where we have a certain required rate of return (maybe we are a pension fund that needs 7% return a year), but would like to minimise risk. Additionally, suppose we would like our portfolio to be market neutral, in the sense that it is equally exposed to the long and short sides.  "
   ]
  },
  {
   "cell_type": "code",
   "execution_count": 36,
   "metadata": {},
   "outputs": [
    {
     "data": {
      "text/plain": [
       "OrderedDict([('ACN', -0.03488),\n",
       "             ('AMZN', 0.21555),\n",
       "             ('COST', -0.05874),\n",
       "             ('DIS', -0.00476),\n",
       "             ('F', -0.00685),\n",
       "             ('GILD', 0.04865),\n",
       "             ('JPM', 0.04413),\n",
       "             ('KO', -0.13669),\n",
       "             ('LUV', -0.00087),\n",
       "             ('MA', 0.06512),\n",
       "             ('MSFT', 0.01909),\n",
       "             ('PFE', -0.08258),\n",
       "             ('TSLA', 0.09348),\n",
       "             ('UNH', -0.00891),\n",
       "             ('XOM', -0.15172)])"
      ]
     },
     "execution_count": 36,
     "metadata": {},
     "output_type": "execute_result"
    }
   ],
   "source": [
    "# Must have no weight bounds to allow shorts\n",
    "ef = EfficientFrontier(mu, S, weight_bounds=(None, None))\n",
    "ef.add_objective(objective_functions.L2_reg)\n",
    "ef.efficient_return(target_return=0.07, market_neutral=True)\n",
    "weights = ef.clean_weights()\n",
    "weights"
   ]
  },
  {
   "cell_type": "code",
   "execution_count": 37,
   "metadata": {},
   "outputs": [
    {
     "name": "stdout",
     "output_type": "stream",
     "text": [
      "Expected annual return: 7.0%\n",
      "Annual volatility: 10.4%\n",
      "Sharpe Ratio: 0.48\n"
     ]
    }
   ],
   "source": [
    "ef.portfolio_performance(verbose=True);"
   ]
  },
  {
   "cell_type": "code",
   "execution_count": 38,
   "metadata": {},
   "outputs": [
    {
     "data": {
      "image/png": "[encoded data removed]",
      "text/plain": [
       "<Figure size 720x432 with 1 Axes>"
      ]
     },
     "metadata": {
      "needs_background": "light"
     },
     "output_type": "display_data"
    }
   ],
   "source": [
    "pd.Series(weights).plot.barh(figsize=(10,6));"
   ]
  },
  {
   "cell_type": "code",
   "execution_count": 39,
   "metadata": {},
   "outputs": [
    {
     "name": "stdout",
     "output_type": "stream",
     "text": [
      "Net weight: 0.00\n"
     ]
    }
   ],
   "source": [
    "print(f\"Net weight: {sum(weights.values()):.2f}\")"
   ]
  },
  {
   "cell_type": "markdown",
   "metadata": {},
   "source": [
    "## Efficient semi-variance optimization\n",
    "\n",
    "In this example, we will minimise the portfolio semivariance (i.e downside volatility) subject to a return constraint (target 20%).\n",
    "\n",
    "There are actually two ways of doing this in PyPortfolioOpt. The first is the \"intuitive\" way. We compute a semicovariance matrix, and pass this into `EfficientFrontier` (just like we would do for the exponential cov matrix or the Ledoit-Wolf shrunk matrix)."
   ]
  },
  {
   "cell_type": "code",
   "execution_count": 40,
   "metadata": {},
   "outputs": [
    {
     "data": {
      "image/png": "[encoded data removed]",
      "text/plain": [
       "<Figure size 432x288 with 2 Axes>"
      ]
     },
     "metadata": {
      "needs_background": "light"
     },
     "output_type": "display_data"
    }
   ],
   "source": [
    "semicov = risk_models.semicovariance(prices, benchmark=0)\n",
    "plotting.plot_covariance(semicov);"
   ]
  },
  {
   "cell_type": "code",
   "execution_count": 41,
   "metadata": {},
   "outputs": [
    {
     "data": {
      "text/plain": [
       "OrderedDict([('ACN', 0.25538),\n",
       "             ('AMZN', 0.0),\n",
       "             ('COST', 0.08757),\n",
       "             ('DIS', 0.0),\n",
       "             ('F', 0.0),\n",
       "             ('GILD', 0.00756),\n",
       "             ('JPM', 0.0),\n",
       "             ('KO', 0.12835),\n",
       "             ('LUV', 0.0),\n",
       "             ('MA', 0.31368),\n",
       "             ('MSFT', 0.0),\n",
       "             ('PFE', 0.0479),\n",
       "             ('TSLA', 0.151),\n",
       "             ('UNH', 0.0),\n",
       "             ('XOM', 0.00855)])"
      ]
     },
     "execution_count": 41,
     "metadata": {},
     "output_type": "execute_result"
    }
   ],
   "source": [
    "ef = EfficientFrontier(mu, semicov)\n",
    "ef.efficient_return(0.2)\n",
    "weights = ef.clean_weights()\n",
    "weights\n"
   ]
  },
  {
   "cell_type": "code",
   "execution_count": 42,
   "metadata": {},
   "outputs": [
    {
     "name": "stdout",
     "output_type": "stream",
     "text": [
      "Expected annual return: 22.9%\n",
      "Annual volatility: 8.9%\n",
      "Sharpe Ratio: 2.36\n"
     ]
    }
   ],
   "source": [
    "ef.portfolio_performance(verbose=True);"
   ]
  },
  {
   "cell_type": "markdown",
   "metadata": {},
   "source": [
    "However, this solution is not truly optimal in mean-semivariance space. To do the optimization properly, we must use the `EfficientSemivariance` class. This requires us to first compute the returns and drop NaNs."
   ]
  },
  {
   "cell_type": "code",
   "execution_count": 43,
   "metadata": {},
   "outputs": [],
   "source": [
    "returns = expected_returns.returns_from_prices(prices)\n",
    "returns = returns.dropna()"
   ]
  },
  {
   "cell_type": "code",
   "execution_count": 44,
   "metadata": {},
   "outputs": [
    {
     "name": "stdout",
     "output_type": "stream",
     "text": [
      "Expected annual return: 20.0%\n",
      "Annual semi-deviation: 10.2%\n",
      "Sortino Ratio: 1.76\n"
     ]
    }
   ],
   "source": [
    "from pypfopt import EfficientSemivariance\n",
    "\n",
    "es = EfficientSemivariance(mu, returns)\n",
    "es.efficient_return(0.2)\n",
    "es.portfolio_performance(verbose=True);\n"
   ]
  },
  {
   "cell_type": "markdown",
   "metadata": {},
   "source": [
    "To compare this with the heuristic solution, I will use a quick hack: replacing the `es.weights` with `es.weights` and running `es.portfolio_performance` again. Please don't be encouraged to do this in real life!"
   ]
  },
  {
   "cell_type": "code",
   "execution_count": 45,
   "metadata": {},
   "outputs": [
    {
     "name": "stdout",
     "output_type": "stream",
     "text": [
      "Expected annual return: 22.9%\n",
      "Annual semi-deviation: 14.3%\n",
      "Sortino Ratio: 1.46\n"
     ]
    }
   ],
   "source": [
    "es.weights = ef.weights\n",
    "es.portfolio_performance(verbose=True);"
   ]
  },
  {
   "cell_type": "markdown",
   "metadata": {},
   "source": [
    "We see that the heuristic method has a significantly lower Sortino ratio, and much higher semivariance."
   ]
  },
  {
   "cell_type": "markdown",
   "metadata": {},
   "source": [
    "## Efficient CVaR optimization\n",
    "\n",
    "In this example, we will find the portfolio that maximises return subject to a CVaR constraint.\n",
    "\n",
    "Before doing this, let's first compute the 95%-CVaR for the max-sharpe portfolio."
   ]
  },
  {
   "cell_type": "code",
   "execution_count": 46,
   "metadata": {},
   "outputs": [
    {
     "data": {
      "text/html": [
       "<div>\n",
       "<style scoped>\n",
       "    .dataframe tbody tr th:only-of-type {\n",
       "        vertical-align: middle;\n",
       "    }\n",
       "\n",
       "    .dataframe tbody tr th {\n",
       "        vertical-align: top;\n",
       "    }\n",
       "\n",
       "    .dataframe thead th {\n",
       "        text-align: right;\n",
       "    }\n",
       "</style>\n",
       "<table border=\"1\" class=\"dataframe\">\n",
       "  <thead>\n",
       "    <tr style=\"text-align: right;\">\n",
       "      <th></th>\n",
       "      <th>ACN</th>\n",
       "      <th>AMZN</th>\n",
       "      <th>COST</th>\n",
       "      <th>DIS</th>\n",
       "      <th>F</th>\n",
       "      <th>GILD</th>\n",
       "      <th>JPM</th>\n",
       "      <th>KO</th>\n",
       "      <th>LUV</th>\n",
       "      <th>MA</th>\n",
       "      <th>MSFT</th>\n",
       "      <th>PFE</th>\n",
       "      <th>TSLA</th>\n",
       "      <th>UNH</th>\n",
       "      <th>XOM</th>\n",
       "    </tr>\n",
       "    <tr>\n",
       "      <th>Date</th>\n",
       "      <th></th>\n",
       "      <th></th>\n",
       "      <th></th>\n",
       "      <th></th>\n",
       "      <th></th>\n",
       "      <th></th>\n",
       "      <th></th>\n",
       "      <th></th>\n",
       "      <th></th>\n",
       "      <th></th>\n",
       "      <th></th>\n",
       "      <th></th>\n",
       "      <th></th>\n",
       "      <th></th>\n",
       "      <th></th>\n",
       "    </tr>\n",
       "  </thead>\n",
       "  <tbody>\n",
       "    <tr>\n",
       "      <th>2010-06-30</th>\n",
       "      <td>0.000000</td>\n",
       "      <td>0.005985</td>\n",
       "      <td>-0.014381</td>\n",
       "      <td>-0.024768</td>\n",
       "      <td>0.020243</td>\n",
       "      <td>-0.019731</td>\n",
       "      <td>-0.012143</td>\n",
       "      <td>-0.004173</td>\n",
       "      <td>0.000000</td>\n",
       "      <td>-0.017045</td>\n",
       "      <td>-0.012870</td>\n",
       "      <td>-0.001400</td>\n",
       "      <td>-0.002512</td>\n",
       "      <td>-0.008033</td>\n",
       "      <td>-0.003840</td>\n",
       "    </tr>\n",
       "    <tr>\n",
       "      <th>2010-07-01</th>\n",
       "      <td>-0.009573</td>\n",
       "      <td>0.015559</td>\n",
       "      <td>0.001276</td>\n",
       "      <td>-0.000317</td>\n",
       "      <td>0.048611</td>\n",
       "      <td>-0.004084</td>\n",
       "      <td>-0.013129</td>\n",
       "      <td>-0.001796</td>\n",
       "      <td>-0.010802</td>\n",
       "      <td>0.016652</td>\n",
       "      <td>0.006519</td>\n",
       "      <td>-0.002104</td>\n",
       "      <td>-0.078472</td>\n",
       "      <td>-0.019366</td>\n",
       "      <td>-0.008060</td>\n",
       "    </tr>\n",
       "    <tr>\n",
       "      <th>2010-07-02</th>\n",
       "      <td>-0.008882</td>\n",
       "      <td>-0.016402</td>\n",
       "      <td>-0.012204</td>\n",
       "      <td>-0.003493</td>\n",
       "      <td>-0.027436</td>\n",
       "      <td>0.021383</td>\n",
       "      <td>-0.006929</td>\n",
       "      <td>0.000400</td>\n",
       "      <td>-0.021838</td>\n",
       "      <td>0.000345</td>\n",
       "      <td>0.004749</td>\n",
       "      <td>-0.006325</td>\n",
       "      <td>-0.125683</td>\n",
       "      <td>0.016158</td>\n",
       "      <td>-0.000707</td>\n",
       "    </tr>\n",
       "    <tr>\n",
       "      <th>2010-07-06</th>\n",
       "      <td>0.012388</td>\n",
       "      <td>0.008430</td>\n",
       "      <td>-0.004242</td>\n",
       "      <td>0.010835</td>\n",
       "      <td>-0.011673</td>\n",
       "      <td>-0.002868</td>\n",
       "      <td>0.013955</td>\n",
       "      <td>0.007593</td>\n",
       "      <td>-0.011163</td>\n",
       "      <td>-0.013513</td>\n",
       "      <td>0.023636</td>\n",
       "      <td>0.010608</td>\n",
       "      <td>-0.160938</td>\n",
       "      <td>0.020848</td>\n",
       "      <td>0.015733</td>\n",
       "    </tr>\n",
       "    <tr>\n",
       "      <th>2010-07-07</th>\n",
       "      <td>0.022129</td>\n",
       "      <td>0.030620</td>\n",
       "      <td>0.005371</td>\n",
       "      <td>0.044767</td>\n",
       "      <td>0.042323</td>\n",
       "      <td>0.004889</td>\n",
       "      <td>0.050096</td>\n",
       "      <td>0.020623</td>\n",
       "      <td>0.062088</td>\n",
       "      <td>0.037694</td>\n",
       "      <td>0.020151</td>\n",
       "      <td>0.023093</td>\n",
       "      <td>-0.019243</td>\n",
       "      <td>0.010730</td>\n",
       "      <td>0.016881</td>\n",
       "    </tr>\n",
       "  </tbody>\n",
       "</table>\n",
       "</div>"
      ],
      "text/plain": [
       "                 ACN      AMZN      COST       DIS         F      GILD  \\\n",
       "Date                                                                     \n",
       "2010-06-30  0.000000  0.005985 -0.014381 -0.024768  0.020243 -0.019731   \n",
       "2010-07-01 -0.009573  0.015559  0.001276 -0.000317  0.048611 -0.004084   \n",
       "2010-07-02 -0.008882 -0.016402 -0.012204 -0.003493 -0.027436  0.021383   \n",
       "2010-07-06  0.012388  0.008430 -0.004242  0.010835 -0.011673 -0.002868   \n",
       "2010-07-07  0.022129  0.030620  0.005371  0.044767  0.042323  0.004889   \n",
       "\n",
       "                 JPM        KO       LUV        MA      MSFT       PFE  \\\n",
       "Date                                                                     \n",
       "2010-06-30 -0.012143 -0.004173  0.000000 -0.017045 -0.012870 -0.001400   \n",
       "2010-07-01 -0.013129 -0.001796 -0.010802  0.016652  0.006519 -0.002104   \n",
       "2010-07-02 -0.006929  0.000400 -0.021838  0.000345  0.004749 -0.006325   \n",
       "2010-07-06  0.013955  0.007593 -0.011163 -0.013513  0.023636  0.010608   \n",
       "2010-07-07  0.050096  0.020623  0.062088  0.037694  0.020151  0.023093   \n",
       "\n",
       "                TSLA       UNH       XOM  \n",
       "Date                                      \n",
       "2010-06-30 -0.002512 -0.008033 -0.003840  \n",
       "2010-07-01 -0.078472 -0.019366 -0.008060  \n",
       "2010-07-02 -0.125683  0.016158 -0.000707  \n",
       "2010-07-06 -0.160938  0.020848  0.015733  \n",
       "2010-07-07 -0.019243  0.010730  0.016881  "
      ]
     },
     "execution_count": 46,
     "metadata": {},
     "output_type": "execute_result"
    }
   ],
   "source": [
    "returns = expected_returns.returns_from_prices(prices).dropna()\n",
    "returns.head()"
   ]
  },
  {
   "cell_type": "code",
   "execution_count": 47,
   "metadata": {},
   "outputs": [
    {
     "name": "stdout",
     "output_type": "stream",
     "text": [
      "Expected annual return: 25.7%\n",
      "Annual volatility: 12.8%\n",
      "Sharpe Ratio: 1.85\n"
     ]
    }
   ],
   "source": [
    "ef = EfficientFrontier(mu, S)\n",
    "ef.max_sharpe()\n",
    "weight_arr = ef.weights\n",
    "ef.portfolio_performance(verbose=True);"
   ]
  },
  {
   "cell_type": "code",
   "execution_count": 48,
   "metadata": {},
   "outputs": [
    {
     "data": {
      "image/png": "[encoded data removed]",
      "text/plain": [
       "<Figure size 432x288 with 1 Axes>"
      ]
     },
     "metadata": {
      "needs_background": "light"
     },
     "output_type": "display_data"
    }
   ],
   "source": [
    "# Compute CVaR\n",
    "portfolio_rets = (returns * weight_arr).sum(axis=1)\n",
    "portfolio_rets.hist(bins=50);"
   ]
  },
  {
   "cell_type": "code",
   "execution_count": 49,
   "metadata": {},
   "outputs": [
    {
     "name": "stdout",
     "output_type": "stream",
     "text": [
      "VaR: -2.17%\n",
      "CVaR: -3.32%\n"
     ]
    }
   ],
   "source": [
    "# VaR\n",
    "var = portfolio_rets.quantile(0.05)\n",
    "cvar = portfolio_rets[portfolio_rets <= var].mean()\n",
    "print(\"VaR: {:.2f}%\".format(100*var))\n",
    "print(\"CVaR: {:.2f}%\".format(100*cvar))"
   ]
  },
  {
   "cell_type": "markdown",
   "metadata": {},
   "source": [
    "This value of the CVaR means that our average loss on the worst 5% of days will be -3.35%. Let's say that this were beyond our comfort zone (for a \\\\$100,000 portfolio, this would mean losing \\\\$3350 in a day).\n",
    "\n",
    "Let's firstly construct the portfolio with the minimum CVaR:"
   ]
  },
  {
   "cell_type": "code",
   "execution_count": 50,
   "metadata": {},
   "outputs": [
    {
     "name": "stdout",
     "output_type": "stream",
     "text": [
      "Expected annual return: 18.2%\n",
      "Conditional Value at Risk: 2.14%\n"
     ]
    }
   ],
   "source": [
    "from pypfopt import EfficientCVaR\n",
    "\n",
    "ec = EfficientCVaR(mu, returns)\n",
    "ec.min_cvar()\n",
    "ec.portfolio_performance(verbose=True);"
   ]
  },
  {
   "cell_type": "markdown",
   "metadata": {},
   "source": [
    "We have significantly reduced the CVaR, but at the cost of a large reduction in returns. We can use `efficient_risk` to maximise the return for a target risk. Let's say that a 2.5% CVaR is acceptable."
   ]
  },
  {
   "cell_type": "code",
   "execution_count": 51,
   "metadata": {},
   "outputs": [
    {
     "name": "stdout",
     "output_type": "stream",
     "text": [
      "Expected annual return: 24.9%\n",
      "Conditional Value at Risk: 2.50%\n"
     ]
    }
   ],
   "source": [
    "from pypfopt import EfficientCVaR\n",
    "\n",
    "ec = EfficientCVaR(mu, returns)\n",
    "ec.efficient_risk(target_cvar=0.025)\n",
    "ec.portfolio_performance(verbose=True);"
   ]
  },
  {
   "cell_type": "markdown",
   "metadata": {},
   "source": [
    "We now have similar returns to before (24.7% vs 25.8%), but with a lower tail risk (2.50% CVaR vs 3.35%). "
   ]
  },
  {
   "cell_type": "markdown",
   "metadata": {},
   "source": [
    "## Plotting - Unconstrained\n",
    "\n",
    "To plot the unconstrained efficient frontier, it is easiest to use the critical line algorithm. "
   ]
  },
  {
   "cell_type": "code",
   "execution_count": 54,
   "metadata": {},
   "outputs": [
    {
     "name": "stdout",
     "output_type": "stream",
     "text": [
      "Expected annual return: 25.5%\n",
      "Annual volatility: 12.7%\n",
      "Sharpe Ratio: 1.85\n"
     ]
    }
   ],
   "source": [
    "from pypfopt import CLA, plotting\n",
    "\n",
    "cla = CLA(mu, S)\n",
    "cla.max_sharpe()\n",
    "cla.portfolio_performance(verbose=True);"
   ]
  },
  {
   "cell_type": "code",
   "execution_count": 55,
   "metadata": {},
   "outputs": [
    {
     "data": {
      "image/png": "[encoded data removed]",
      "text/plain": [
       "<Figure size 432x288 with 1 Axes>"
      ]
     },
     "metadata": {
      "needs_background": "light"
     },
     "output_type": "display_data"
    }
   ],
   "source": [
    "ax = plotting.plot_efficient_frontier(cla, showfig=False)"
   ]
  },
  {
   "cell_type": "markdown",
   "metadata": {},
   "source": [
    "## Plotting - Constrained"
   ]
  },
  {
   "cell_type": "markdown",
   "metadata": {},
   "source": [
    "In this example, we will plot the efficient frontier corresponding to portfolios with a constraint on exposure to MSFT, AMZN, and TSLA (e.g maybe we want to avoid big tech)."
   ]
  },
  {
   "cell_type": "code",
   "execution_count": 59,
   "metadata": {},
   "outputs": [],
   "source": [
    "import cvxpy as cp\n",
    "\n",
    "mu = expected_returns.capm_return(prices)\n",
    "S = risk_models.CovarianceShrinkage(prices).ledoit_wolf()\n",
    "\n",
    "ef = EfficientFrontier(mu, S,)\n",
    "big_tech_indices = [t in {\"MSFT\", \"AMZN\", \"TSLA\"} for t in tickers]\n",
    "ef.add_constraint(lambda w: cp.sum(w[big_tech_indices]) <= 0.3)"
   ]
  },
  {
   "cell_type": "markdown",
   "metadata": {},
   "source": [
    "As per the docs, *before* we call any optimization function, we should pass this to the plotting module:"
   ]
  },
  {
   "cell_type": "code",
   "execution_count": 60,
   "metadata": {},
   "outputs": [
    {
     "data": {
      "image/png": "[encoded data removed]",
      "text/plain": [
       "<Figure size 432x288 with 1 Axes>"
      ]
     },
     "metadata": {
      "needs_background": "light"
     },
     "output_type": "display_data"
    }
   ],
   "source": [
    "ax = plotting.plot_efficient_frontier(ef, ef_param=\"risk\", \n",
    "                                      ef_param_range=np.linspace(0.12, 0.4, 50), \n",
    "                                      showfig=False);"
   ]
  },
  {
   "cell_type": "markdown",
   "metadata": {},
   "source": [
    "## Complex plots\n",
    "\n",
    "The `plotting` module allows you to pass in an `ax`, on top of which the plots are added. This allows you to build complex plots. \n",
    "\n",
    "In this example, we will plot the efficient frontier as well as 10,000 simulated portfolios. \n",
    "\n",
    "To generate the simulated portfolios, we will sample random weights from the Dirichlet distribution (these are already normalised):"
   ]
  },
  {
   "cell_type": "code",
   "execution_count": 61,
   "metadata": {},
   "outputs": [
    {
     "name": "stdout",
     "output_type": "stream",
     "text": [
      "Sample portfolio returns: [0.24980688 0.23871109 0.21713976 ... 0.23334458 0.21635222 0.2099227 ]\n",
      "Sample portfolio volatilities: 0       0.146543\n",
      "1       0.153048\n",
      "2       0.141004\n",
      "3       0.165934\n",
      "4       0.174401\n",
      "          ...   \n",
      "9995    0.151386\n",
      "9996    0.157501\n",
      "9997    0.165231\n",
      "9998    0.158201\n",
      "9999    0.150763\n",
      "Length: 10000, dtype: float64\n"
     ]
    }
   ],
   "source": [
    "n_samples = 10000\n",
    "w = np.random.dirichlet(np.ones(len(mu)), n_samples)\n",
    "rets = w.dot(mu)\n",
    "stds = np.sqrt((w.T * (S @ w.T)).sum(axis=0))\n",
    "sharpes = rets / stds\n",
    "\n",
    "print(\"Sample portfolio returns:\", rets)\n",
    "print(\"Sample portfolio volatilities:\", stds)"
   ]
  },
  {
   "cell_type": "markdown",
   "metadata": {},
   "source": [
    "Note that the above code is equivalent to generating samples via a for loop (just more efficient)"
   ]
  },
  {
   "cell_type": "code",
   "execution_count": 62,
   "metadata": {},
   "outputs": [],
   "source": [
    "# mus = []\n",
    "# stds = []\n",
    "# sharpes = []\n",
    "# for _ in range(10000):\n",
    "#     w = np.random.dirichlet(np.ones(len(mu)))\n",
    "#     # w = np.random.rand(len(mu))\n",
    "#     # w /= w.sum()\n",
    "#     ret = mu.dot(w)\n",
    "#     std = np.sqrt(w.dot(S @ w))\n",
    "#     mus.append(ret)\n",
    "#     stds.append(std)\n",
    "#     sharpes.append(ret / std)"
   ]
  },
  {
   "cell_type": "code",
   "execution_count": 63,
   "metadata": {},
   "outputs": [
    {
     "data": {
      "image/png": "[encoded data removed]",
      "text/plain": [
       "<Figure size 432x288 with 1 Axes>"
      ]
     },
     "metadata": {
      "needs_background": "light"
     },
     "output_type": "display_data"
    }
   ],
   "source": [
    "# Plot efficient frontier with Monte Carlo sim\n",
    "ef = EfficientFrontier(mu, S)\n",
    "\n",
    "fig, ax = plt.subplots()\n",
    "plotting.plot_efficient_frontier(ef, ax=ax, show_assets=False)\n",
    "\n",
    "# Find and plot the tangency portfolio\n",
    "ef.max_sharpe()\n",
    "ret_tangent, std_tangent, _ = ef.portfolio_performance()\n",
    "ax.scatter(std_tangent, ret_tangent, marker=\"*\", s=100, c=\"r\", label=\"Max Sharpe\")\n",
    "\n",
    "# Plot random portfolios\n",
    "ax.scatter(stds, rets, marker=\".\", c=sharpes, cmap=\"viridis_r\")\n",
    "\n",
    "# Format\n",
    "ax.set_title(\"Efficient Frontier with random portfolios\")\n",
    "ax.legend()\n",
    "plt.tight_layout()\n",
    "plt.show()\n"
   ]
  },
  {
   "cell_type": "code",
   "execution_count": null,
   "metadata": {},
   "outputs": [],
   "source": []
  }
 ],
 "metadata": {
  "kernelspec": {
   "display_name": "Python 3",
   "language": "python",
   "name": "python3"
  },
  "language_info": {
   "codemirror_mode": {
    "name": "ipython",
    "version": 3
   },
   "file_extension": ".py",
   "mimetype": "text/x-python",
   "name": "python",
   "nbconvert_exporter": "python",
   "pygments_lexer": "ipython3",
   "version": "3.7.10"
  }
 },
 "nbformat": 4,
 "nbformat_minor": 4
}
